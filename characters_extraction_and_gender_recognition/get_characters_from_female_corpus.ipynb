{
 "cells": [
  {
   "cell_type": "markdown",
   "metadata": {},
   "source": [
    "## It is necessary to extract characters from the male and the female corpus at two separate times, due to the Genderize library limitations to the API requests."
   ]
  },
  {
   "cell_type": "code",
   "execution_count": 3,
   "metadata": {},
   "outputs": [],
   "source": [
    "import csv\n",
    "from charEx import *\n",
    "from genderRec import *\n",
    "import os\n",
    "from tqdm import tqdm #for progress bar"
   ]
  },
  {
   "cell_type": "markdown",
   "metadata": {},
   "source": [
    "#### All the file paths of the corpus are stored into a list:"
   ]
  },
  {
   "cell_type": "code",
   "execution_count": 1,
   "metadata": {},
   "outputs": [],
   "source": [
    "directory_paths = [\"../assets/Corpus/female-writers\"]#path to female or male writers\n",
    "file_paths = []\n",
    "\n",
    "for path in directory_paths:\n",
    "    for root, directories, files in os.walk(path):\n",
    "        for filename in files:\n",
    "            # Join the two strings in order to form the full filepath.\n",
    "            filepath = os.path.join(root, filename)\n",
    "            file_paths.append(filepath)"
   ]
  },
  {
   "cell_type": "markdown",
   "metadata": {},
   "source": [
    "#### Here the information realated to the characters is extracted. A dictionary of dictionaries is created to store all the different information about the number of characters per gender, the author's sex, the tile of the book, etc. This data will be used to build pandas Dataframes for the analytics. The output is a csv file containg the data coming from the dictionary."
   ]
  },
  {
   "cell_type": "code",
   "execution_count": 4,
   "metadata": {},
   "outputs": [
    {
     "name": "stderr",
     "output_type": "stream",
     "text": [
      "  0%|          | 0/157 [00:00<?, ?it/s]"
     ]
    },
    {
     "name": "stdout",
     "output_type": "stream",
     "text": [
      "Loaded dictionary from /Library/Frameworks/Python.framework/Versions/3.10/lib/python3.10/site-packages/genderComputer-0.1-py3.10.egg/genderComputer/../nameLists/gender.dict\n"
     ]
    },
    {
     "name": "stderr",
     "output_type": "stream",
     "text": [
      "  1%|          | 1/157 [00:03<08:44,  3.36s/it]"
     ]
    },
    {
     "name": "stdout",
     "output_type": "stream",
     "text": [
      "Finished initialization\n",
      "Loaded dictionary from /Library/Frameworks/Python.framework/Versions/3.10/lib/python3.10/site-packages/genderComputer-0.1-py3.10.egg/genderComputer/../nameLists/gender.dict\n",
      "Finished initialization\n"
     ]
    },
    {
     "name": "stderr",
     "output_type": "stream",
     "text": [
      "  1%|▏         | 2/157 [00:39<58:10, 22.52s/it]"
     ]
    },
    {
     "name": "stdout",
     "output_type": "stream",
     "text": [
      "Loaded dictionary from /Library/Frameworks/Python.framework/Versions/3.10/lib/python3.10/site-packages/genderComputer-0.1-py3.10.egg/genderComputer/../nameLists/gender.dict\n",
      "Finished initialization\n"
     ]
    },
    {
     "name": "stderr",
     "output_type": "stream",
     "text": [
      "  2%|▏         | 3/157 [01:18<1:17:51, 30.34s/it]"
     ]
    },
    {
     "name": "stdout",
     "output_type": "stream",
     "text": [
      "Loaded dictionary from /Library/Frameworks/Python.framework/Versions/3.10/lib/python3.10/site-packages/genderComputer-0.1-py3.10.egg/genderComputer/../nameLists/gender.dict\n",
      "Finished initialization\n"
     ]
    },
    {
     "name": "stderr",
     "output_type": "stream",
     "text": [
      "  3%|▎         | 4/157 [03:38<3:07:22, 73.48s/it]"
     ]
    },
    {
     "name": "stdout",
     "output_type": "stream",
     "text": [
      "Loaded dictionary from /Library/Frameworks/Python.framework/Versions/3.10/lib/python3.10/site-packages/genderComputer-0.1-py3.10.egg/genderComputer/../nameLists/gender.dict\n",
      "Finished initialization\n"
     ]
    },
    {
     "name": "stderr",
     "output_type": "stream",
     "text": [
      "  3%|▎         | 5/157 [03:43<2:03:46, 48.86s/it]"
     ]
    },
    {
     "name": "stdout",
     "output_type": "stream",
     "text": [
      "Loaded dictionary from /Library/Frameworks/Python.framework/Versions/3.10/lib/python3.10/site-packages/genderComputer-0.1-py3.10.egg/genderComputer/../nameLists/gender.dict\n"
     ]
    },
    {
     "name": "stderr",
     "output_type": "stream",
     "text": [
      "  4%|▍         | 6/157 [03:46<1:23:36, 33.22s/it]"
     ]
    },
    {
     "name": "stdout",
     "output_type": "stream",
     "text": [
      "Finished initialization\n",
      "Loaded dictionary from /Library/Frameworks/Python.framework/Versions/3.10/lib/python3.10/site-packages/genderComputer-0.1-py3.10.egg/genderComputer/../nameLists/gender.dict\n",
      "Finished initialization\n"
     ]
    },
    {
     "name": "stderr",
     "output_type": "stream",
     "text": [
      "  4%|▍         | 7/157 [04:05<1:11:28, 28.59s/it]"
     ]
    },
    {
     "name": "stdout",
     "output_type": "stream",
     "text": [
      "Loaded dictionary from /Library/Frameworks/Python.framework/Versions/3.10/lib/python3.10/site-packages/genderComputer-0.1-py3.10.egg/genderComputer/../nameLists/gender.dict\n",
      "Finished initialization\n"
     ]
    },
    {
     "name": "stderr",
     "output_type": "stream",
     "text": [
      "  5%|▌         | 8/157 [04:29<1:07:09, 27.05s/it]"
     ]
    },
    {
     "name": "stdout",
     "output_type": "stream",
     "text": [
      "Loaded dictionary from /Library/Frameworks/Python.framework/Versions/3.10/lib/python3.10/site-packages/genderComputer-0.1-py3.10.egg/genderComputer/../nameLists/gender.dict\n"
     ]
    },
    {
     "name": "stderr",
     "output_type": "stream",
     "text": [
      "  6%|▌         | 9/157 [04:33<49:05, 19.90s/it]  "
     ]
    },
    {
     "name": "stdout",
     "output_type": "stream",
     "text": [
      "Finished initialization\n",
      "Loaded dictionary from /Library/Frameworks/Python.framework/Versions/3.10/lib/python3.10/site-packages/genderComputer-0.1-py3.10.egg/genderComputer/../nameLists/gender.dict\n",
      "Finished initialization\n"
     ]
    },
    {
     "name": "stderr",
     "output_type": "stream",
     "text": [
      "  6%|▋         | 10/157 [04:45<42:20, 17.28s/it]"
     ]
    },
    {
     "name": "stdout",
     "output_type": "stream",
     "text": [
      "Loaded dictionary from /Library/Frameworks/Python.framework/Versions/3.10/lib/python3.10/site-packages/genderComputer-0.1-py3.10.egg/genderComputer/../nameLists/gender.dict\n",
      "Finished initialization\n"
     ]
    },
    {
     "name": "stderr",
     "output_type": "stream",
     "text": [
      "  7%|▋         | 11/157 [05:17<53:28, 21.97s/it]"
     ]
    },
    {
     "name": "stdout",
     "output_type": "stream",
     "text": [
      "Loaded dictionary from /Library/Frameworks/Python.framework/Versions/3.10/lib/python3.10/site-packages/genderComputer-0.1-py3.10.egg/genderComputer/../nameLists/gender.dict\n",
      "Finished initialization\n"
     ]
    },
    {
     "name": "stderr",
     "output_type": "stream",
     "text": [
      "  8%|▊         | 12/157 [05:47<58:46, 24.32s/it]"
     ]
    },
    {
     "name": "stdout",
     "output_type": "stream",
     "text": [
      "Loaded dictionary from /Library/Frameworks/Python.framework/Versions/3.10/lib/python3.10/site-packages/genderComputer-0.1-py3.10.egg/genderComputer/../nameLists/gender.dict\n",
      "Finished initialization\n"
     ]
    },
    {
     "name": "stderr",
     "output_type": "stream",
     "text": [
      "  8%|▊         | 13/157 [06:22<1:06:21, 27.65s/it]"
     ]
    },
    {
     "name": "stdout",
     "output_type": "stream",
     "text": [
      "Loaded dictionary from /Library/Frameworks/Python.framework/Versions/3.10/lib/python3.10/site-packages/genderComputer-0.1-py3.10.egg/genderComputer/../nameLists/gender.dict\n",
      "Finished initialization\n"
     ]
    },
    {
     "name": "stderr",
     "output_type": "stream",
     "text": [
      "  9%|▉         | 14/157 [06:29<50:50, 21.33s/it]  "
     ]
    },
    {
     "name": "stdout",
     "output_type": "stream",
     "text": [
      "Loaded dictionary from /Library/Frameworks/Python.framework/Versions/3.10/lib/python3.10/site-packages/genderComputer-0.1-py3.10.egg/genderComputer/../nameLists/gender.dict\n",
      "Finished initialization\n"
     ]
    },
    {
     "name": "stderr",
     "output_type": "stream",
     "text": [
      " 10%|▉         | 15/157 [06:56<54:31, 23.04s/it]"
     ]
    },
    {
     "name": "stdout",
     "output_type": "stream",
     "text": [
      "Loaded dictionary from /Library/Frameworks/Python.framework/Versions/3.10/lib/python3.10/site-packages/genderComputer-0.1-py3.10.egg/genderComputer/../nameLists/gender.dict\n",
      "Finished initialization\n"
     ]
    },
    {
     "name": "stderr",
     "output_type": "stream",
     "text": [
      " 10%|█         | 16/157 [07:01<41:49, 17.80s/it]"
     ]
    },
    {
     "name": "stdout",
     "output_type": "stream",
     "text": [
      "Loaded dictionary from /Library/Frameworks/Python.framework/Versions/3.10/lib/python3.10/site-packages/genderComputer-0.1-py3.10.egg/genderComputer/../nameLists/gender.dict\n",
      "Finished initialization\n"
     ]
    },
    {
     "name": "stderr",
     "output_type": "stream",
     "text": [
      " 11%|█         | 17/157 [07:27<46:43, 20.02s/it]"
     ]
    },
    {
     "name": "stdout",
     "output_type": "stream",
     "text": [
      "Loaded dictionary from /Library/Frameworks/Python.framework/Versions/3.10/lib/python3.10/site-packages/genderComputer-0.1-py3.10.egg/genderComputer/../nameLists/gender.dict\n",
      "Finished initialization\n"
     ]
    },
    {
     "name": "stderr",
     "output_type": "stream",
     "text": [
      " 11%|█▏        | 18/157 [07:37<39:48, 17.18s/it]"
     ]
    },
    {
     "name": "stdout",
     "output_type": "stream",
     "text": [
      "Loaded dictionary from /Library/Frameworks/Python.framework/Versions/3.10/lib/python3.10/site-packages/genderComputer-0.1-py3.10.egg/genderComputer/../nameLists/gender.dict\n",
      "Finished initialization\n"
     ]
    },
    {
     "name": "stderr",
     "output_type": "stream",
     "text": [
      " 12%|█▏        | 19/157 [08:10<50:06, 21.78s/it]"
     ]
    },
    {
     "name": "stdout",
     "output_type": "stream",
     "text": [
      "Loaded dictionary from /Library/Frameworks/Python.framework/Versions/3.10/lib/python3.10/site-packages/genderComputer-0.1-py3.10.egg/genderComputer/../nameLists/gender.dict\n",
      "Finished initialization\n"
     ]
    },
    {
     "name": "stderr",
     "output_type": "stream",
     "text": [
      " 13%|█▎        | 20/157 [08:29<48:02, 21.04s/it]"
     ]
    },
    {
     "name": "stdout",
     "output_type": "stream",
     "text": [
      "Loaded dictionary from /Library/Frameworks/Python.framework/Versions/3.10/lib/python3.10/site-packages/genderComputer-0.1-py3.10.egg/genderComputer/../nameLists/gender.dict\n",
      "Finished initialization\n"
     ]
    },
    {
     "name": "stderr",
     "output_type": "stream",
     "text": [
      " 13%|█▎        | 21/157 [08:35<37:13, 16.42s/it]"
     ]
    },
    {
     "name": "stdout",
     "output_type": "stream",
     "text": [
      "Loaded dictionary from /Library/Frameworks/Python.framework/Versions/3.10/lib/python3.10/site-packages/genderComputer-0.1-py3.10.egg/genderComputer/../nameLists/gender.dict\n",
      "Finished initialization\n"
     ]
    },
    {
     "name": "stderr",
     "output_type": "stream",
     "text": [
      " 14%|█▍        | 22/157 [08:57<40:53, 18.17s/it]"
     ]
    },
    {
     "name": "stdout",
     "output_type": "stream",
     "text": [
      "Loaded dictionary from /Library/Frameworks/Python.framework/Versions/3.10/lib/python3.10/site-packages/genderComputer-0.1-py3.10.egg/genderComputer/../nameLists/gender.dict\n",
      "Finished initialization\n"
     ]
    },
    {
     "name": "stderr",
     "output_type": "stream",
     "text": [
      " 15%|█▍        | 23/157 [10:35<1:33:55, 42.06s/it]"
     ]
    },
    {
     "name": "stdout",
     "output_type": "stream",
     "text": [
      "Loaded dictionary from /Library/Frameworks/Python.framework/Versions/3.10/lib/python3.10/site-packages/genderComputer-0.1-py3.10.egg/genderComputer/../nameLists/gender.dict\n",
      "Finished initialization\n"
     ]
    },
    {
     "name": "stderr",
     "output_type": "stream",
     "text": [
      " 15%|█▌        | 24/157 [11:31<1:42:27, 46.22s/it]"
     ]
    },
    {
     "name": "stdout",
     "output_type": "stream",
     "text": [
      "Loaded dictionary from /Library/Frameworks/Python.framework/Versions/3.10/lib/python3.10/site-packages/genderComputer-0.1-py3.10.egg/genderComputer/../nameLists/gender.dict\n",
      "Finished initialization\n"
     ]
    },
    {
     "name": "stderr",
     "output_type": "stream",
     "text": [
      " 16%|█▌        | 25/157 [11:51<1:24:52, 38.58s/it]"
     ]
    },
    {
     "name": "stdout",
     "output_type": "stream",
     "text": [
      "Loaded dictionary from /Library/Frameworks/Python.framework/Versions/3.10/lib/python3.10/site-packages/genderComputer-0.1-py3.10.egg/genderComputer/../nameLists/gender.dict\n",
      "Finished initialization\n"
     ]
    },
    {
     "name": "stderr",
     "output_type": "stream",
     "text": [
      " 17%|█▋        | 26/157 [12:25<1:20:47, 37.00s/it]"
     ]
    },
    {
     "name": "stdout",
     "output_type": "stream",
     "text": [
      "Loaded dictionary from /Library/Frameworks/Python.framework/Versions/3.10/lib/python3.10/site-packages/genderComputer-0.1-py3.10.egg/genderComputer/../nameLists/gender.dict\n",
      "Finished initialization\n"
     ]
    },
    {
     "name": "stderr",
     "output_type": "stream",
     "text": [
      " 17%|█▋        | 27/157 [12:30<59:13, 27.33s/it]  "
     ]
    },
    {
     "name": "stdout",
     "output_type": "stream",
     "text": [
      "Loaded dictionary from /Library/Frameworks/Python.framework/Versions/3.10/lib/python3.10/site-packages/genderComputer-0.1-py3.10.egg/genderComputer/../nameLists/gender.dict\n",
      "Finished initialization\n"
     ]
    },
    {
     "name": "stderr",
     "output_type": "stream",
     "text": [
      " 18%|█▊        | 28/157 [12:43<49:59, 23.25s/it]"
     ]
    },
    {
     "name": "stdout",
     "output_type": "stream",
     "text": [
      "Loaded dictionary from /Library/Frameworks/Python.framework/Versions/3.10/lib/python3.10/site-packages/genderComputer-0.1-py3.10.egg/genderComputer/../nameLists/gender.dict\n",
      "Finished initialization\n"
     ]
    },
    {
     "name": "stderr",
     "output_type": "stream",
     "text": [
      " 18%|█▊        | 29/157 [13:14<54:34, 25.58s/it]"
     ]
    },
    {
     "name": "stdout",
     "output_type": "stream",
     "text": [
      "Loaded dictionary from /Library/Frameworks/Python.framework/Versions/3.10/lib/python3.10/site-packages/genderComputer-0.1-py3.10.egg/genderComputer/../nameLists/gender.dict\n",
      "Finished initialization\n"
     ]
    },
    {
     "name": "stderr",
     "output_type": "stream",
     "text": [
      " 19%|█▉        | 30/157 [13:34<50:15, 23.74s/it]"
     ]
    },
    {
     "name": "stdout",
     "output_type": "stream",
     "text": [
      "Loaded dictionary from /Library/Frameworks/Python.framework/Versions/3.10/lib/python3.10/site-packages/genderComputer-0.1-py3.10.egg/genderComputer/../nameLists/gender.dict\n"
     ]
    },
    {
     "name": "stderr",
     "output_type": "stream",
     "text": [
      " 20%|█▉        | 31/157 [13:41<39:19, 18.72s/it]"
     ]
    },
    {
     "name": "stdout",
     "output_type": "stream",
     "text": [
      "Finished initialization\n",
      "Loaded dictionary from /Library/Frameworks/Python.framework/Versions/3.10/lib/python3.10/site-packages/genderComputer-0.1-py3.10.egg/genderComputer/../nameLists/gender.dict\n"
     ]
    },
    {
     "name": "stderr",
     "output_type": "stream",
     "text": [
      " 20%|██        | 32/157 [13:51<33:43, 16.19s/it]"
     ]
    },
    {
     "name": "stdout",
     "output_type": "stream",
     "text": [
      "Finished initialization\n",
      "Loaded dictionary from /Library/Frameworks/Python.framework/Versions/3.10/lib/python3.10/site-packages/genderComputer-0.1-py3.10.egg/genderComputer/../nameLists/gender.dict\n",
      "Finished initialization\n"
     ]
    },
    {
     "name": "stderr",
     "output_type": "stream",
     "text": [
      " 21%|██        | 33/157 [14:16<38:47, 18.77s/it]"
     ]
    },
    {
     "name": "stdout",
     "output_type": "stream",
     "text": [
      "Loaded dictionary from /Library/Frameworks/Python.framework/Versions/3.10/lib/python3.10/site-packages/genderComputer-0.1-py3.10.egg/genderComputer/../nameLists/gender.dict\n",
      "Finished initialization\n"
     ]
    },
    {
     "name": "stderr",
     "output_type": "stream",
     "text": [
      " 22%|██▏       | 34/157 [14:35<38:41, 18.87s/it]"
     ]
    },
    {
     "name": "stdout",
     "output_type": "stream",
     "text": [
      "Loaded dictionary from /Library/Frameworks/Python.framework/Versions/3.10/lib/python3.10/site-packages/genderComputer-0.1-py3.10.egg/genderComputer/../nameLists/gender.dict\n"
     ]
    },
    {
     "name": "stderr",
     "output_type": "stream",
     "text": [
      " 22%|██▏       | 35/157 [14:37<28:04, 13.81s/it]"
     ]
    },
    {
     "name": "stdout",
     "output_type": "stream",
     "text": [
      "Finished initialization\n",
      "Loaded dictionary from /Library/Frameworks/Python.framework/Versions/3.10/lib/python3.10/site-packages/genderComputer-0.1-py3.10.egg/genderComputer/../nameLists/gender.dict\n",
      "Finished initialization\n"
     ]
    },
    {
     "name": "stderr",
     "output_type": "stream",
     "text": [
      " 23%|██▎       | 36/157 [15:00<33:37, 16.67s/it]"
     ]
    },
    {
     "name": "stdout",
     "output_type": "stream",
     "text": [
      "Loaded dictionary from /Library/Frameworks/Python.framework/Versions/3.10/lib/python3.10/site-packages/genderComputer-0.1-py3.10.egg/genderComputer/../nameLists/gender.dict\n",
      "Finished initialization\n"
     ]
    },
    {
     "name": "stderr",
     "output_type": "stream",
     "text": [
      " 24%|██▎       | 37/157 [15:23<36:44, 18.37s/it]"
     ]
    },
    {
     "name": "stdout",
     "output_type": "stream",
     "text": [
      "Loaded dictionary from /Library/Frameworks/Python.framework/Versions/3.10/lib/python3.10/site-packages/genderComputer-0.1-py3.10.egg/genderComputer/../nameLists/gender.dict\n"
     ]
    },
    {
     "name": "stderr",
     "output_type": "stream",
     "text": [
      " 24%|██▍       | 38/157 [15:29<29:32, 14.89s/it]"
     ]
    },
    {
     "name": "stdout",
     "output_type": "stream",
     "text": [
      "Finished initialization\n",
      "Loaded dictionary from /Library/Frameworks/Python.framework/Versions/3.10/lib/python3.10/site-packages/genderComputer-0.1-py3.10.egg/genderComputer/../nameLists/gender.dict\n",
      "Finished initialization\n"
     ]
    },
    {
     "name": "stderr",
     "output_type": "stream",
     "text": [
      " 25%|██▍       | 39/157 [15:59<37:58, 19.31s/it]"
     ]
    },
    {
     "name": "stdout",
     "output_type": "stream",
     "text": [
      "Loaded dictionary from /Library/Frameworks/Python.framework/Versions/3.10/lib/python3.10/site-packages/genderComputer-0.1-py3.10.egg/genderComputer/../nameLists/gender.dict\n",
      "Finished initialization\n"
     ]
    },
    {
     "name": "stderr",
     "output_type": "stream",
     "text": [
      " 25%|██▌       | 40/157 [16:29<43:55, 22.52s/it]"
     ]
    },
    {
     "name": "stdout",
     "output_type": "stream",
     "text": [
      "Loaded dictionary from /Library/Frameworks/Python.framework/Versions/3.10/lib/python3.10/site-packages/genderComputer-0.1-py3.10.egg/genderComputer/../nameLists/gender.dict\n",
      "Finished initialization\n"
     ]
    },
    {
     "name": "stderr",
     "output_type": "stream",
     "text": [
      " 26%|██▌       | 41/157 [17:25<1:03:00, 32.59s/it]"
     ]
    },
    {
     "name": "stdout",
     "output_type": "stream",
     "text": [
      "Loaded dictionary from /Library/Frameworks/Python.framework/Versions/3.10/lib/python3.10/site-packages/genderComputer-0.1-py3.10.egg/genderComputer/../nameLists/gender.dict\n"
     ]
    },
    {
     "name": "stderr",
     "output_type": "stream",
     "text": [
      " 27%|██▋       | 42/157 [17:40<52:12, 27.24s/it]  "
     ]
    },
    {
     "name": "stdout",
     "output_type": "stream",
     "text": [
      "Finished initialization\n",
      "Loaded dictionary from /Library/Frameworks/Python.framework/Versions/3.10/lib/python3.10/site-packages/genderComputer-0.1-py3.10.egg/genderComputer/../nameLists/gender.dict\n",
      "Finished initialization\n"
     ]
    },
    {
     "name": "stderr",
     "output_type": "stream",
     "text": [
      " 27%|██▋       | 43/157 [18:01<48:27, 25.51s/it]"
     ]
    },
    {
     "name": "stdout",
     "output_type": "stream",
     "text": [
      "Loaded dictionary from /Library/Frameworks/Python.framework/Versions/3.10/lib/python3.10/site-packages/genderComputer-0.1-py3.10.egg/genderComputer/../nameLists/gender.dict\n",
      "Finished initialization\n"
     ]
    },
    {
     "name": "stderr",
     "output_type": "stream",
     "text": [
      " 28%|██▊       | 44/157 [18:07<36:58, 19.63s/it]"
     ]
    },
    {
     "name": "stdout",
     "output_type": "stream",
     "text": [
      "Loaded dictionary from /Library/Frameworks/Python.framework/Versions/3.10/lib/python3.10/site-packages/genderComputer-0.1-py3.10.egg/genderComputer/../nameLists/gender.dict\n",
      "Finished initialization\n"
     ]
    },
    {
     "name": "stderr",
     "output_type": "stream",
     "text": [
      " 29%|██▊       | 45/157 [18:14<29:35, 15.85s/it]"
     ]
    },
    {
     "name": "stdout",
     "output_type": "stream",
     "text": [
      "Loaded dictionary from /Library/Frameworks/Python.framework/Versions/3.10/lib/python3.10/site-packages/genderComputer-0.1-py3.10.egg/genderComputer/../nameLists/gender.dict\n",
      "Finished initialization\n"
     ]
    },
    {
     "name": "stderr",
     "output_type": "stream",
     "text": [
      " 29%|██▉       | 46/157 [18:35<32:08, 17.37s/it]"
     ]
    },
    {
     "name": "stdout",
     "output_type": "stream",
     "text": [
      "Loaded dictionary from /Library/Frameworks/Python.framework/Versions/3.10/lib/python3.10/site-packages/genderComputer-0.1-py3.10.egg/genderComputer/../nameLists/gender.dict\n",
      "Finished initialization\n"
     ]
    },
    {
     "name": "stderr",
     "output_type": "stream",
     "text": [
      " 30%|██▉       | 47/157 [18:48<29:33, 16.12s/it]"
     ]
    },
    {
     "name": "stdout",
     "output_type": "stream",
     "text": [
      "Loaded dictionary from /Library/Frameworks/Python.framework/Versions/3.10/lib/python3.10/site-packages/genderComputer-0.1-py3.10.egg/genderComputer/../nameLists/gender.dict\n"
     ]
    },
    {
     "name": "stderr",
     "output_type": "stream",
     "text": [
      " 31%|███       | 48/157 [18:51<22:01, 12.12s/it]"
     ]
    },
    {
     "name": "stdout",
     "output_type": "stream",
     "text": [
      "Finished initialization\n",
      "Loaded dictionary from /Library/Frameworks/Python.framework/Versions/3.10/lib/python3.10/site-packages/genderComputer-0.1-py3.10.egg/genderComputer/../nameLists/gender.dict\n",
      "Finished initialization\n"
     ]
    },
    {
     "name": "stderr",
     "output_type": "stream",
     "text": [
      " 31%|███       | 49/157 [19:15<27:56, 15.52s/it]"
     ]
    },
    {
     "name": "stdout",
     "output_type": "stream",
     "text": [
      "Loaded dictionary from /Library/Frameworks/Python.framework/Versions/3.10/lib/python3.10/site-packages/genderComputer-0.1-py3.10.egg/genderComputer/../nameLists/gender.dict\n",
      "Finished initialization\n"
     ]
    },
    {
     "name": "stderr",
     "output_type": "stream",
     "text": [
      " 32%|███▏      | 50/157 [19:47<36:53, 20.69s/it]"
     ]
    },
    {
     "name": "stdout",
     "output_type": "stream",
     "text": [
      "Loaded dictionary from /Library/Frameworks/Python.framework/Versions/3.10/lib/python3.10/site-packages/genderComputer-0.1-py3.10.egg/genderComputer/../nameLists/gender.dict\n",
      "Finished initialization\n"
     ]
    },
    {
     "name": "stderr",
     "output_type": "stream",
     "text": [
      " 32%|███▏      | 51/157 [20:11<38:05, 21.56s/it]"
     ]
    },
    {
     "name": "stdout",
     "output_type": "stream",
     "text": [
      "Loaded dictionary from /Library/Frameworks/Python.framework/Versions/3.10/lib/python3.10/site-packages/genderComputer-0.1-py3.10.egg/genderComputer/../nameLists/gender.dict\n"
     ]
    },
    {
     "name": "stderr",
     "output_type": "stream",
     "text": [
      " 33%|███▎      | 52/157 [20:12<26:43, 15.27s/it]"
     ]
    },
    {
     "name": "stdout",
     "output_type": "stream",
     "text": [
      "Finished initialization\n",
      "Loaded dictionary from /Library/Frameworks/Python.framework/Versions/3.10/lib/python3.10/site-packages/genderComputer-0.1-py3.10.egg/genderComputer/../nameLists/gender.dict\n"
     ]
    },
    {
     "name": "stderr",
     "output_type": "stream",
     "text": [
      " 34%|███▍      | 53/157 [20:15<20:13, 11.67s/it]"
     ]
    },
    {
     "name": "stdout",
     "output_type": "stream",
     "text": [
      "Finished initialization\n",
      "Loaded dictionary from /Library/Frameworks/Python.framework/Versions/3.10/lib/python3.10/site-packages/genderComputer-0.1-py3.10.egg/genderComputer/../nameLists/gender.dict\n",
      "Finished initialization\n"
     ]
    },
    {
     "name": "stderr",
     "output_type": "stream",
     "text": [
      " 34%|███▍      | 54/157 [20:21<17:02,  9.92s/it]"
     ]
    },
    {
     "name": "stdout",
     "output_type": "stream",
     "text": [
      "Loaded dictionary from /Library/Frameworks/Python.framework/Versions/3.10/lib/python3.10/site-packages/genderComputer-0.1-py3.10.egg/genderComputer/../nameLists/gender.dict\n",
      "Finished initialization\n"
     ]
    },
    {
     "name": "stderr",
     "output_type": "stream",
     "text": [
      " 35%|███▌      | 55/157 [20:41<22:19, 13.13s/it]"
     ]
    },
    {
     "name": "stdout",
     "output_type": "stream",
     "text": [
      "Loaded dictionary from /Library/Frameworks/Python.framework/Versions/3.10/lib/python3.10/site-packages/genderComputer-0.1-py3.10.egg/genderComputer/../nameLists/gender.dict\n"
     ]
    },
    {
     "name": "stderr",
     "output_type": "stream",
     "text": [
      " 36%|███▌      | 56/157 [20:59<24:38, 14.63s/it]"
     ]
    },
    {
     "name": "stdout",
     "output_type": "stream",
     "text": [
      "Finished initialization\n",
      "Loaded dictionary from /Library/Frameworks/Python.framework/Versions/3.10/lib/python3.10/site-packages/genderComputer-0.1-py3.10.egg/genderComputer/../nameLists/gender.dict\n"
     ]
    },
    {
     "name": "stderr",
     "output_type": "stream",
     "text": [
      " 36%|███▋      | 57/157 [21:12<23:31, 14.11s/it]"
     ]
    },
    {
     "name": "stdout",
     "output_type": "stream",
     "text": [
      "Finished initialization\n",
      "Loaded dictionary from /Library/Frameworks/Python.framework/Versions/3.10/lib/python3.10/site-packages/genderComputer-0.1-py3.10.egg/genderComputer/../nameLists/gender.dict\n"
     ]
    },
    {
     "name": "stderr",
     "output_type": "stream",
     "text": [
      " 37%|███▋      | 58/157 [21:19<19:25, 11.77s/it]"
     ]
    },
    {
     "name": "stdout",
     "output_type": "stream",
     "text": [
      "Finished initialization\n",
      "Loaded dictionary from /Library/Frameworks/Python.framework/Versions/3.10/lib/python3.10/site-packages/genderComputer-0.1-py3.10.egg/genderComputer/../nameLists/gender.dict\n"
     ]
    },
    {
     "name": "stderr",
     "output_type": "stream",
     "text": [
      " 38%|███▊      | 59/157 [21:22<15:09,  9.28s/it]"
     ]
    },
    {
     "name": "stdout",
     "output_type": "stream",
     "text": [
      "Finished initialization\n",
      "Loaded dictionary from /Library/Frameworks/Python.framework/Versions/3.10/lib/python3.10/site-packages/genderComputer-0.1-py3.10.egg/genderComputer/../nameLists/gender.dict\n",
      "Finished initialization\n"
     ]
    },
    {
     "name": "stderr",
     "output_type": "stream",
     "text": [
      " 38%|███▊      | 60/157 [21:55<26:34, 16.44s/it]"
     ]
    },
    {
     "name": "stdout",
     "output_type": "stream",
     "text": [
      "Loaded dictionary from /Library/Frameworks/Python.framework/Versions/3.10/lib/python3.10/site-packages/genderComputer-0.1-py3.10.egg/genderComputer/../nameLists/gender.dict\n"
     ]
    },
    {
     "name": "stderr",
     "output_type": "stream",
     "text": [
      " 39%|███▉      | 61/157 [21:59<20:10, 12.61s/it]"
     ]
    },
    {
     "name": "stdout",
     "output_type": "stream",
     "text": [
      "Finished initialization\n",
      "Loaded dictionary from /Library/Frameworks/Python.framework/Versions/3.10/lib/python3.10/site-packages/genderComputer-0.1-py3.10.egg/genderComputer/../nameLists/gender.dict\n"
     ]
    },
    {
     "name": "stderr",
     "output_type": "stream",
     "text": [
      " 39%|███▉      | 62/157 [21:59<14:13,  8.98s/it]"
     ]
    },
    {
     "name": "stdout",
     "output_type": "stream",
     "text": [
      "Finished initialization\n",
      "Loaded dictionary from /Library/Frameworks/Python.framework/Versions/3.10/lib/python3.10/site-packages/genderComputer-0.1-py3.10.egg/genderComputer/../nameLists/gender.dict\n"
     ]
    },
    {
     "name": "stderr",
     "output_type": "stream",
     "text": [
      " 40%|████      | 63/157 [22:04<11:58,  7.64s/it]"
     ]
    },
    {
     "name": "stdout",
     "output_type": "stream",
     "text": [
      "Finished initialization\n",
      "Loaded dictionary from /Library/Frameworks/Python.framework/Versions/3.10/lib/python3.10/site-packages/genderComputer-0.1-py3.10.egg/genderComputer/../nameLists/gender.dict\n"
     ]
    },
    {
     "name": "stderr",
     "output_type": "stream",
     "text": [
      " 41%|████      | 64/157 [22:05<08:32,  5.51s/it]"
     ]
    },
    {
     "name": "stdout",
     "output_type": "stream",
     "text": [
      "Finished initialization\n",
      "Loaded dictionary from /Library/Frameworks/Python.framework/Versions/3.10/lib/python3.10/site-packages/genderComputer-0.1-py3.10.egg/genderComputer/../nameLists/gender.dict\n",
      "Finished initialization\n"
     ]
    },
    {
     "name": "stderr",
     "output_type": "stream",
     "text": [
      " 41%|████▏     | 65/157 [22:24<14:57,  9.76s/it]"
     ]
    },
    {
     "name": "stdout",
     "output_type": "stream",
     "text": [
      "Loaded dictionary from /Library/Frameworks/Python.framework/Versions/3.10/lib/python3.10/site-packages/genderComputer-0.1-py3.10.egg/genderComputer/../nameLists/gender.dict\n"
     ]
    },
    {
     "name": "stderr",
     "output_type": "stream",
     "text": [
      " 42%|████▏     | 66/157 [22:25<10:35,  6.98s/it]"
     ]
    },
    {
     "name": "stdout",
     "output_type": "stream",
     "text": [
      "Finished initialization\n",
      "Loaded dictionary from /Library/Frameworks/Python.framework/Versions/3.10/lib/python3.10/site-packages/genderComputer-0.1-py3.10.egg/genderComputer/../nameLists/gender.dict\n",
      "Finished initialization\n"
     ]
    },
    {
     "name": "stderr",
     "output_type": "stream",
     "text": [
      " 43%|████▎     | 67/157 [23:01<23:29, 15.67s/it]"
     ]
    },
    {
     "name": "stdout",
     "output_type": "stream",
     "text": [
      "Loaded dictionary from /Library/Frameworks/Python.framework/Versions/3.10/lib/python3.10/site-packages/genderComputer-0.1-py3.10.egg/genderComputer/../nameLists/gender.dict\n",
      "Finished initialization\n"
     ]
    },
    {
     "name": "stderr",
     "output_type": "stream",
     "text": [
      " 43%|████▎     | 68/157 [23:31<29:39, 19.99s/it]"
     ]
    },
    {
     "name": "stdout",
     "output_type": "stream",
     "text": [
      "Loaded dictionary from /Library/Frameworks/Python.framework/Versions/3.10/lib/python3.10/site-packages/genderComputer-0.1-py3.10.egg/genderComputer/../nameLists/gender.dict\n"
     ]
    },
    {
     "name": "stderr",
     "output_type": "stream",
     "text": [
      " 44%|████▍     | 69/157 [23:36<22:47, 15.53s/it]"
     ]
    },
    {
     "name": "stdout",
     "output_type": "stream",
     "text": [
      "Finished initialization\n",
      "Loaded dictionary from /Library/Frameworks/Python.framework/Versions/3.10/lib/python3.10/site-packages/genderComputer-0.1-py3.10.egg/genderComputer/../nameLists/gender.dict\n"
     ]
    },
    {
     "name": "stderr",
     "output_type": "stream",
     "text": [
      " 45%|████▍     | 70/157 [23:42<18:37, 12.85s/it]"
     ]
    },
    {
     "name": "stdout",
     "output_type": "stream",
     "text": [
      "Finished initialization\n",
      "Loaded dictionary from /Library/Frameworks/Python.framework/Versions/3.10/lib/python3.10/site-packages/genderComputer-0.1-py3.10.egg/genderComputer/../nameLists/gender.dict\n",
      "Finished initialization\n"
     ]
    },
    {
     "name": "stderr",
     "output_type": "stream",
     "text": [
      " 45%|████▌     | 71/157 [24:12<25:43, 17.95s/it]"
     ]
    },
    {
     "name": "stdout",
     "output_type": "stream",
     "text": [
      "Loaded dictionary from /Library/Frameworks/Python.framework/Versions/3.10/lib/python3.10/site-packages/genderComputer-0.1-py3.10.egg/genderComputer/../nameLists/gender.dict\n",
      "Finished initialization\n"
     ]
    },
    {
     "name": "stderr",
     "output_type": "stream",
     "text": [
      " 46%|████▌     | 72/157 [24:22<21:51, 15.43s/it]"
     ]
    },
    {
     "name": "stdout",
     "output_type": "stream",
     "text": [
      "Loaded dictionary from /Library/Frameworks/Python.framework/Versions/3.10/lib/python3.10/site-packages/genderComputer-0.1-py3.10.egg/genderComputer/../nameLists/gender.dict\n",
      "Finished initialization\n"
     ]
    },
    {
     "name": "stderr",
     "output_type": "stream",
     "text": [
      " 46%|████▋     | 73/157 [24:36<21:04, 15.06s/it]"
     ]
    },
    {
     "name": "stdout",
     "output_type": "stream",
     "text": [
      "Loaded dictionary from /Library/Frameworks/Python.framework/Versions/3.10/lib/python3.10/site-packages/genderComputer-0.1-py3.10.egg/genderComputer/../nameLists/gender.dict\n",
      "Finished initialization\n"
     ]
    },
    {
     "name": "stderr",
     "output_type": "stream",
     "text": [
      " 47%|████▋     | 74/157 [24:53<21:35, 15.61s/it]"
     ]
    },
    {
     "name": "stdout",
     "output_type": "stream",
     "text": [
      "Loaded dictionary from /Library/Frameworks/Python.framework/Versions/3.10/lib/python3.10/site-packages/genderComputer-0.1-py3.10.egg/genderComputer/../nameLists/gender.dict\n",
      "Finished initialization\n"
     ]
    },
    {
     "name": "stderr",
     "output_type": "stream",
     "text": [
      " 48%|████▊     | 75/157 [25:10<22:00, 16.10s/it]"
     ]
    },
    {
     "name": "stdout",
     "output_type": "stream",
     "text": [
      "Loaded dictionary from /Library/Frameworks/Python.framework/Versions/3.10/lib/python3.10/site-packages/genderComputer-0.1-py3.10.egg/genderComputer/../nameLists/gender.dict\n"
     ]
    },
    {
     "name": "stderr",
     "output_type": "stream",
     "text": [
      " 48%|████▊     | 76/157 [25:17<18:06, 13.42s/it]"
     ]
    },
    {
     "name": "stdout",
     "output_type": "stream",
     "text": [
      "Finished initialization\n",
      "Loaded dictionary from /Library/Frameworks/Python.framework/Versions/3.10/lib/python3.10/site-packages/genderComputer-0.1-py3.10.egg/genderComputer/../nameLists/gender.dict\n"
     ]
    },
    {
     "name": "stderr",
     "output_type": "stream",
     "text": [
      " 49%|████▉     | 77/157 [25:23<14:50, 11.13s/it]"
     ]
    },
    {
     "name": "stdout",
     "output_type": "stream",
     "text": [
      "Finished initialization\n",
      "Loaded dictionary from /Library/Frameworks/Python.framework/Versions/3.10/lib/python3.10/site-packages/genderComputer-0.1-py3.10.egg/genderComputer/../nameLists/gender.dict\n"
     ]
    },
    {
     "name": "stderr",
     "output_type": "stream",
     "text": [
      " 50%|████▉     | 78/157 [25:40<17:05, 12.98s/it]"
     ]
    },
    {
     "name": "stdout",
     "output_type": "stream",
     "text": [
      "Finished initialization\n",
      "Loaded dictionary from /Library/Frameworks/Python.framework/Versions/3.10/lib/python3.10/site-packages/genderComputer-0.1-py3.10.egg/genderComputer/../nameLists/gender.dict\n"
     ]
    },
    {
     "name": "stderr",
     "output_type": "stream",
     "text": [
      " 50%|█████     | 79/157 [25:41<11:59,  9.23s/it]"
     ]
    },
    {
     "name": "stdout",
     "output_type": "stream",
     "text": [
      "Finished initialization\n",
      "Loaded dictionary from /Library/Frameworks/Python.framework/Versions/3.10/lib/python3.10/site-packages/genderComputer-0.1-py3.10.egg/genderComputer/../nameLists/gender.dict\n",
      "Finished initialization\n"
     ]
    },
    {
     "name": "stderr",
     "output_type": "stream",
     "text": [
      " 51%|█████     | 80/157 [26:04<17:14, 13.43s/it]"
     ]
    },
    {
     "name": "stdout",
     "output_type": "stream",
     "text": [
      "Loaded dictionary from /Library/Frameworks/Python.framework/Versions/3.10/lib/python3.10/site-packages/genderComputer-0.1-py3.10.egg/genderComputer/../nameLists/gender.dict\n",
      "Finished initialization\n"
     ]
    },
    {
     "name": "stderr",
     "output_type": "stream",
     "text": [
      " 52%|█████▏    | 81/157 [26:26<20:21, 16.07s/it]"
     ]
    },
    {
     "name": "stdout",
     "output_type": "stream",
     "text": [
      "Loaded dictionary from /Library/Frameworks/Python.framework/Versions/3.10/lib/python3.10/site-packages/genderComputer-0.1-py3.10.egg/genderComputer/../nameLists/gender.dict\n",
      "Finished initialization\n"
     ]
    },
    {
     "name": "stderr",
     "output_type": "stream",
     "text": [
      " 52%|█████▏    | 82/157 [26:47<21:52, 17.50s/it]"
     ]
    },
    {
     "name": "stdout",
     "output_type": "stream",
     "text": [
      "Loaded dictionary from /Library/Frameworks/Python.framework/Versions/3.10/lib/python3.10/site-packages/genderComputer-0.1-py3.10.egg/genderComputer/../nameLists/gender.dict\n"
     ]
    },
    {
     "name": "stderr",
     "output_type": "stream",
     "text": [
      " 53%|█████▎    | 83/157 [26:56<18:28, 14.98s/it]"
     ]
    },
    {
     "name": "stdout",
     "output_type": "stream",
     "text": [
      "Finished initialization\n",
      "Loaded dictionary from /Library/Frameworks/Python.framework/Versions/3.10/lib/python3.10/site-packages/genderComputer-0.1-py3.10.egg/genderComputer/../nameLists/gender.dict\n"
     ]
    },
    {
     "name": "stderr",
     "output_type": "stream",
     "text": [
      " 54%|█████▎    | 84/157 [26:57<13:02, 10.71s/it]"
     ]
    },
    {
     "name": "stdout",
     "output_type": "stream",
     "text": [
      "Finished initialization\n",
      "Loaded dictionary from /Library/Frameworks/Python.framework/Versions/3.10/lib/python3.10/site-packages/genderComputer-0.1-py3.10.egg/genderComputer/../nameLists/gender.dict\n",
      "Finished initialization\n"
     ]
    },
    {
     "name": "stderr",
     "output_type": "stream",
     "text": [
      " 54%|█████▍    | 85/157 [27:05<11:57,  9.96s/it]"
     ]
    },
    {
     "name": "stdout",
     "output_type": "stream",
     "text": [
      "Loaded dictionary from /Library/Frameworks/Python.framework/Versions/3.10/lib/python3.10/site-packages/genderComputer-0.1-py3.10.egg/genderComputer/../nameLists/gender.dict\n",
      "Finished initialization\n"
     ]
    },
    {
     "name": "stderr",
     "output_type": "stream",
     "text": [
      " 55%|█████▍    | 86/157 [27:08<09:18,  7.87s/it]"
     ]
    },
    {
     "name": "stdout",
     "output_type": "stream",
     "text": [
      "Loaded dictionary from /Library/Frameworks/Python.framework/Versions/3.10/lib/python3.10/site-packages/genderComputer-0.1-py3.10.egg/genderComputer/../nameLists/gender.dict\n"
     ]
    },
    {
     "name": "stderr",
     "output_type": "stream",
     "text": [
      " 55%|█████▌    | 87/157 [27:09<06:44,  5.78s/it]"
     ]
    },
    {
     "name": "stdout",
     "output_type": "stream",
     "text": [
      "Finished initialization\n",
      "Loaded dictionary from /Library/Frameworks/Python.framework/Versions/3.10/lib/python3.10/site-packages/genderComputer-0.1-py3.10.egg/genderComputer/../nameLists/gender.dict\n",
      "Finished initialization\n"
     ]
    },
    {
     "name": "stderr",
     "output_type": "stream",
     "text": [
      " 56%|█████▌    | 88/157 [27:56<20:50, 18.12s/it]"
     ]
    },
    {
     "name": "stdout",
     "output_type": "stream",
     "text": [
      "Loaded dictionary from /Library/Frameworks/Python.framework/Versions/3.10/lib/python3.10/site-packages/genderComputer-0.1-py3.10.egg/genderComputer/../nameLists/gender.dict\n",
      "Finished initialization\n"
     ]
    },
    {
     "name": "stderr",
     "output_type": "stream",
     "text": [
      " 57%|█████▋    | 89/157 [28:17<21:39, 19.11s/it]"
     ]
    },
    {
     "name": "stdout",
     "output_type": "stream",
     "text": [
      "Loaded dictionary from /Library/Frameworks/Python.framework/Versions/3.10/lib/python3.10/site-packages/genderComputer-0.1-py3.10.egg/genderComputer/../nameLists/gender.dict\n",
      "Finished initialization\n"
     ]
    },
    {
     "name": "stderr",
     "output_type": "stream",
     "text": [
      " 57%|█████▋    | 90/157 [28:46<24:39, 22.08s/it]"
     ]
    },
    {
     "name": "stdout",
     "output_type": "stream",
     "text": [
      "Loaded dictionary from /Library/Frameworks/Python.framework/Versions/3.10/lib/python3.10/site-packages/genderComputer-0.1-py3.10.egg/genderComputer/../nameLists/gender.dict\n"
     ]
    },
    {
     "name": "stderr",
     "output_type": "stream",
     "text": [
      " 58%|█████▊    | 91/157 [28:54<19:25, 17.66s/it]"
     ]
    },
    {
     "name": "stdout",
     "output_type": "stream",
     "text": [
      "Finished initialization\n",
      "Loaded dictionary from /Library/Frameworks/Python.framework/Versions/3.10/lib/python3.10/site-packages/genderComputer-0.1-py3.10.egg/genderComputer/../nameLists/gender.dict\n",
      "Finished initialization\n"
     ]
    },
    {
     "name": "stderr",
     "output_type": "stream",
     "text": [
      " 59%|█████▊    | 92/157 [29:23<22:58, 21.20s/it]"
     ]
    },
    {
     "name": "stdout",
     "output_type": "stream",
     "text": [
      "Loaded dictionary from /Library/Frameworks/Python.framework/Versions/3.10/lib/python3.10/site-packages/genderComputer-0.1-py3.10.egg/genderComputer/../nameLists/gender.dict\n",
      "Finished initialization\n"
     ]
    },
    {
     "name": "stderr",
     "output_type": "stream",
     "text": [
      " 59%|█████▉    | 93/157 [29:35<19:33, 18.34s/it]"
     ]
    },
    {
     "name": "stdout",
     "output_type": "stream",
     "text": [
      "Loaded dictionary from /Library/Frameworks/Python.framework/Versions/3.10/lib/python3.10/site-packages/genderComputer-0.1-py3.10.egg/genderComputer/../nameLists/gender.dict\n"
     ]
    },
    {
     "name": "stderr",
     "output_type": "stream",
     "text": [
      " 60%|█████▉    | 94/157 [29:35<13:37, 12.98s/it]"
     ]
    },
    {
     "name": "stdout",
     "output_type": "stream",
     "text": [
      "Finished initialization\n",
      "Loaded dictionary from /Library/Frameworks/Python.framework/Versions/3.10/lib/python3.10/site-packages/genderComputer-0.1-py3.10.egg/genderComputer/../nameLists/gender.dict\n",
      "Finished initialization\n"
     ]
    },
    {
     "name": "stderr",
     "output_type": "stream",
     "text": [
      " 61%|██████    | 95/157 [30:09<19:44, 19.11s/it]"
     ]
    },
    {
     "name": "stdout",
     "output_type": "stream",
     "text": [
      "Loaded dictionary from /Library/Frameworks/Python.framework/Versions/3.10/lib/python3.10/site-packages/genderComputer-0.1-py3.10.egg/genderComputer/../nameLists/gender.dict\n",
      "Finished initialization\n"
     ]
    },
    {
     "name": "stderr",
     "output_type": "stream",
     "text": [
      " 61%|██████    | 96/157 [30:39<22:46, 22.40s/it]"
     ]
    },
    {
     "name": "stdout",
     "output_type": "stream",
     "text": [
      "Loaded dictionary from /Library/Frameworks/Python.framework/Versions/3.10/lib/python3.10/site-packages/genderComputer-0.1-py3.10.egg/genderComputer/../nameLists/gender.dict\n",
      "Finished initialization\n"
     ]
    },
    {
     "name": "stderr",
     "output_type": "stream",
     "text": [
      " 62%|██████▏   | 97/157 [30:45<17:37, 17.63s/it]"
     ]
    },
    {
     "name": "stdout",
     "output_type": "stream",
     "text": [
      "Loaded dictionary from /Library/Frameworks/Python.framework/Versions/3.10/lib/python3.10/site-packages/genderComputer-0.1-py3.10.egg/genderComputer/../nameLists/gender.dict\n",
      "Finished initialization\n"
     ]
    },
    {
     "name": "stderr",
     "output_type": "stream",
     "text": [
      " 62%|██████▏   | 98/157 [31:11<19:41, 20.03s/it]"
     ]
    },
    {
     "name": "stdout",
     "output_type": "stream",
     "text": [
      "Loaded dictionary from /Library/Frameworks/Python.framework/Versions/3.10/lib/python3.10/site-packages/genderComputer-0.1-py3.10.egg/genderComputer/../nameLists/gender.dict\n",
      "Finished initialization\n"
     ]
    },
    {
     "name": "stderr",
     "output_type": "stream",
     "text": [
      " 63%|██████▎   | 99/157 [31:18<15:33, 16.09s/it]"
     ]
    },
    {
     "name": "stdout",
     "output_type": "stream",
     "text": [
      "Loaded dictionary from /Library/Frameworks/Python.framework/Versions/3.10/lib/python3.10/site-packages/genderComputer-0.1-py3.10.egg/genderComputer/../nameLists/gender.dict\n"
     ]
    },
    {
     "name": "stderr",
     "output_type": "stream",
     "text": [
      " 64%|██████▎   | 100/157 [31:23<12:11, 12.83s/it]"
     ]
    },
    {
     "name": "stdout",
     "output_type": "stream",
     "text": [
      "Finished initialization\n",
      "Loaded dictionary from /Library/Frameworks/Python.framework/Versions/3.10/lib/python3.10/site-packages/genderComputer-0.1-py3.10.egg/genderComputer/../nameLists/gender.dict\n"
     ]
    },
    {
     "name": "stderr",
     "output_type": "stream",
     "text": [
      " 64%|██████▍   | 101/157 [31:25<08:59,  9.63s/it]"
     ]
    },
    {
     "name": "stdout",
     "output_type": "stream",
     "text": [
      "Finished initialization\n",
      "Loaded dictionary from /Library/Frameworks/Python.framework/Versions/3.10/lib/python3.10/site-packages/genderComputer-0.1-py3.10.egg/genderComputer/../nameLists/gender.dict\n",
      "Finished initialization\n"
     ]
    },
    {
     "name": "stderr",
     "output_type": "stream",
     "text": [
      " 65%|██████▍   | 102/157 [31:40<10:15, 11.20s/it]"
     ]
    },
    {
     "name": "stdout",
     "output_type": "stream",
     "text": [
      "Loaded dictionary from /Library/Frameworks/Python.framework/Versions/3.10/lib/python3.10/site-packages/genderComputer-0.1-py3.10.egg/genderComputer/../nameLists/gender.dict\n"
     ]
    },
    {
     "name": "stderr",
     "output_type": "stream",
     "text": [
      " 66%|██████▌   | 103/157 [31:47<08:55,  9.91s/it]"
     ]
    },
    {
     "name": "stdout",
     "output_type": "stream",
     "text": [
      "Finished initialization\n",
      "Loaded dictionary from /Library/Frameworks/Python.framework/Versions/3.10/lib/python3.10/site-packages/genderComputer-0.1-py3.10.egg/genderComputer/../nameLists/gender.dict\n",
      "Finished initialization\n"
     ]
    },
    {
     "name": "stderr",
     "output_type": "stream",
     "text": [
      " 66%|██████▌   | 104/157 [32:29<17:10, 19.44s/it]"
     ]
    },
    {
     "name": "stdout",
     "output_type": "stream",
     "text": [
      "Loaded dictionary from /Library/Frameworks/Python.framework/Versions/3.10/lib/python3.10/site-packages/genderComputer-0.1-py3.10.egg/genderComputer/../nameLists/gender.dict\n"
     ]
    },
    {
     "name": "stderr",
     "output_type": "stream",
     "text": [
      " 67%|██████▋   | 105/157 [32:31<12:24, 14.31s/it]"
     ]
    },
    {
     "name": "stdout",
     "output_type": "stream",
     "text": [
      "Finished initialization\n",
      "Loaded dictionary from /Library/Frameworks/Python.framework/Versions/3.10/lib/python3.10/site-packages/genderComputer-0.1-py3.10.egg/genderComputer/../nameLists/gender.dict\n"
     ]
    },
    {
     "name": "stderr",
     "output_type": "stream",
     "text": [
      " 68%|██████▊   | 106/157 [32:34<09:19, 10.96s/it]"
     ]
    },
    {
     "name": "stdout",
     "output_type": "stream",
     "text": [
      "Finished initialization\n",
      "Loaded dictionary from /Library/Frameworks/Python.framework/Versions/3.10/lib/python3.10/site-packages/genderComputer-0.1-py3.10.egg/genderComputer/../nameLists/gender.dict\n"
     ]
    },
    {
     "name": "stderr",
     "output_type": "stream",
     "text": [
      " 68%|██████▊   | 107/157 [32:35<06:31,  7.84s/it]"
     ]
    },
    {
     "name": "stdout",
     "output_type": "stream",
     "text": [
      "Finished initialization\n",
      "Loaded dictionary from /Library/Frameworks/Python.framework/Versions/3.10/lib/python3.10/site-packages/genderComputer-0.1-py3.10.egg/genderComputer/../nameLists/gender.dict\n",
      "Finished initialization\n"
     ]
    },
    {
     "name": "stderr",
     "output_type": "stream",
     "text": [
      " 69%|██████▉   | 108/157 [32:39<05:34,  6.83s/it]"
     ]
    },
    {
     "name": "stdout",
     "output_type": "stream",
     "text": [
      "Loaded dictionary from /Library/Frameworks/Python.framework/Versions/3.10/lib/python3.10/site-packages/genderComputer-0.1-py3.10.egg/genderComputer/../nameLists/gender.dict\n",
      "Finished initialization\n"
     ]
    },
    {
     "name": "stderr",
     "output_type": "stream",
     "text": [
      " 69%|██████▉   | 109/157 [32:57<08:08, 10.18s/it]"
     ]
    },
    {
     "name": "stdout",
     "output_type": "stream",
     "text": [
      "Loaded dictionary from /Library/Frameworks/Python.framework/Versions/3.10/lib/python3.10/site-packages/genderComputer-0.1-py3.10.egg/genderComputer/../nameLists/gender.dict\n"
     ]
    },
    {
     "name": "stderr",
     "output_type": "stream",
     "text": [
      " 70%|███████   | 110/157 [32:59<05:55,  7.57s/it]"
     ]
    },
    {
     "name": "stdout",
     "output_type": "stream",
     "text": [
      "Finished initialization\n",
      "Loaded dictionary from /Library/Frameworks/Python.framework/Versions/3.10/lib/python3.10/site-packages/genderComputer-0.1-py3.10.egg/genderComputer/../nameLists/gender.dict\n",
      "Finished initialization\n"
     ]
    },
    {
     "name": "stderr",
     "output_type": "stream",
     "text": [
      " 71%|███████   | 111/157 [33:24<09:51, 12.87s/it]"
     ]
    },
    {
     "name": "stdout",
     "output_type": "stream",
     "text": [
      "Loaded dictionary from /Library/Frameworks/Python.framework/Versions/3.10/lib/python3.10/site-packages/genderComputer-0.1-py3.10.egg/genderComputer/../nameLists/gender.dict\n"
     ]
    },
    {
     "name": "stderr",
     "output_type": "stream",
     "text": [
      " 71%|███████▏  | 112/157 [33:27<07:24,  9.88s/it]"
     ]
    },
    {
     "name": "stdout",
     "output_type": "stream",
     "text": [
      "Finished initialization\n",
      "Loaded dictionary from /Library/Frameworks/Python.framework/Versions/3.10/lib/python3.10/site-packages/genderComputer-0.1-py3.10.egg/genderComputer/../nameLists/gender.dict\n"
     ]
    },
    {
     "name": "stderr",
     "output_type": "stream",
     "text": [
      " 72%|███████▏  | 113/157 [33:27<05:11,  7.07s/it]"
     ]
    },
    {
     "name": "stdout",
     "output_type": "stream",
     "text": [
      "Finished initialization\n",
      "Loaded dictionary from /Library/Frameworks/Python.framework/Versions/3.10/lib/python3.10/site-packages/genderComputer-0.1-py3.10.egg/genderComputer/../nameLists/gender.dict\n",
      "Finished initialization\n"
     ]
    },
    {
     "name": "stderr",
     "output_type": "stream",
     "text": [
      " 73%|███████▎  | 114/157 [33:48<07:53, 11.01s/it]"
     ]
    },
    {
     "name": "stdout",
     "output_type": "stream",
     "text": [
      "Loaded dictionary from /Library/Frameworks/Python.framework/Versions/3.10/lib/python3.10/site-packages/genderComputer-0.1-py3.10.egg/genderComputer/../nameLists/gender.dict\n",
      "Finished initialization\n"
     ]
    },
    {
     "name": "stderr",
     "output_type": "stream",
     "text": [
      " 73%|███████▎  | 115/157 [34:15<11:07, 15.89s/it]"
     ]
    },
    {
     "name": "stdout",
     "output_type": "stream",
     "text": [
      "Loaded dictionary from /Library/Frameworks/Python.framework/Versions/3.10/lib/python3.10/site-packages/genderComputer-0.1-py3.10.egg/genderComputer/../nameLists/gender.dict\n",
      "Finished initialization\n"
     ]
    },
    {
     "name": "stderr",
     "output_type": "stream",
     "text": [
      " 74%|███████▍  | 116/157 [34:46<14:03, 20.56s/it]"
     ]
    },
    {
     "name": "stdout",
     "output_type": "stream",
     "text": [
      "Loaded dictionary from /Library/Frameworks/Python.framework/Versions/3.10/lib/python3.10/site-packages/genderComputer-0.1-py3.10.egg/genderComputer/../nameLists/gender.dict\n"
     ]
    },
    {
     "name": "stderr",
     "output_type": "stream",
     "text": [
      " 75%|███████▍  | 117/157 [34:47<09:43, 14.59s/it]"
     ]
    },
    {
     "name": "stdout",
     "output_type": "stream",
     "text": [
      "Finished initialization\n",
      "Loaded dictionary from /Library/Frameworks/Python.framework/Versions/3.10/lib/python3.10/site-packages/genderComputer-0.1-py3.10.egg/genderComputer/../nameLists/gender.dict\n",
      "Finished initialization\n"
     ]
    },
    {
     "name": "stderr",
     "output_type": "stream",
     "text": [
      " 75%|███████▌  | 118/157 [35:13<11:44, 18.06s/it]"
     ]
    },
    {
     "name": "stdout",
     "output_type": "stream",
     "text": [
      "Loaded dictionary from /Library/Frameworks/Python.framework/Versions/3.10/lib/python3.10/site-packages/genderComputer-0.1-py3.10.egg/genderComputer/../nameLists/gender.dict\n",
      "Finished initialization\n"
     ]
    },
    {
     "name": "stderr",
     "output_type": "stream",
     "text": [
      " 76%|███████▌  | 119/157 [35:41<13:12, 20.85s/it]"
     ]
    },
    {
     "name": "stdout",
     "output_type": "stream",
     "text": [
      "Loaded dictionary from /Library/Frameworks/Python.framework/Versions/3.10/lib/python3.10/site-packages/genderComputer-0.1-py3.10.egg/genderComputer/../nameLists/gender.dict\n",
      "Finished initialization\n"
     ]
    },
    {
     "name": "stderr",
     "output_type": "stream",
     "text": [
      " 76%|███████▋  | 120/157 [35:47<10:14, 16.61s/it]"
     ]
    },
    {
     "name": "stdout",
     "output_type": "stream",
     "text": [
      "Loaded dictionary from /Library/Frameworks/Python.framework/Versions/3.10/lib/python3.10/site-packages/genderComputer-0.1-py3.10.egg/genderComputer/../nameLists/gender.dict\n",
      "Finished initialization\n"
     ]
    },
    {
     "name": "stderr",
     "output_type": "stream",
     "text": [
      " 77%|███████▋  | 121/157 [36:19<12:37, 21.04s/it]"
     ]
    },
    {
     "name": "stdout",
     "output_type": "stream",
     "text": [
      "Loaded dictionary from /Library/Frameworks/Python.framework/Versions/3.10/lib/python3.10/site-packages/genderComputer-0.1-py3.10.egg/genderComputer/../nameLists/gender.dict\n",
      "Finished initialization\n"
     ]
    },
    {
     "name": "stderr",
     "output_type": "stream",
     "text": [
      " 78%|███████▊  | 122/157 [36:35<11:28, 19.66s/it]"
     ]
    },
    {
     "name": "stdout",
     "output_type": "stream",
     "text": [
      "Loaded dictionary from /Library/Frameworks/Python.framework/Versions/3.10/lib/python3.10/site-packages/genderComputer-0.1-py3.10.egg/genderComputer/../nameLists/gender.dict\n",
      "Finished initialization\n"
     ]
    },
    {
     "name": "stderr",
     "output_type": "stream",
     "text": [
      " 78%|███████▊  | 123/157 [37:10<13:48, 24.36s/it]"
     ]
    },
    {
     "name": "stdout",
     "output_type": "stream",
     "text": [
      "Loaded dictionary from /Library/Frameworks/Python.framework/Versions/3.10/lib/python3.10/site-packages/genderComputer-0.1-py3.10.egg/genderComputer/../nameLists/gender.dict\n",
      "Finished initialization\n"
     ]
    },
    {
     "name": "stderr",
     "output_type": "stream",
     "text": [
      " 79%|███████▉  | 124/157 [37:19<10:46, 19.60s/it]"
     ]
    },
    {
     "name": "stdout",
     "output_type": "stream",
     "text": [
      "Loaded dictionary from /Library/Frameworks/Python.framework/Versions/3.10/lib/python3.10/site-packages/genderComputer-0.1-py3.10.egg/genderComputer/../nameLists/gender.dict\n",
      "Finished initialization\n"
     ]
    },
    {
     "name": "stderr",
     "output_type": "stream",
     "text": [
      " 80%|███████▉  | 125/157 [37:42<10:58, 20.57s/it]"
     ]
    },
    {
     "name": "stdout",
     "output_type": "stream",
     "text": [
      "Loaded dictionary from /Library/Frameworks/Python.framework/Versions/3.10/lib/python3.10/site-packages/genderComputer-0.1-py3.10.egg/genderComputer/../nameLists/gender.dict\n",
      "Finished initialization\n"
     ]
    },
    {
     "name": "stderr",
     "output_type": "stream",
     "text": [
      " 80%|████████  | 126/157 [38:13<12:14, 23.70s/it]"
     ]
    },
    {
     "name": "stdout",
     "output_type": "stream",
     "text": [
      "Loaded dictionary from /Library/Frameworks/Python.framework/Versions/3.10/lib/python3.10/site-packages/genderComputer-0.1-py3.10.egg/genderComputer/../nameLists/gender.dict\n",
      "Finished initialization\n"
     ]
    },
    {
     "name": "stderr",
     "output_type": "stream",
     "text": [
      " 81%|████████  | 127/157 [38:26<10:18, 20.60s/it]"
     ]
    },
    {
     "name": "stdout",
     "output_type": "stream",
     "text": [
      "Loaded dictionary from /Library/Frameworks/Python.framework/Versions/3.10/lib/python3.10/site-packages/genderComputer-0.1-py3.10.egg/genderComputer/../nameLists/gender.dict\n",
      "Finished initialization\n"
     ]
    },
    {
     "name": "stderr",
     "output_type": "stream",
     "text": [
      " 82%|████████▏ | 128/157 [38:39<08:52, 18.35s/it]"
     ]
    },
    {
     "name": "stdout",
     "output_type": "stream",
     "text": [
      "Loaded dictionary from /Library/Frameworks/Python.framework/Versions/3.10/lib/python3.10/site-packages/genderComputer-0.1-py3.10.egg/genderComputer/../nameLists/gender.dict\n",
      "Finished initialization\n"
     ]
    },
    {
     "name": "stderr",
     "output_type": "stream",
     "text": [
      " 82%|████████▏ | 129/157 [39:09<10:11, 21.85s/it]"
     ]
    },
    {
     "name": "stdout",
     "output_type": "stream",
     "text": [
      "Loaded dictionary from /Library/Frameworks/Python.framework/Versions/3.10/lib/python3.10/site-packages/genderComputer-0.1-py3.10.egg/genderComputer/../nameLists/gender.dict\n",
      "Finished initialization\n"
     ]
    },
    {
     "name": "stderr",
     "output_type": "stream",
     "text": [
      " 83%|████████▎ | 130/157 [39:12<07:17, 16.21s/it]"
     ]
    },
    {
     "name": "stdout",
     "output_type": "stream",
     "text": [
      "Loaded dictionary from /Library/Frameworks/Python.framework/Versions/3.10/lib/python3.10/site-packages/genderComputer-0.1-py3.10.egg/genderComputer/../nameLists/gender.dict\n"
     ]
    },
    {
     "name": "stderr",
     "output_type": "stream",
     "text": [
      " 83%|████████▎ | 131/157 [39:13<04:59, 11.53s/it]"
     ]
    },
    {
     "name": "stdout",
     "output_type": "stream",
     "text": [
      "Finished initialization\n",
      "Loaded dictionary from /Library/Frameworks/Python.framework/Versions/3.10/lib/python3.10/site-packages/genderComputer-0.1-py3.10.egg/genderComputer/../nameLists/gender.dict\n",
      "Finished initialization\n"
     ]
    },
    {
     "name": "stderr",
     "output_type": "stream",
     "text": [
      " 84%|████████▍ | 132/157 [39:16<03:48,  9.15s/it]"
     ]
    },
    {
     "name": "stdout",
     "output_type": "stream",
     "text": [
      "Loaded dictionary from /Library/Frameworks/Python.framework/Versions/3.10/lib/python3.10/site-packages/genderComputer-0.1-py3.10.egg/genderComputer/../nameLists/gender.dict\n"
     ]
    },
    {
     "name": "stderr",
     "output_type": "stream",
     "text": [
      " 85%|████████▍ | 133/157 [39:17<02:37,  6.57s/it]"
     ]
    },
    {
     "name": "stdout",
     "output_type": "stream",
     "text": [
      "Finished initialization\n",
      "Loaded dictionary from /Library/Frameworks/Python.framework/Versions/3.10/lib/python3.10/site-packages/genderComputer-0.1-py3.10.egg/genderComputer/../nameLists/gender.dict\n"
     ]
    },
    {
     "name": "stderr",
     "output_type": "stream",
     "text": [
      " 85%|████████▌ | 134/157 [39:18<01:50,  4.78s/it]"
     ]
    },
    {
     "name": "stdout",
     "output_type": "stream",
     "text": [
      "Finished initialization\n",
      "Loaded dictionary from /Library/Frameworks/Python.framework/Versions/3.10/lib/python3.10/site-packages/genderComputer-0.1-py3.10.egg/genderComputer/../nameLists/gender.dict\n"
     ]
    },
    {
     "name": "stderr",
     "output_type": "stream",
     "text": [
      " 86%|████████▌ | 135/157 [39:23<01:46,  4.85s/it]"
     ]
    },
    {
     "name": "stdout",
     "output_type": "stream",
     "text": [
      "Finished initialization\n",
      "Loaded dictionary from /Library/Frameworks/Python.framework/Versions/3.10/lib/python3.10/site-packages/genderComputer-0.1-py3.10.egg/genderComputer/../nameLists/gender.dict\n",
      "Finished initialization\n"
     ]
    },
    {
     "name": "stderr",
     "output_type": "stream",
     "text": [
      " 87%|████████▋ | 136/157 [39:25<01:25,  4.05s/it]"
     ]
    },
    {
     "name": "stdout",
     "output_type": "stream",
     "text": [
      "Loaded dictionary from /Library/Frameworks/Python.framework/Versions/3.10/lib/python3.10/site-packages/genderComputer-0.1-py3.10.egg/genderComputer/../nameLists/gender.dict\n",
      "Finished initialization\n"
     ]
    },
    {
     "name": "stderr",
     "output_type": "stream",
     "text": [
      " 87%|████████▋ | 137/157 [39:54<03:54, 11.72s/it]"
     ]
    },
    {
     "name": "stdout",
     "output_type": "stream",
     "text": [
      "Loaded dictionary from /Library/Frameworks/Python.framework/Versions/3.10/lib/python3.10/site-packages/genderComputer-0.1-py3.10.egg/genderComputer/../nameLists/gender.dict\n",
      "Finished initialization\n"
     ]
    },
    {
     "name": "stderr",
     "output_type": "stream",
     "text": [
      " 88%|████████▊ | 138/157 [40:01<03:11, 10.10s/it]"
     ]
    },
    {
     "name": "stdout",
     "output_type": "stream",
     "text": [
      "Loaded dictionary from /Library/Frameworks/Python.framework/Versions/3.10/lib/python3.10/site-packages/genderComputer-0.1-py3.10.egg/genderComputer/../nameLists/gender.dict\n",
      "Finished initialization\n"
     ]
    },
    {
     "name": "stderr",
     "output_type": "stream",
     "text": [
      " 89%|████████▊ | 139/157 [40:35<05:11, 17.30s/it]"
     ]
    },
    {
     "name": "stdout",
     "output_type": "stream",
     "text": [
      "Loaded dictionary from /Library/Frameworks/Python.framework/Versions/3.10/lib/python3.10/site-packages/genderComputer-0.1-py3.10.egg/genderComputer/../nameLists/gender.dict\n",
      "Finished initialization\n"
     ]
    },
    {
     "name": "stderr",
     "output_type": "stream",
     "text": [
      " 89%|████████▉ | 140/157 [40:41<03:55, 13.82s/it]"
     ]
    },
    {
     "name": "stdout",
     "output_type": "stream",
     "text": [
      "Loaded dictionary from /Library/Frameworks/Python.framework/Versions/3.10/lib/python3.10/site-packages/genderComputer-0.1-py3.10.egg/genderComputer/../nameLists/gender.dict\n",
      "Finished initialization\n"
     ]
    },
    {
     "name": "stderr",
     "output_type": "stream",
     "text": [
      " 90%|████████▉ | 141/157 [41:07<04:40, 17.50s/it]"
     ]
    },
    {
     "name": "stdout",
     "output_type": "stream",
     "text": [
      "Loaded dictionary from /Library/Frameworks/Python.framework/Versions/3.10/lib/python3.10/site-packages/genderComputer-0.1-py3.10.egg/genderComputer/../nameLists/gender.dict\n",
      "Finished initialization\n"
     ]
    },
    {
     "name": "stderr",
     "output_type": "stream",
     "text": [
      " 90%|█████████ | 142/157 [41:39<05:31, 22.10s/it]"
     ]
    },
    {
     "name": "stdout",
     "output_type": "stream",
     "text": [
      "Loaded dictionary from /Library/Frameworks/Python.framework/Versions/3.10/lib/python3.10/site-packages/genderComputer-0.1-py3.10.egg/genderComputer/../nameLists/gender.dict\n",
      "Finished initialization\n"
     ]
    },
    {
     "name": "stderr",
     "output_type": "stream",
     "text": [
      " 91%|█████████ | 143/157 [41:49<04:14, 18.19s/it]"
     ]
    },
    {
     "name": "stdout",
     "output_type": "stream",
     "text": [
      "Loaded dictionary from /Library/Frameworks/Python.framework/Versions/3.10/lib/python3.10/site-packages/genderComputer-0.1-py3.10.egg/genderComputer/../nameLists/gender.dict\n",
      "Finished initialization\n"
     ]
    },
    {
     "name": "stderr",
     "output_type": "stream",
     "text": [
      " 92%|█████████▏| 144/157 [41:54<03:05, 14.24s/it]"
     ]
    },
    {
     "name": "stdout",
     "output_type": "stream",
     "text": [
      "Loaded dictionary from /Library/Frameworks/Python.framework/Versions/3.10/lib/python3.10/site-packages/genderComputer-0.1-py3.10.egg/genderComputer/../nameLists/gender.dict\n"
     ]
    },
    {
     "name": "stderr",
     "output_type": "stream",
     "text": [
      " 92%|█████████▏| 145/157 [41:59<02:17, 11.48s/it]"
     ]
    },
    {
     "name": "stdout",
     "output_type": "stream",
     "text": [
      "Finished initialization\n",
      "Loaded dictionary from /Library/Frameworks/Python.framework/Versions/3.10/lib/python3.10/site-packages/genderComputer-0.1-py3.10.egg/genderComputer/../nameLists/gender.dict\n",
      "Finished initialization\n"
     ]
    },
    {
     "name": "stderr",
     "output_type": "stream",
     "text": [
      " 93%|█████████▎| 146/157 [42:02<01:38,  8.97s/it]"
     ]
    },
    {
     "name": "stdout",
     "output_type": "stream",
     "text": [
      "Loaded dictionary from /Library/Frameworks/Python.framework/Versions/3.10/lib/python3.10/site-packages/genderComputer-0.1-py3.10.egg/genderComputer/../nameLists/gender.dict\n"
     ]
    },
    {
     "name": "stderr",
     "output_type": "stream",
     "text": [
      " 94%|█████████▎| 147/157 [42:04<01:09,  7.00s/it]"
     ]
    },
    {
     "name": "stdout",
     "output_type": "stream",
     "text": [
      "Finished initialization\n",
      "Loaded dictionary from /Library/Frameworks/Python.framework/Versions/3.10/lib/python3.10/site-packages/genderComputer-0.1-py3.10.egg/genderComputer/../nameLists/gender.dict\n"
     ]
    },
    {
     "name": "stderr",
     "output_type": "stream",
     "text": [
      " 94%|█████████▍| 148/157 [42:06<00:49,  5.46s/it]"
     ]
    },
    {
     "name": "stdout",
     "output_type": "stream",
     "text": [
      "Finished initialization\n",
      "Loaded dictionary from /Library/Frameworks/Python.framework/Versions/3.10/lib/python3.10/site-packages/genderComputer-0.1-py3.10.egg/genderComputer/../nameLists/gender.dict\n"
     ]
    },
    {
     "name": "stderr",
     "output_type": "stream",
     "text": [
      " 95%|█████████▍| 149/157 [42:07<00:33,  4.21s/it]"
     ]
    },
    {
     "name": "stdout",
     "output_type": "stream",
     "text": [
      "Finished initialization\n",
      "Loaded dictionary from /Library/Frameworks/Python.framework/Versions/3.10/lib/python3.10/site-packages/genderComputer-0.1-py3.10.egg/genderComputer/../nameLists/gender.dict\n"
     ]
    },
    {
     "name": "stderr",
     "output_type": "stream",
     "text": [
      " 96%|█████████▌| 150/157 [42:35<01:18, 11.15s/it]"
     ]
    },
    {
     "name": "stdout",
     "output_type": "stream",
     "text": [
      "Finished initialization\n",
      "Loaded dictionary from /Library/Frameworks/Python.framework/Versions/3.10/lib/python3.10/site-packages/genderComputer-0.1-py3.10.egg/genderComputer/../nameLists/gender.dict\n"
     ]
    },
    {
     "name": "stderr",
     "output_type": "stream",
     "text": [
      " 96%|█████████▌| 151/157 [42:41<00:58,  9.76s/it]"
     ]
    },
    {
     "name": "stdout",
     "output_type": "stream",
     "text": [
      "Finished initialization\n",
      "Loaded dictionary from /Library/Frameworks/Python.framework/Versions/3.10/lib/python3.10/site-packages/genderComputer-0.1-py3.10.egg/genderComputer/../nameLists/gender.dict\n"
     ]
    },
    {
     "name": "stderr",
     "output_type": "stream",
     "text": [
      " 97%|█████████▋| 152/157 [42:46<00:41,  8.36s/it]"
     ]
    },
    {
     "name": "stdout",
     "output_type": "stream",
     "text": [
      "Finished initialization\n",
      "Loaded dictionary from /Library/Frameworks/Python.framework/Versions/3.10/lib/python3.10/site-packages/genderComputer-0.1-py3.10.egg/genderComputer/../nameLists/gender.dict\n"
     ]
    },
    {
     "name": "stderr",
     "output_type": "stream",
     "text": [
      " 97%|█████████▋| 153/157 [43:01<00:41, 10.28s/it]"
     ]
    },
    {
     "name": "stdout",
     "output_type": "stream",
     "text": [
      "Finished initialization\n",
      "Loaded dictionary from /Library/Frameworks/Python.framework/Versions/3.10/lib/python3.10/site-packages/genderComputer-0.1-py3.10.egg/genderComputer/../nameLists/gender.dict\n"
     ]
    },
    {
     "name": "stderr",
     "output_type": "stream",
     "text": [
      " 98%|█████████▊| 154/157 [43:16<00:35, 11.83s/it]"
     ]
    },
    {
     "name": "stdout",
     "output_type": "stream",
     "text": [
      "Finished initialization\n",
      "Loaded dictionary from /Library/Frameworks/Python.framework/Versions/3.10/lib/python3.10/site-packages/genderComputer-0.1-py3.10.egg/genderComputer/../nameLists/gender.dict\n"
     ]
    },
    {
     "name": "stderr",
     "output_type": "stream",
     "text": [
      " 99%|█████████▊| 155/157 [43:17<00:17,  8.57s/it]"
     ]
    },
    {
     "name": "stdout",
     "output_type": "stream",
     "text": [
      "Finished initialization\n",
      "Loaded dictionary from /Library/Frameworks/Python.framework/Versions/3.10/lib/python3.10/site-packages/genderComputer-0.1-py3.10.egg/genderComputer/../nameLists/gender.dict\n",
      "Finished initialization\n"
     ]
    },
    {
     "name": "stderr",
     "output_type": "stream",
     "text": [
      " 99%|█████████▉| 156/157 [43:49<00:15, 15.50s/it]"
     ]
    },
    {
     "name": "stdout",
     "output_type": "stream",
     "text": [
      "Loaded dictionary from /Library/Frameworks/Python.framework/Versions/3.10/lib/python3.10/site-packages/genderComputer-0.1-py3.10.egg/genderComputer/../nameLists/gender.dict\n"
     ]
    },
    {
     "name": "stderr",
     "output_type": "stream",
     "text": [
      "100%|██████████| 157/157 [43:50<00:00, 16.75s/it]"
     ]
    },
    {
     "name": "stdout",
     "output_type": "stream",
     "text": [
      "Finished initialization\n"
     ]
    },
    {
     "name": "stderr",
     "output_type": "stream",
     "text": [
      "\n"
     ]
    }
   ],
   "source": [
    "characters = {\"female_corpus\": {}, \"male_corpus\": {}}\n",
    "for file_path in tqdm(file_paths): #tqdm just displays a progress bar in the terminal\n",
    "    title = file_path.split(\"/\")[-1][:-4]\n",
    "    \n",
    "    extraction = gender_recognition(get_characters(open(file_path, encoding=\"utf8\").read()))\n",
    "    \n",
    "    characters[\"female_corpus\"][title] = {}\n",
    "    characters[\"female_corpus\"][title][\"book_title\"] = title #book title\n",
    "    characters[\"female_corpus\"][title][\"male_characters\"] = len(extraction[0])\n",
    "    characters[\"female_corpus\"][title][\"male_characters_names\"] = extraction[0] #male chars names\n",
    "    characters[\"female_corpus\"][title][\"female_characters\"] = len(extraction[1])\n",
    "    characters[\"female_corpus\"][title][\"female_characters_names\"] = extraction[1] #female chars names\n",
    "    characters[\"female_corpus\"][title][\"none\"] = len(extraction[2])\n",
    "    characters[\"female_corpus\"][title][\"unknown_gender_names\"] = extraction[2] #unknown gender names\n",
    "    characters[\"female_corpus\"][title][\"authors_sex\"] = \"female\" #author's sex\n",
    "\n",
    "with open('results/female_corpus_results.csv', 'w', encoding='utf-8') as file:\n",
    "    fields = [\"book_title\", \"male_characters\", \"male_characters_names\", \"female_characters\", \"female_characters_names\", \"none\", \"unknown_gender_names\", \"authors_sex\"]\n",
    "    writer = csv.DictWriter(file, fieldnames=fields)\n",
    "    writer.writeheader()\n",
    "    for corpus_gender, dictionary in characters.items():\n",
    "        for k,v in dictionary.items():\n",
    "            writer.writerow(v)"
   ]
  }
 ],
 "metadata": {
  "kernelspec": {
   "display_name": "Python 3.10.0 64-bit",
   "language": "python",
   "name": "python3"
  },
  "language_info": {
   "codemirror_mode": {
    "name": "ipython",
    "version": 3
   },
   "file_extension": ".py",
   "mimetype": "text/x-python",
   "name": "python",
   "nbconvert_exporter": "python",
   "pygments_lexer": "ipython3",
   "version": "3.10.0"
  },
  "orig_nbformat": 4,
  "vscode": {
   "interpreter": {
    "hash": "aee8b7b246df8f9039afb4144a1f6fd8d2ca17a180786b69acc140d282b71a49"
   }
  }
 },
 "nbformat": 4,
 "nbformat_minor": 2
}
