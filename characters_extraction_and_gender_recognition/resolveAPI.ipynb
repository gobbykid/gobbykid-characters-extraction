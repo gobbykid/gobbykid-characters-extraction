{
 "cells": [
  {
   "cell_type": "markdown",
   "metadata": {},
   "source": [
    "RESOLVE"
   ]
  },
  {
   "cell_type": "code",
   "execution_count": 3,
   "metadata": {},
   "outputs": [],
   "source": [
    "import pandas as pd\n",
    "import csv\n",
    "import ast"
   ]
  },
  {
   "cell_type": "code",
   "execution_count": 4,
   "metadata": {},
   "outputs": [],
   "source": [
    "csv_path = \"resultsGOBBYKID.csv\"\n",
    "\n",
    "\n",
    "\n",
    "male_chars =[]\n",
    "\n",
    "female_chars =[]\n",
    "\n",
    "with open(csv_path, 'r', encoding='utf-8') as csv_file:\n",
    "\n",
    "        csv_reader = csv.DictReader(csv_file, delimiter=',')\n",
    "\n",
    "        for row in csv_reader:\n",
    "\n",
    "                male_chars.extend(ast.literal_eval(row[\"male_characters_names\"]))\n",
    "\n",
    "                female_chars.extend(ast.literal_eval(row[\"female_characters_names\"]))\n",
    "\n",
    "male_chars = pd.Series(male_chars)\n",
    "male_chars.to_csv(\"male_chars.csv\", index=False)\n",
    "\n",
    "female_chars = pd.Series(female_chars)\n",
    "female_chars.to_csv(\"female_chars.csv\", index=False)"
   ]
  }
 ],
 "metadata": {
  "kernelspec": {
   "display_name": "Python 3.10.0 64-bit",
   "language": "python",
   "name": "python3"
  },
  "language_info": {
   "codemirror_mode": {
    "name": "ipython",
    "version": 3
   },
   "file_extension": ".py",
   "mimetype": "text/x-python",
   "name": "python",
   "nbconvert_exporter": "python",
   "pygments_lexer": "ipython3",
   "version": "3.10.0"
  },
  "orig_nbformat": 4,
  "vscode": {
   "interpreter": {
    "hash": "aee8b7b246df8f9039afb4144a1f6fd8d2ca17a180786b69acc140d282b71a49"
   }
  }
 },
 "nbformat": 4,
 "nbformat_minor": 2
}
