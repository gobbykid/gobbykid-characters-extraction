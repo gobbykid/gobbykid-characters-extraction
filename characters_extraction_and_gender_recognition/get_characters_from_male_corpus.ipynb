{
 "cells": [
  {
   "cell_type": "code",
   "execution_count": 1,
   "metadata": {},
   "outputs": [],
   "source": [
    "from charEx import *\n",
    "from genderRec import *\n",
    "import os\n",
    "from tqdm import tqdm #for progress bar"
   ]
  },
  {
   "cell_type": "code",
   "execution_count": 2,
   "metadata": {},
   "outputs": [
    {
     "name": "stdout",
     "output_type": "stream",
     "text": [
      "0 ../assets/Corpus/male-writers\\1836_marryat-mr-midshipman-easy.txt\n",
      "1 ../assets/Corpus/male-writers\\1841_marryat-masterman-ready.txt\n",
      "2 ../assets/Corpus/male-writers\\1844_marryat-the-settlers-in-canada.txt\n",
      "3 ../assets/Corpus/male-writers\\1845_dickens-the-cricket-on-the-hearth-a-fairy-tale-of-home.txt\n",
      "4 ../assets/Corpus/male-writers\\1847_marryat-the-children-of-the-new-forest.txt\n",
      "5 ../assets/Corpus/male-writers\\1848_marryat-the-little-savage.txt\n",
      "6 ../assets/Corpus/male-writers\\1851_ruskin-the-king-of-the-golden-river.txt\n",
      "7 ../assets/Corpus/male-writers\\1855_kingsley-westward-ho.txt\n",
      "8 ../assets/Corpus/male-writers\\1856_ballantyne-the-young-fur-traders.txt\n",
      "9 ../assets/Corpus/male-writers\\1857_ballantyne-the-coral-island-a-tale-of-the-pacific-ocean.txt\n",
      "10 ../assets/Corpus/male-writers\\1857_hughes-tom-browns-school-days.txt\n",
      "11 ../assets/Corpus/male-writers\\1858_ballantyne-martin-rattler.txt\n",
      "12 ../assets/Corpus/male-writers\\1858_farrar-eric-or-little-by-little.txt\n",
      "13 ../assets/Corpus/male-writers\\1861_hughes-tom-brown-at-oxford.txt\n",
      "14 ../assets/Corpus/male-writers\\1862_farrar-st-winfreds-the-world-of-school.txt\n",
      "15 ../assets/Corpus/male-writers\\1863_ballantyne-fighting-the-whales.txt\n",
      "16 ../assets/Corpus/male-writers\\1863_kingsley-the-water-babies.txt\n",
      "17 ../assets/Corpus/male-writers\\1865_ballantyne-the-lighthouse.txt\n",
      "18 ../assets/Corpus/male-writers\\1865_carroll-alices-adventures-in-wonderland.txt\n",
      "19 ../assets/Corpus/male-writers\\1869_dickens-david-copperfield.txt\n",
      "20 ../assets/Corpus/male-writers\\1870_hemyng-jack-harkaways-boy-tinker-among-the-turks.txt\n",
      "21 ../assets/Corpus/male-writers\\1871_carroll-through-the-looking-glass.txt\n",
      "22 ../assets/Corpus/male-writers\\1871_macdonald-at-the-back-of-the-north-wind.txt\n",
      "23 ../assets/Corpus/male-writers\\1871_macdonald-ranald-bannermans-boyhood.txt\n",
      "24 ../assets/Corpus/male-writers\\1872_ballantyne-the-pioneers.txt\n",
      "25 ../assets/Corpus/male-writers\\1872_macdonald-the-princess-and-the-goblin.txt\n",
      "26 ../assets/Corpus/male-writers\\1873_ballantyne-life-in-the-red-brigade.txt\n",
      "27 ../assets/Corpus/male-writers\\1873_macdonald-gutta-percha-willie-the-working-genius.txt\n",
      "28 ../assets/Corpus/male-writers\\1874_ballantyne-the-pirate-city-an-algerine-tale.txt\n",
      "29 ../assets/Corpus/male-writers\\1875_ballantyne-rivers-of-ice.txt\n",
      "30 ../assets/Corpus/male-writers\\1875_macdonald-a-double-story.txt\n",
      "31 ../assets/Corpus/male-writers\\1876_adams-hair-breadth-escapes-the-adventures-of-the-three-boys-in-south-africa.txt\n",
      "32 ../assets/Corpus/male-writers\\1877_ballantyne-the-settler-and-the-savage.txt\n",
      "33 ../assets/Corpus/male-writers\\1878_kingston-the-three-admirals.txt\n",
      "34 ../assets/Corpus/male-writers\\1879_hemyng-jack-harkaway-in-new-york.txt\n",
      "35 ../assets/Corpus/male-writers\\1879_hemyng-the-slave-of-the-mine.txt\n",
      "36 ../assets/Corpus/male-writers\\1881_ballantyne-my-doggie-and-i.txt\n",
      "37 ../assets/Corpus/male-writers\\1881_reed-the-fifth-form-at-st-dominics.txt\n",
      "38 ../assets/Corpus/male-writers\\1882_ballantyne-the-life-of-a-ship.txt\n",
      "39 ../assets/Corpus/male-writers\\1882_henty-facing-death.txt\n",
      "40 ../assets/Corpus/male-writers\\1882_jefferies-bevis-the-story-of-a-boy.txt\n",
      "41 ../assets/Corpus/male-writers\\1883_ballantyne-battles-with-the-sea.txt\n",
      "42 ../assets/Corpus/male-writers\\1883_ballantyne-the-thorogood-family.txt\n",
      "43 ../assets/Corpus/male-writers\\1883_fenn-nat-the-naturalist-a-boys-adventures-in-the-eastern-seas.txt\n",
      "44 ../assets/Corpus/male-writers\\1883_kingston-adventures-in-africa.txt\n",
      "45 ../assets/Corpus/male-writers\\1883_macdonald-the-princess-and-curdie.txt\n",
      "46 ../assets/Corpus/male-writers\\1883_reed-the-adventures-of-a-three-guinea-watch.txt\n",
      "47 ../assets/Corpus/male-writers\\1883_stevenson-treasure-island.txt\n",
      "48 ../assets/Corpus/male-writers\\1884_collingwood-the-pirate-island-a-story-of-the-south-pacific.txt\n",
      "49 ../assets/Corpus/male-writers\\1884_collingwood-under-the-meteor-flag-log-of-a-midshipman-during-the-french-revolutionary-ear.txt\n",
      "50 ../assets/Corpus/male-writers\\1884_fenn-through-forest-and-stream.txt\n",
      "51 ../assets/Corpus/male-writers\\1884_lang-the-princess-nobody-a-tale-of-fairyland.txt\n",
      "52 ../assets/Corpus/male-writers\\1885_collingwood-the-congo-rovers-a-story-of-the-slave-squadron.txt\n",
      "53 ../assets/Corpus/male-writers\\1885_collingwood-the-voyage-of-the-aurora.txt\n",
      "54 ../assets/Corpus/male-writers\\1885_fenn-the-new-forest-spy.txt\n",
      "55 ../assets/Corpus/male-writers\\1885_henty-the-dragon-and-the-raven.txt\n",
      "56 ../assets/Corpus/male-writers\\1885_henty-the-young-colonists.txt\n",
      "57 ../assets/Corpus/male-writers\\1885_kingston-adventures-in-australia.txt\n",
      "58 ../assets/Corpus/male-writers\\1885_reed-follow-my-leader.txt\n",
      "59 ../assets/Corpus/male-writers\\1885_reed-reginald-cruden.txt\n",
      "60 ../assets/Corpus/male-writers\\1886_ballantyne-the-lively-poll.txt\n",
      "61 ../assets/Corpus/male-writers\\1886_ballantyne-the-prairie-chief.txt\n",
      "62 ../assets/Corpus/male-writers\\1886_fenn-son-phillip.txt\n",
      "63 ../assets/Corpus/male-writers\\1886_henty-for-name-and-fame.txt\n",
      "64 ../assets/Corpus/male-writers\\1886_henty-within-the-enemy-lines.txt\n",
      "65 ../assets/Corpus/male-writers\\1886_stevenson-kidnapped.txt\n",
      "66 ../assets/Corpus/male-writers\\1887_adams-perils-in-the-transvaal-and-zululand.txt\n",
      "67 ../assets/Corpus/male-writers\\1887_collingwood-the-rovers-secret-a-tale-of-the-pirate-cays-and-lagoons-of-cuba.txt\n",
      "68 ../assets/Corpus/male-writers\\1887_fenn-the-bag-of-diamonds.txt\n",
      "69 ../assets/Corpus/male-writers\\1887_reed-the-master-of-the-shell.txt\n",
      "70 ../assets/Corpus/male-writers\\1888_henty-sturdy-and-strong.txt\n",
      "71 ../assets/Corpus/male-writers\\1888_in-the-reign-of-terror.txt\n",
      "72 ../assets/Corpus/male-writers\\1888_lang-the-gold-of-fairnilee.txt\n",
      "73 ../assets/Corpus/male-writers\\1888_macdonald-a-rough-shaking.txt\n",
      "74 ../assets/Corpus/male-writers\\1888_wilde-the-happy-prince-and-other-tales.txt\n",
      "75 ../assets/Corpus/male-writers\\1889_fenn-three-boys.txt\n",
      "76 ../assets/Corpus/male-writers\\1889_lang-prince-prigio.txt\n",
      "77 ../assets/Corpus/male-writers\\1889_reed-sir-ludar.txt\n",
      "78 ../assets/Corpus/male-writers\\1890_ballantyne-the-eagle-cliff.txt\n",
      "79 ../assets/Corpus/male-writers\\1891_reed-roger-ingleton-minor.txt\n",
      "80 ../assets/Corpus/male-writers\\1893_reed-the-cock-house-at-fellsgarth.txt\n",
      "81 ../assets/Corpus/male-writers\\1893_stevenson-catriona.txt\n",
      "82 ../assets/Corpus/male-writers\\1894_collingwood-the-cruise-of-the-esmeralda.txt\n",
      "83 ../assets/Corpus/male-writers\\1894_kipling-the-jungle-book.txt\n",
      "84 ../assets/Corpus/male-writers\\1894_reed-a-dog-with-a-bad-name.txt\n",
      "85 ../assets/Corpus/male-writers\\1894_reed-tom-dick-and-harry.txt\n",
      "86 ../assets/Corpus/male-writers\\1895_collingwood-the-pirate-slaver-a-story-of-the-west-african-coast.txt\n",
      "87 ../assets/Corpus/male-writers\\1895_kipling-the-second-jungle-book.txt\n",
      "88 ../assets/Corpus/male-writers\\1895_reed-kilgorman-a-story-of-ireland-in-1798.txt\n",
      "89 ../assets/Corpus/male-writers\\1896_collingswood-the-log-of-privateersman.txt\n",
      "90 ../assets/Corpus/male-writers\\1897_kipling-captains-courageous-a-story-of-the-grand-banks.txt\n",
      "91 ../assets/Corpus/male-writers\\1898_collingwood-a-pirate-of-the-caribbees.txt\n",
      "92 ../assets/Corpus/male-writers\\1898_farrow-the-wallypug-in-london.txt\n",
      "93 ../assets/Corpus/male-writers\\1899_collingwood-the-castaways.txt\n",
      "94 ../assets/Corpus/male-writers\\1899_kipling-stalky-and-co.txt\n",
      "95 ../assets/Corpus/male-writers\\1900_farrow-the-jungle-baby.txt\n",
      "96 ../assets/Corpus/male-writers\\1900_hemyng-jack-harkaway-and-his-sons-escape-from-the-brigands-of-greece.txt\n",
      "97 ../assets/Corpus/male-writers\\1906_collingwood-across-the-spanish-main-a-tale-of-the-sea-in-the-days-of-queen-bess.txt\n",
      "98 ../assets/Corpus/male-writers\\1907_collingwood-with-airship-and-submarine-a-tale-of-adventure.txt\n",
      "99 ../assets/Corpus/male-writers\\1908_collingwood-a-middy-in-command-a-tale-of-the-slave-squadron.txt\n",
      "100 ../assets/Corpus/male-writers\\1908_collingwood-under-the-chilian-flag-a-tale-of-war-between-chili-and-peru.txt\n",
      "101 ../assets/Corpus/male-writers\\1909_collingwood-harry-escombe-a-tale-of-adventure-in-peru.txt\n",
      "102 ../assets/Corpus/male-writers\\1909_collingwood-the-cruise-of-the-thetis-a-tale-of-the-cuban-insurrection.txt\n",
      "103 ../assets/Corpus/male-writers\\1910_collingwood-a-middy-of-the-slave-squadron-a-west-african-story.txt\n",
      "104 ../assets/Corpus/male-writers\\1910_kipling-rewards-and-fairies.txt\n",
      "105 ../assets/Corpus/male-writers\\1911_collingwood-a-middy-of-the-king-a-romance-of-the-old-british-navy.txt\n",
      "106 ../assets/Corpus/male-writers\\1911_collingwood-the-adventures-of-dick-maitland-a-tale-of-unknown-africa.txt\n",
      "107 ../assets/Corpus/male-writers\\1912_collingwood-two-gallant-sons-of-davon-a-tale-of-the-days-of-queen-bess.txt\n",
      "108 ../assets/Corpus/male-writers\\1914_collingwood-the-first-mate-the-story-of-a-strange-cruise.txt\n"
     ]
    }
   ],
   "source": [
    "directory_paths = [\"../assets/Corpus/male-writers\"]#path to female or male writers\n",
    "file_paths = []\n",
    "\n",
    "for path in directory_paths:\n",
    "    for root, directories, files in os.walk(path):\n",
    "        for filename in files:\n",
    "            # Join the two strings in order to form the full filepath.\n",
    "            filepath = os.path.join(root, filename)\n",
    "            file_paths.append(filepath)\n",
    "\n",
    "for idx, filepath in enumerate(file_paths):\n",
    "    print(idx, filepath)"
   ]
  },
  {
   "cell_type": "code",
   "execution_count": 3,
   "metadata": {},
   "outputs": [
    {
     "name": "stderr",
     "output_type": "stream",
     "text": [
      "  0%|          | 0/109 [00:00<?, ?it/s]"
     ]
    },
    {
     "name": "stdout",
     "output_type": "stream",
     "text": [
      "Loaded dictionary from c:\\Program Files\\Python39\\lib\\site-packages\\gendercomputer-0.1-py3.9.egg\\genderComputer\\..\\nameLists\\gender.dict\n",
      "Finished initialization\n"
     ]
    },
    {
     "name": "stderr",
     "output_type": "stream",
     "text": [
      "  1%|          | 1/109 [01:01<1:51:28, 61.93s/it]"
     ]
    },
    {
     "name": "stdout",
     "output_type": "stream",
     "text": [
      "Loaded dictionary from c:\\Program Files\\Python39\\lib\\site-packages\\gendercomputer-0.1-py3.9.egg\\genderComputer\\..\\nameLists\\gender.dict\n",
      "Finished initialization\n"
     ]
    },
    {
     "name": "stderr",
     "output_type": "stream",
     "text": [
      "  2%|▏         | 2/109 [01:44<1:40:08, 56.15s/it]"
     ]
    },
    {
     "name": "stdout",
     "output_type": "stream",
     "text": [
      "Loaded dictionary from c:\\Program Files\\Python39\\lib\\site-packages\\gendercomputer-0.1-py3.9.egg\\genderComputer\\..\\nameLists\\gender.dict\n",
      "Finished initialization\n"
     ]
    },
    {
     "name": "stderr",
     "output_type": "stream",
     "text": [
      "  4%|▎         | 4/109 [02:15<1:01:45, 35.29s/it]"
     ]
    },
    {
     "name": "stdout",
     "output_type": "stream",
     "text": [
      "Loaded dictionary from c:\\Program Files\\Python39\\lib\\site-packages\\gendercomputer-0.1-py3.9.egg\\genderComputer\\..\\nameLists\\gender.dict\n",
      "Finished initialization\n",
      "Loaded dictionary from c:\\Program Files\\Python39\\lib\\site-packages\\gendercomputer-0.1-py3.9.egg\\genderComputer\\..\\nameLists\\gender.dict\n",
      "Finished initialization\n"
     ]
    },
    {
     "name": "stderr",
     "output_type": "stream",
     "text": [
      "  5%|▍         | 5/109 [03:04<1:08:02, 39.25s/it]"
     ]
    },
    {
     "name": "stdout",
     "output_type": "stream",
     "text": [
      "Loaded dictionary from c:\\Program Files\\Python39\\lib\\site-packages\\gendercomputer-0.1-py3.9.egg\\genderComputer\\..\\nameLists\\gender.dict\n",
      "Finished initialization\n"
     ]
    },
    {
     "name": "stderr",
     "output_type": "stream",
     "text": [
      "  6%|▋         | 7/109 [03:46<48:31, 28.54s/it]  "
     ]
    },
    {
     "name": "stdout",
     "output_type": "stream",
     "text": [
      "Loaded dictionary from c:\\Program Files\\Python39\\lib\\site-packages\\gendercomputer-0.1-py3.9.egg\\genderComputer\\..\\nameLists\\gender.dict\n",
      "Finished initialization\n",
      "Loaded dictionary from c:\\Program Files\\Python39\\lib\\site-packages\\gendercomputer-0.1-py3.9.egg\\genderComputer\\..\\nameLists\\gender.dict\n",
      "Finished initialization\n"
     ]
    },
    {
     "name": "stderr",
     "output_type": "stream",
     "text": [
      "  7%|▋         | 8/109 [06:16<1:48:57, 64.73s/it]"
     ]
    },
    {
     "name": "stdout",
     "output_type": "stream",
     "text": [
      "Loaded dictionary from c:\\Program Files\\Python39\\lib\\site-packages\\gendercomputer-0.1-py3.9.egg\\genderComputer\\..\\nameLists\\gender.dict\n",
      "Finished initialization\n"
     ]
    },
    {
     "name": "stderr",
     "output_type": "stream",
     "text": [
      "  8%|▊         | 9/109 [07:14<1:44:30, 62.71s/it]"
     ]
    },
    {
     "name": "stdout",
     "output_type": "stream",
     "text": [
      "Loaded dictionary from c:\\Program Files\\Python39\\lib\\site-packages\\gendercomputer-0.1-py3.9.egg\\genderComputer\\..\\nameLists\\gender.dict\n",
      "Finished initialization\n"
     ]
    },
    {
     "name": "stderr",
     "output_type": "stream",
     "text": [
      "  9%|▉         | 10/109 [07:53<1:31:59, 55.75s/it]"
     ]
    },
    {
     "name": "stdout",
     "output_type": "stream",
     "text": [
      "Loaded dictionary from c:\\Program Files\\Python39\\lib\\site-packages\\gendercomputer-0.1-py3.9.egg\\genderComputer\\..\\nameLists\\gender.dict\n",
      "Finished initialization\n"
     ]
    },
    {
     "name": "stderr",
     "output_type": "stream",
     "text": [
      " 10%|█         | 11/109 [08:33<1:23:05, 50.87s/it]"
     ]
    },
    {
     "name": "stdout",
     "output_type": "stream",
     "text": [
      "Loaded dictionary from c:\\Program Files\\Python39\\lib\\site-packages\\gendercomputer-0.1-py3.9.egg\\genderComputer\\..\\nameLists\\gender.dict\n",
      "Finished initialization\n"
     ]
    },
    {
     "name": "stderr",
     "output_type": "stream",
     "text": [
      " 11%|█         | 12/109 [08:58<1:10:04, 43.35s/it]"
     ]
    },
    {
     "name": "stdout",
     "output_type": "stream",
     "text": [
      "Loaded dictionary from c:\\Program Files\\Python39\\lib\\site-packages\\gendercomputer-0.1-py3.9.egg\\genderComputer\\..\\nameLists\\gender.dict\n",
      "Finished initialization\n"
     ]
    },
    {
     "name": "stderr",
     "output_type": "stream",
     "text": [
      " 12%|█▏        | 13/109 [09:41<1:09:06, 43.19s/it]"
     ]
    },
    {
     "name": "stdout",
     "output_type": "stream",
     "text": [
      "Loaded dictionary from c:\\Program Files\\Python39\\lib\\site-packages\\gendercomputer-0.1-py3.9.egg\\genderComputer\\..\\nameLists\\gender.dict\n",
      "Finished initialization\n"
     ]
    },
    {
     "name": "stderr",
     "output_type": "stream",
     "text": [
      " 13%|█▎        | 14/109 [10:09<1:00:53, 38.46s/it]"
     ]
    },
    {
     "name": "stdout",
     "output_type": "stream",
     "text": [
      "Loaded dictionary from c:\\Program Files\\Python39\\lib\\site-packages\\gendercomputer-0.1-py3.9.egg\\genderComputer\\..\\nameLists\\gender.dict\n",
      "Finished initialization\n"
     ]
    },
    {
     "name": "stderr",
     "output_type": "stream",
     "text": [
      " 14%|█▍        | 15/109 [11:06<1:09:07, 44.12s/it]"
     ]
    },
    {
     "name": "stdout",
     "output_type": "stream",
     "text": [
      "Loaded dictionary from c:\\Program Files\\Python39\\lib\\site-packages\\gendercomputer-0.1-py3.9.egg\\genderComputer\\..\\nameLists\\gender.dict\n",
      "Finished initialization\n"
     ]
    },
    {
     "name": "stderr",
     "output_type": "stream",
     "text": [
      " 15%|█▍        | 16/109 [11:11<49:59, 32.26s/it]  "
     ]
    },
    {
     "name": "stdout",
     "output_type": "stream",
     "text": [
      "Loaded dictionary from c:\\Program Files\\Python39\\lib\\site-packages\\gendercomputer-0.1-py3.9.egg\\genderComputer\\..\\nameLists\\gender.dict\n"
     ]
    },
    {
     "name": "stderr",
     "output_type": "stream",
     "text": [
      " 16%|█▌        | 17/109 [11:11<34:51, 22.73s/it]"
     ]
    },
    {
     "name": "stdout",
     "output_type": "stream",
     "text": [
      "Finished initialization\n",
      "Loaded dictionary from c:\\Program Files\\Python39\\lib\\site-packages\\gendercomputer-0.1-py3.9.egg\\genderComputer\\..\\nameLists\\gender.dict\n",
      "Finished initialization\n"
     ]
    },
    {
     "name": "stderr",
     "output_type": "stream",
     "text": [
      " 17%|█▋        | 18/109 [11:48<41:02, 27.06s/it]"
     ]
    },
    {
     "name": "stdout",
     "output_type": "stream",
     "text": [
      "Loaded dictionary from c:\\Program Files\\Python39\\lib\\site-packages\\gendercomputer-0.1-py3.9.egg\\genderComputer\\..\\nameLists\\gender.dict\n",
      "Finished initialization\n"
     ]
    },
    {
     "name": "stderr",
     "output_type": "stream",
     "text": [
      " 17%|█▋        | 19/109 [11:58<33:00, 22.01s/it]"
     ]
    },
    {
     "name": "stdout",
     "output_type": "stream",
     "text": [
      "Loaded dictionary from c:\\Program Files\\Python39\\lib\\site-packages\\gendercomputer-0.1-py3.9.egg\\genderComputer\\..\\nameLists\\gender.dict\n",
      "Finished initialization\n"
     ]
    },
    {
     "name": "stderr",
     "output_type": "stream",
     "text": [
      " 18%|█▊        | 20/109 [14:32<1:31:06, 61.43s/it]"
     ]
    },
    {
     "name": "stdout",
     "output_type": "stream",
     "text": [
      "Loaded dictionary from c:\\Program Files\\Python39\\lib\\site-packages\\gendercomputer-0.1-py3.9.egg\\genderComputer\\..\\nameLists\\gender.dict\n",
      "Finished initialization\n"
     ]
    },
    {
     "name": "stderr",
     "output_type": "stream",
     "text": [
      " 19%|█▉        | 21/109 [14:53<1:12:12, 49.23s/it]"
     ]
    },
    {
     "name": "stdout",
     "output_type": "stream",
     "text": [
      "Loaded dictionary from c:\\Program Files\\Python39\\lib\\site-packages\\gendercomputer-0.1-py3.9.egg\\genderComputer\\..\\nameLists\\gender.dict\n",
      "Finished initialization\n"
     ]
    },
    {
     "name": "stderr",
     "output_type": "stream",
     "text": [
      " 20%|██        | 22/109 [15:06<55:58, 38.60s/it]  "
     ]
    },
    {
     "name": "stdout",
     "output_type": "stream",
     "text": [
      "Loaded dictionary from c:\\Program Files\\Python39\\lib\\site-packages\\gendercomputer-0.1-py3.9.egg\\genderComputer\\..\\nameLists\\gender.dict\n",
      "Finished initialization\n"
     ]
    },
    {
     "name": "stderr",
     "output_type": "stream",
     "text": [
      " 22%|██▏       | 24/109 [15:42<37:22, 26.38s/it]"
     ]
    },
    {
     "name": "stdout",
     "output_type": "stream",
     "text": [
      "Loaded dictionary from c:\\Program Files\\Python39\\lib\\site-packages\\gendercomputer-0.1-py3.9.egg\\genderComputer\\..\\nameLists\\gender.dict\n",
      "Finished initialization\n",
      "Loaded dictionary from c:\\Program Files\\Python39\\lib\\site-packages\\gendercomputer-0.1-py3.9.egg\\genderComputer\\..\\nameLists\\gender.dict\n",
      "Finished initialization\n"
     ]
    },
    {
     "name": "stderr",
     "output_type": "stream",
     "text": [
      " 23%|██▎       | 25/109 [15:52<30:23, 21.71s/it]"
     ]
    },
    {
     "name": "stdout",
     "output_type": "stream",
     "text": [
      "Loaded dictionary from c:\\Program Files\\Python39\\lib\\site-packages\\gendercomputer-0.1-py3.9.egg\\genderComputer\\..\\nameLists\\gender.dict\n",
      "Finished initialization\n"
     ]
    },
    {
     "name": "stderr",
     "output_type": "stream",
     "text": [
      " 24%|██▍       | 26/109 [16:13<29:43, 21.49s/it]"
     ]
    },
    {
     "name": "stdout",
     "output_type": "stream",
     "text": [
      "Loaded dictionary from c:\\Program Files\\Python39\\lib\\site-packages\\gendercomputer-0.1-py3.9.egg\\genderComputer\\..\\nameLists\\gender.dict\n",
      "Finished initialization\n"
     ]
    },
    {
     "name": "stderr",
     "output_type": "stream",
     "text": [
      " 26%|██▌       | 28/109 [16:28<18:43, 13.87s/it]"
     ]
    },
    {
     "name": "stdout",
     "output_type": "stream",
     "text": [
      "Loaded dictionary from c:\\Program Files\\Python39\\lib\\site-packages\\gendercomputer-0.1-py3.9.egg\\genderComputer\\..\\nameLists\\gender.dict\n",
      "Finished initialization\n",
      "Loaded dictionary from c:\\Program Files\\Python39\\lib\\site-packages\\gendercomputer-0.1-py3.9.egg\\genderComputer\\..\\nameLists\\gender.dict\n",
      "Finished initialization\n"
     ]
    },
    {
     "name": "stderr",
     "output_type": "stream",
     "text": [
      " 27%|██▋       | 29/109 [17:05<27:34, 20.68s/it]"
     ]
    },
    {
     "name": "stdout",
     "output_type": "stream",
     "text": [
      "Loaded dictionary from c:\\Program Files\\Python39\\lib\\site-packages\\gendercomputer-0.1-py3.9.egg\\genderComputer\\..\\nameLists\\gender.dict\n",
      "Finished initialization\n"
     ]
    },
    {
     "name": "stderr",
     "output_type": "stream",
     "text": [
      " 28%|██▊       | 31/109 [17:54<27:57, 21.50s/it]"
     ]
    },
    {
     "name": "stdout",
     "output_type": "stream",
     "text": [
      "Loaded dictionary from c:\\Program Files\\Python39\\lib\\site-packages\\gendercomputer-0.1-py3.9.egg\\genderComputer\\..\\nameLists\\gender.dict\n",
      "Finished initialization\n",
      "Loaded dictionary from c:\\Program Files\\Python39\\lib\\site-packages\\gendercomputer-0.1-py3.9.egg\\genderComputer\\..\\nameLists\\gender.dict\n",
      "Finished initialization\n"
     ]
    },
    {
     "name": "stderr",
     "output_type": "stream",
     "text": [
      " 29%|██▉       | 32/109 [18:40<36:58, 28.81s/it]"
     ]
    },
    {
     "name": "stdout",
     "output_type": "stream",
     "text": [
      "Loaded dictionary from c:\\Program Files\\Python39\\lib\\site-packages\\gendercomputer-0.1-py3.9.egg\\genderComputer\\..\\nameLists\\gender.dict\n",
      "Finished initialization\n"
     ]
    },
    {
     "name": "stderr",
     "output_type": "stream",
     "text": [
      " 30%|███       | 33/109 [19:23<41:52, 33.06s/it]"
     ]
    },
    {
     "name": "stdout",
     "output_type": "stream",
     "text": [
      "Loaded dictionary from c:\\Program Files\\Python39\\lib\\site-packages\\gendercomputer-0.1-py3.9.egg\\genderComputer\\..\\nameLists\\gender.dict\n",
      "Finished initialization\n"
     ]
    },
    {
     "name": "stderr",
     "output_type": "stream",
     "text": [
      " 31%|███       | 34/109 [20:33<55:27, 44.37s/it]"
     ]
    },
    {
     "name": "stdout",
     "output_type": "stream",
     "text": [
      "Loaded dictionary from c:\\Program Files\\Python39\\lib\\site-packages\\gendercomputer-0.1-py3.9.egg\\genderComputer\\..\\nameLists\\gender.dict\n",
      "Finished initialization\n"
     ]
    },
    {
     "name": "stderr",
     "output_type": "stream",
     "text": [
      " 32%|███▏      | 35/109 [20:46<43:00, 34.87s/it]"
     ]
    },
    {
     "name": "stdout",
     "output_type": "stream",
     "text": [
      "Loaded dictionary from c:\\Program Files\\Python39\\lib\\site-packages\\gendercomputer-0.1-py3.9.egg\\genderComputer\\..\\nameLists\\gender.dict\n",
      "Finished initialization\n"
     ]
    },
    {
     "name": "stderr",
     "output_type": "stream",
     "text": [
      " 33%|███▎      | 36/109 [20:55<33:01, 27.15s/it]"
     ]
    },
    {
     "name": "stdout",
     "output_type": "stream",
     "text": [
      "Loaded dictionary from c:\\Program Files\\Python39\\lib\\site-packages\\gendercomputer-0.1-py3.9.egg\\genderComputer\\..\\nameLists\\gender.dict\n",
      "Finished initialization\n"
     ]
    },
    {
     "name": "stderr",
     "output_type": "stream",
     "text": [
      " 34%|███▍      | 37/109 [21:12<28:44, 23.95s/it]"
     ]
    },
    {
     "name": "stdout",
     "output_type": "stream",
     "text": [
      "Loaded dictionary from c:\\Program Files\\Python39\\lib\\site-packages\\gendercomputer-0.1-py3.9.egg\\genderComputer\\..\\nameLists\\gender.dict\n",
      "Finished initialization\n"
     ]
    },
    {
     "name": "stderr",
     "output_type": "stream",
     "text": [
      " 36%|███▌      | 39/109 [22:00<25:53, 22.20s/it]"
     ]
    },
    {
     "name": "stdout",
     "output_type": "stream",
     "text": [
      "Loaded dictionary from c:\\Program Files\\Python39\\lib\\site-packages\\gendercomputer-0.1-py3.9.egg\\genderComputer\\..\\nameLists\\gender.dict\n",
      "Finished initialization\n",
      "Loaded dictionary from c:\\Program Files\\Python39\\lib\\site-packages\\gendercomputer-0.1-py3.9.egg\\genderComputer\\..\\nameLists\\gender.dict\n",
      "Finished initialization\n"
     ]
    },
    {
     "name": "stderr",
     "output_type": "stream",
     "text": [
      " 37%|███▋      | 40/109 [22:11<21:26, 18.65s/it]"
     ]
    },
    {
     "name": "stdout",
     "output_type": "stream",
     "text": [
      "Loaded dictionary from c:\\Program Files\\Python39\\lib\\site-packages\\gendercomputer-0.1-py3.9.egg\\genderComputer\\..\\nameLists\\gender.dict\n",
      "Finished initialization\n"
     ]
    },
    {
     "name": "stderr",
     "output_type": "stream",
     "text": [
      " 38%|███▊      | 41/109 [23:26<40:24, 35.65s/it]"
     ]
    },
    {
     "name": "stdout",
     "output_type": "stream",
     "text": [
      "Loaded dictionary from c:\\Program Files\\Python39\\lib\\site-packages\\gendercomputer-0.1-py3.9.egg\\genderComputer\\..\\nameLists\\gender.dict\n",
      "Finished initialization\n"
     ]
    },
    {
     "name": "stderr",
     "output_type": "stream",
     "text": [
      " 39%|███▊      | 42/109 [23:39<32:07, 28.77s/it]"
     ]
    },
    {
     "name": "stdout",
     "output_type": "stream",
     "text": [
      "Loaded dictionary from c:\\Program Files\\Python39\\lib\\site-packages\\gendercomputer-0.1-py3.9.egg\\genderComputer\\..\\nameLists\\gender.dict\n",
      "Finished initialization\n"
     ]
    },
    {
     "name": "stderr",
     "output_type": "stream",
     "text": [
      " 39%|███▉      | 43/109 [23:51<26:09, 23.78s/it]"
     ]
    },
    {
     "name": "stdout",
     "output_type": "stream",
     "text": [
      "Loaded dictionary from c:\\Program Files\\Python39\\lib\\site-packages\\gendercomputer-0.1-py3.9.egg\\genderComputer\\..\\nameLists\\gender.dict\n",
      "Finished initialization\n"
     ]
    },
    {
     "name": "stderr",
     "output_type": "stream",
     "text": [
      " 40%|████      | 44/109 [24:28<30:00, 27.69s/it]"
     ]
    },
    {
     "name": "stdout",
     "output_type": "stream",
     "text": [
      "Loaded dictionary from c:\\Program Files\\Python39\\lib\\site-packages\\gendercomputer-0.1-py3.9.egg\\genderComputer\\..\\nameLists\\gender.dict\n"
     ]
    },
    {
     "name": "stderr",
     "output_type": "stream",
     "text": [
      " 41%|████▏     | 45/109 [24:47<26:47, 25.12s/it]"
     ]
    },
    {
     "name": "stdout",
     "output_type": "stream",
     "text": [
      "Finished initialization\n",
      "Loaded dictionary from c:\\Program Files\\Python39\\lib\\site-packages\\gendercomputer-0.1-py3.9.egg\\genderComputer\\..\\nameLists\\gender.dict\n",
      "Finished initialization\n"
     ]
    },
    {
     "name": "stderr",
     "output_type": "stream",
     "text": [
      " 42%|████▏     | 46/109 [25:19<28:27, 27.10s/it]"
     ]
    },
    {
     "name": "stdout",
     "output_type": "stream",
     "text": [
      "Loaded dictionary from c:\\Program Files\\Python39\\lib\\site-packages\\gendercomputer-0.1-py3.9.egg\\genderComputer\\..\\nameLists\\gender.dict\n",
      "Finished initialization\n"
     ]
    },
    {
     "name": "stderr",
     "output_type": "stream",
     "text": [
      " 43%|████▎     | 47/109 [26:06<34:20, 33.23s/it]"
     ]
    },
    {
     "name": "stdout",
     "output_type": "stream",
     "text": [
      "Loaded dictionary from c:\\Program Files\\Python39\\lib\\site-packages\\gendercomputer-0.1-py3.9.egg\\genderComputer\\..\\nameLists\\gender.dict\n",
      "Finished initialization\n"
     ]
    },
    {
     "name": "stderr",
     "output_type": "stream",
     "text": [
      " 44%|████▍     | 48/109 [26:40<34:00, 33.45s/it]"
     ]
    },
    {
     "name": "stdout",
     "output_type": "stream",
     "text": [
      "Loaded dictionary from c:\\Program Files\\Python39\\lib\\site-packages\\gendercomputer-0.1-py3.9.egg\\genderComputer\\..\\nameLists\\gender.dict\n",
      "Finished initialization\n"
     ]
    },
    {
     "name": "stderr",
     "output_type": "stream",
     "text": [
      " 45%|████▍     | 49/109 [27:25<37:02, 37.05s/it]"
     ]
    },
    {
     "name": "stdout",
     "output_type": "stream",
     "text": [
      "Loaded dictionary from c:\\Program Files\\Python39\\lib\\site-packages\\gendercomputer-0.1-py3.9.egg\\genderComputer\\..\\nameLists\\gender.dict\n",
      "Finished initialization\n"
     ]
    },
    {
     "name": "stderr",
     "output_type": "stream",
     "text": [
      " 46%|████▌     | 50/109 [28:22<42:09, 42.87s/it]"
     ]
    },
    {
     "name": "stdout",
     "output_type": "stream",
     "text": [
      "Loaded dictionary from c:\\Program Files\\Python39\\lib\\site-packages\\gendercomputer-0.1-py3.9.egg\\genderComputer\\..\\nameLists\\gender.dict\n",
      "Finished initialization\n"
     ]
    },
    {
     "name": "stderr",
     "output_type": "stream",
     "text": [
      " 47%|████▋     | 51/109 [28:35<32:42, 33.84s/it]"
     ]
    },
    {
     "name": "stdout",
     "output_type": "stream",
     "text": [
      "Loaded dictionary from c:\\Program Files\\Python39\\lib\\site-packages\\gendercomputer-0.1-py3.9.egg\\genderComputer\\..\\nameLists\\gender.dict\n",
      "Finished initialization\n"
     ]
    },
    {
     "name": "stderr",
     "output_type": "stream",
     "text": [
      " 48%|████▊     | 52/109 [28:35<22:38, 23.83s/it]"
     ]
    },
    {
     "name": "stdout",
     "output_type": "stream",
     "text": [
      "Loaded dictionary from c:\\Program Files\\Python39\\lib\\site-packages\\gendercomputer-0.1-py3.9.egg\\genderComputer\\..\\nameLists\\gender.dict\n",
      "Finished initialization\n"
     ]
    },
    {
     "name": "stderr",
     "output_type": "stream",
     "text": [
      " 49%|████▊     | 53/109 [29:13<26:10, 28.05s/it]"
     ]
    },
    {
     "name": "stdout",
     "output_type": "stream",
     "text": [
      "Loaded dictionary from c:\\Program Files\\Python39\\lib\\site-packages\\gendercomputer-0.1-py3.9.egg\\genderComputer\\..\\nameLists\\gender.dict\n",
      "Finished initialization\n"
     ]
    },
    {
     "name": "stderr",
     "output_type": "stream",
     "text": [
      " 50%|████▉     | 54/109 [29:46<27:04, 29.53s/it]"
     ]
    },
    {
     "name": "stdout",
     "output_type": "stream",
     "text": [
      "Loaded dictionary from c:\\Program Files\\Python39\\lib\\site-packages\\gendercomputer-0.1-py3.9.egg\\genderComputer\\..\\nameLists\\gender.dict\n",
      "Finished initialization\n"
     ]
    },
    {
     "name": "stderr",
     "output_type": "stream",
     "text": [
      " 50%|█████     | 55/109 [30:00<22:19, 24.81s/it]"
     ]
    },
    {
     "name": "stdout",
     "output_type": "stream",
     "text": [
      "Loaded dictionary from c:\\Program Files\\Python39\\lib\\site-packages\\gendercomputer-0.1-py3.9.egg\\genderComputer\\..\\nameLists\\gender.dict\n",
      "Finished initialization\n"
     ]
    },
    {
     "name": "stderr",
     "output_type": "stream",
     "text": [
      " 51%|█████▏    | 56/109 [30:32<23:57, 27.12s/it]"
     ]
    },
    {
     "name": "stdout",
     "output_type": "stream",
     "text": [
      "Loaded dictionary from c:\\Program Files\\Python39\\lib\\site-packages\\gendercomputer-0.1-py3.9.egg\\genderComputer\\..\\nameLists\\gender.dict\n",
      "Finished initialization\n"
     ]
    },
    {
     "name": "stderr",
     "output_type": "stream",
     "text": [
      " 52%|█████▏    | 57/109 [31:07<25:34, 29.50s/it]"
     ]
    },
    {
     "name": "stdout",
     "output_type": "stream",
     "text": [
      "Loaded dictionary from c:\\Program Files\\Python39\\lib\\site-packages\\gendercomputer-0.1-py3.9.egg\\genderComputer\\..\\nameLists\\gender.dict\n",
      "Finished initialization\n"
     ]
    },
    {
     "name": "stderr",
     "output_type": "stream",
     "text": [
      " 53%|█████▎    | 58/109 [31:19<20:30, 24.13s/it]"
     ]
    },
    {
     "name": "stdout",
     "output_type": "stream",
     "text": [
      "Loaded dictionary from c:\\Program Files\\Python39\\lib\\site-packages\\gendercomputer-0.1-py3.9.egg\\genderComputer\\..\\nameLists\\gender.dict\n",
      "Finished initialization\n"
     ]
    },
    {
     "name": "stderr",
     "output_type": "stream",
     "text": [
      " 54%|█████▍    | 59/109 [32:02<24:47, 29.75s/it]"
     ]
    },
    {
     "name": "stdout",
     "output_type": "stream",
     "text": [
      "Loaded dictionary from c:\\Program Files\\Python39\\lib\\site-packages\\gendercomputer-0.1-py3.9.egg\\genderComputer\\..\\nameLists\\gender.dict\n",
      "Finished initialization\n"
     ]
    },
    {
     "name": "stderr",
     "output_type": "stream",
     "text": [
      " 55%|█████▌    | 60/109 [32:36<25:27, 31.18s/it]"
     ]
    },
    {
     "name": "stdout",
     "output_type": "stream",
     "text": [
      "Loaded dictionary from c:\\Program Files\\Python39\\lib\\site-packages\\gendercomputer-0.1-py3.9.egg\\genderComputer\\..\\nameLists\\gender.dict\n",
      "Finished initialization\n"
     ]
    },
    {
     "name": "stderr",
     "output_type": "stream",
     "text": [
      " 56%|█████▌    | 61/109 [32:50<20:49, 26.03s/it]"
     ]
    },
    {
     "name": "stdout",
     "output_type": "stream",
     "text": [
      "Loaded dictionary from c:\\Program Files\\Python39\\lib\\site-packages\\gendercomputer-0.1-py3.9.egg\\genderComputer\\..\\nameLists\\gender.dict\n",
      "Finished initialization\n"
     ]
    },
    {
     "name": "stderr",
     "output_type": "stream",
     "text": [
      " 58%|█████▊    | 63/109 [33:17<14:21, 18.74s/it]"
     ]
    },
    {
     "name": "stdout",
     "output_type": "stream",
     "text": [
      "Loaded dictionary from c:\\Program Files\\Python39\\lib\\site-packages\\gendercomputer-0.1-py3.9.egg\\genderComputer\\..\\nameLists\\gender.dict\n",
      "Finished initialization\n",
      "Loaded dictionary from c:\\Program Files\\Python39\\lib\\site-packages\\gendercomputer-0.1-py3.9.egg\\genderComputer\\..\\nameLists\\gender.dict\n",
      "Finished initialization\n"
     ]
    },
    {
     "name": "stderr",
     "output_type": "stream",
     "text": [
      " 59%|█████▊    | 64/109 [34:01<19:42, 26.29s/it]"
     ]
    },
    {
     "name": "stdout",
     "output_type": "stream",
     "text": [
      "Loaded dictionary from c:\\Program Files\\Python39\\lib\\site-packages\\gendercomputer-0.1-py3.9.egg\\genderComputer\\..\\nameLists\\gender.dict\n",
      "Finished initialization\n"
     ]
    },
    {
     "name": "stderr",
     "output_type": "stream",
     "text": [
      " 60%|█████▉    | 65/109 [34:11<15:41, 21.39s/it]"
     ]
    },
    {
     "name": "stdout",
     "output_type": "stream",
     "text": [
      "Loaded dictionary from c:\\Program Files\\Python39\\lib\\site-packages\\gendercomputer-0.1-py3.9.egg\\genderComputer\\..\\nameLists\\gender.dict\n",
      "Finished initialization\n"
     ]
    },
    {
     "name": "stderr",
     "output_type": "stream",
     "text": [
      " 61%|██████    | 66/109 [34:50<19:15, 26.88s/it]"
     ]
    },
    {
     "name": "stdout",
     "output_type": "stream",
     "text": [
      "Loaded dictionary from c:\\Program Files\\Python39\\lib\\site-packages\\gendercomputer-0.1-py3.9.egg\\genderComputer\\..\\nameLists\\gender.dict\n",
      "Finished initialization\n"
     ]
    },
    {
     "name": "stderr",
     "output_type": "stream",
     "text": [
      " 61%|██████▏   | 67/109 [35:44<24:26, 34.93s/it]"
     ]
    },
    {
     "name": "stdout",
     "output_type": "stream",
     "text": [
      "Loaded dictionary from c:\\Program Files\\Python39\\lib\\site-packages\\gendercomputer-0.1-py3.9.egg\\genderComputer\\..\\nameLists\\gender.dict\n",
      "Finished initialization\n"
     ]
    },
    {
     "name": "stderr",
     "output_type": "stream",
     "text": [
      " 62%|██████▏   | 68/109 [36:33<26:38, 38.99s/it]"
     ]
    },
    {
     "name": "stdout",
     "output_type": "stream",
     "text": [
      "Loaded dictionary from c:\\Program Files\\Python39\\lib\\site-packages\\gendercomputer-0.1-py3.9.egg\\genderComputer\\..\\nameLists\\gender.dict\n",
      "Finished initialization\n"
     ]
    },
    {
     "name": "stderr",
     "output_type": "stream",
     "text": [
      " 63%|██████▎   | 69/109 [36:50<21:45, 32.63s/it]"
     ]
    },
    {
     "name": "stdout",
     "output_type": "stream",
     "text": [
      "Loaded dictionary from c:\\Program Files\\Python39\\lib\\site-packages\\gendercomputer-0.1-py3.9.egg\\genderComputer\\..\\nameLists\\gender.dict\n",
      "Finished initialization\n"
     ]
    },
    {
     "name": "stderr",
     "output_type": "stream",
     "text": [
      " 64%|██████▍   | 70/109 [37:35<23:32, 36.21s/it]"
     ]
    },
    {
     "name": "stdout",
     "output_type": "stream",
     "text": [
      "Loaded dictionary from c:\\Program Files\\Python39\\lib\\site-packages\\gendercomputer-0.1-py3.9.egg\\genderComputer\\..\\nameLists\\gender.dict\n",
      "Finished initialization\n"
     ]
    },
    {
     "name": "stderr",
     "output_type": "stream",
     "text": [
      " 65%|██████▌   | 71/109 [38:01<21:04, 33.27s/it]"
     ]
    },
    {
     "name": "stdout",
     "output_type": "stream",
     "text": [
      "Loaded dictionary from c:\\Program Files\\Python39\\lib\\site-packages\\gendercomputer-0.1-py3.9.egg\\genderComputer\\..\\nameLists\\gender.dict\n",
      "Finished initialization\n"
     ]
    },
    {
     "name": "stderr",
     "output_type": "stream",
     "text": [
      " 66%|██████▌   | 72/109 [38:39<21:22, 34.66s/it]"
     ]
    },
    {
     "name": "stdout",
     "output_type": "stream",
     "text": [
      "Loaded dictionary from c:\\Program Files\\Python39\\lib\\site-packages\\gendercomputer-0.1-py3.9.egg\\genderComputer\\..\\nameLists\\gender.dict\n",
      "Finished initialization\n"
     ]
    },
    {
     "name": "stderr",
     "output_type": "stream",
     "text": [
      " 67%|██████▋   | 73/109 [38:40<14:44, 24.58s/it]"
     ]
    },
    {
     "name": "stdout",
     "output_type": "stream",
     "text": [
      "Loaded dictionary from c:\\Program Files\\Python39\\lib\\site-packages\\gendercomputer-0.1-py3.9.egg\\genderComputer\\..\\nameLists\\gender.dict\n",
      "Finished initialization\n"
     ]
    },
    {
     "name": "stderr",
     "output_type": "stream",
     "text": [
      " 68%|██████▊   | 74/109 [39:25<17:46, 30.46s/it]"
     ]
    },
    {
     "name": "stdout",
     "output_type": "stream",
     "text": [
      "Loaded dictionary from c:\\Program Files\\Python39\\lib\\site-packages\\gendercomputer-0.1-py3.9.egg\\genderComputer\\..\\nameLists\\gender.dict\n",
      "Finished initialization\n"
     ]
    },
    {
     "name": "stderr",
     "output_type": "stream",
     "text": [
      " 69%|██████▉   | 75/109 [39:32<13:20, 23.56s/it]"
     ]
    },
    {
     "name": "stdout",
     "output_type": "stream",
     "text": [
      "Loaded dictionary from c:\\Program Files\\Python39\\lib\\site-packages\\gendercomputer-0.1-py3.9.egg\\genderComputer\\..\\nameLists\\gender.dict\n",
      "Finished initialization\n"
     ]
    },
    {
     "name": "stderr",
     "output_type": "stream",
     "text": [
      " 70%|██████▉   | 76/109 [40:12<15:43, 28.59s/it]"
     ]
    },
    {
     "name": "stdout",
     "output_type": "stream",
     "text": [
      "Loaded dictionary from c:\\Program Files\\Python39\\lib\\site-packages\\gendercomputer-0.1-py3.9.egg\\genderComputer\\..\\nameLists\\gender.dict\n",
      "Finished initialization\n"
     ]
    },
    {
     "name": "stderr",
     "output_type": "stream",
     "text": [
      " 71%|███████   | 77/109 [40:23<12:19, 23.11s/it]"
     ]
    },
    {
     "name": "stdout",
     "output_type": "stream",
     "text": [
      "Loaded dictionary from c:\\Program Files\\Python39\\lib\\site-packages\\gendercomputer-0.1-py3.9.egg\\genderComputer\\..\\nameLists\\gender.dict\n",
      "Finished initialization\n"
     ]
    },
    {
     "name": "stderr",
     "output_type": "stream",
     "text": [
      " 72%|███████▏  | 78/109 [41:12<15:58, 30.93s/it]"
     ]
    },
    {
     "name": "stdout",
     "output_type": "stream",
     "text": [
      "Loaded dictionary from c:\\Program Files\\Python39\\lib\\site-packages\\gendercomputer-0.1-py3.9.egg\\genderComputer\\..\\nameLists\\gender.dict\n",
      "Finished initialization\n"
     ]
    },
    {
     "name": "stderr",
     "output_type": "stream",
     "text": [
      " 72%|███████▏  | 79/109 [41:42<15:18, 30.63s/it]"
     ]
    },
    {
     "name": "stdout",
     "output_type": "stream",
     "text": [
      "Loaded dictionary from c:\\Program Files\\Python39\\lib\\site-packages\\gendercomputer-0.1-py3.9.egg\\genderComputer\\..\\nameLists\\gender.dict\n",
      "Finished initialization\n"
     ]
    },
    {
     "name": "stderr",
     "output_type": "stream",
     "text": [
      " 73%|███████▎  | 80/109 [42:18<15:38, 32.36s/it]"
     ]
    },
    {
     "name": "stdout",
     "output_type": "stream",
     "text": [
      "Loaded dictionary from c:\\Program Files\\Python39\\lib\\site-packages\\gendercomputer-0.1-py3.9.egg\\genderComputer\\..\\nameLists\\gender.dict\n",
      "Finished initialization\n"
     ]
    },
    {
     "name": "stderr",
     "output_type": "stream",
     "text": [
      " 74%|███████▍  | 81/109 [42:57<15:59, 34.28s/it]"
     ]
    },
    {
     "name": "stdout",
     "output_type": "stream",
     "text": [
      "Loaded dictionary from c:\\Program Files\\Python39\\lib\\site-packages\\gendercomputer-0.1-py3.9.egg\\genderComputer\\..\\nameLists\\gender.dict\n",
      "Finished initialization\n"
     ]
    },
    {
     "name": "stderr",
     "output_type": "stream",
     "text": [
      " 75%|███████▌  | 82/109 [43:47<17:32, 38.99s/it]"
     ]
    },
    {
     "name": "stdout",
     "output_type": "stream",
     "text": [
      "Loaded dictionary from c:\\Program Files\\Python39\\lib\\site-packages\\gendercomputer-0.1-py3.9.egg\\genderComputer\\..\\nameLists\\gender.dict\n",
      "Finished initialization\n"
     ]
    },
    {
     "name": "stderr",
     "output_type": "stream",
     "text": [
      " 76%|███████▌  | 83/109 [44:24<16:36, 38.33s/it]"
     ]
    },
    {
     "name": "stdout",
     "output_type": "stream",
     "text": [
      "Loaded dictionary from c:\\Program Files\\Python39\\lib\\site-packages\\gendercomputer-0.1-py3.9.egg\\genderComputer\\..\\nameLists\\gender.dict\n",
      "Finished initialization\n"
     ]
    },
    {
     "name": "stderr",
     "output_type": "stream",
     "text": [
      " 77%|███████▋  | 84/109 [44:49<14:23, 34.54s/it]"
     ]
    },
    {
     "name": "stdout",
     "output_type": "stream",
     "text": [
      "Loaded dictionary from c:\\Program Files\\Python39\\lib\\site-packages\\gendercomputer-0.1-py3.9.egg\\genderComputer\\..\\nameLists\\gender.dict\n",
      "Finished initialization\n"
     ]
    },
    {
     "name": "stderr",
     "output_type": "stream",
     "text": [
      " 78%|███████▊  | 85/109 [45:27<14:14, 35.61s/it]"
     ]
    },
    {
     "name": "stdout",
     "output_type": "stream",
     "text": [
      "Loaded dictionary from c:\\Program Files\\Python39\\lib\\site-packages\\gendercomputer-0.1-py3.9.egg\\genderComputer\\..\\nameLists\\gender.dict\n",
      "Finished initialization\n"
     ]
    },
    {
     "name": "stderr",
     "output_type": "stream",
     "text": [
      " 79%|███████▉  | 86/109 [46:08<14:12, 37.07s/it]"
     ]
    },
    {
     "name": "stdout",
     "output_type": "stream",
     "text": [
      "Loaded dictionary from c:\\Program Files\\Python39\\lib\\site-packages\\gendercomputer-0.1-py3.9.egg\\genderComputer\\..\\nameLists\\gender.dict\n",
      "Finished initialization\n"
     ]
    },
    {
     "name": "stderr",
     "output_type": "stream",
     "text": [
      " 80%|███████▉  | 87/109 [46:46<13:41, 37.36s/it]"
     ]
    },
    {
     "name": "stdout",
     "output_type": "stream",
     "text": [
      "Loaded dictionary from c:\\Program Files\\Python39\\lib\\site-packages\\gendercomputer-0.1-py3.9.egg\\genderComputer\\..\\nameLists\\gender.dict\n",
      "Finished initialization\n"
     ]
    },
    {
     "name": "stderr",
     "output_type": "stream",
     "text": [
      " 81%|████████  | 88/109 [47:16<12:19, 35.22s/it]"
     ]
    },
    {
     "name": "stdout",
     "output_type": "stream",
     "text": [
      "Loaded dictionary from c:\\Program Files\\Python39\\lib\\site-packages\\gendercomputer-0.1-py3.9.egg\\genderComputer\\..\\nameLists\\gender.dict\n",
      "Finished initialization\n"
     ]
    },
    {
     "name": "stderr",
     "output_type": "stream",
     "text": [
      " 82%|████████▏ | 89/109 [48:02<12:46, 38.35s/it]"
     ]
    },
    {
     "name": "stdout",
     "output_type": "stream",
     "text": [
      "Loaded dictionary from c:\\Program Files\\Python39\\lib\\site-packages\\gendercomputer-0.1-py3.9.egg\\genderComputer\\..\\nameLists\\gender.dict\n",
      "Finished initialization\n"
     ]
    },
    {
     "name": "stderr",
     "output_type": "stream",
     "text": [
      " 83%|████████▎ | 90/109 [48:41<12:14, 38.68s/it]"
     ]
    },
    {
     "name": "stdout",
     "output_type": "stream",
     "text": [
      "Loaded dictionary from c:\\Program Files\\Python39\\lib\\site-packages\\gendercomputer-0.1-py3.9.egg\\genderComputer\\..\\nameLists\\gender.dict\n",
      "Finished initialization\n"
     ]
    },
    {
     "name": "stderr",
     "output_type": "stream",
     "text": [
      " 83%|████████▎ | 91/109 [49:07<10:25, 34.77s/it]"
     ]
    },
    {
     "name": "stdout",
     "output_type": "stream",
     "text": [
      "Loaded dictionary from c:\\Program Files\\Python39\\lib\\site-packages\\gendercomputer-0.1-py3.9.egg\\genderComputer\\..\\nameLists\\gender.dict\n",
      "Finished initialization\n"
     ]
    },
    {
     "name": "stderr",
     "output_type": "stream",
     "text": [
      " 84%|████████▍ | 92/109 [49:39<09:38, 34.02s/it]"
     ]
    },
    {
     "name": "stdout",
     "output_type": "stream",
     "text": [
      "Loaded dictionary from c:\\Program Files\\Python39\\lib\\site-packages\\gendercomputer-0.1-py3.9.egg\\genderComputer\\..\\nameLists\\gender.dict\n",
      "Finished initialization\n"
     ]
    },
    {
     "name": "stderr",
     "output_type": "stream",
     "text": [
      " 85%|████████▌ | 93/109 [49:40<06:26, 24.16s/it]"
     ]
    },
    {
     "name": "stdout",
     "output_type": "stream",
     "text": [
      "Loaded dictionary from c:\\Program Files\\Python39\\lib\\site-packages\\gendercomputer-0.1-py3.9.egg\\genderComputer\\..\\nameLists\\gender.dict\n",
      "Finished initialization\n"
     ]
    },
    {
     "name": "stderr",
     "output_type": "stream",
     "text": [
      " 86%|████████▌ | 94/109 [50:10<06:28, 25.92s/it]"
     ]
    },
    {
     "name": "stdout",
     "output_type": "stream",
     "text": [
      "Loaded dictionary from c:\\Program Files\\Python39\\lib\\site-packages\\gendercomputer-0.1-py3.9.egg\\genderComputer\\..\\nameLists\\gender.dict\n",
      "Finished initialization\n"
     ]
    },
    {
     "name": "stderr",
     "output_type": "stream",
     "text": [
      " 88%|████████▊ | 96/109 [50:46<04:23, 20.31s/it]"
     ]
    },
    {
     "name": "stdout",
     "output_type": "stream",
     "text": [
      "Loaded dictionary from c:\\Program Files\\Python39\\lib\\site-packages\\gendercomputer-0.1-py3.9.egg\\genderComputer\\..\\nameLists\\gender.dict\n",
      "Finished initialization\n",
      "Loaded dictionary from c:\\Program Files\\Python39\\lib\\site-packages\\gendercomputer-0.1-py3.9.egg\\genderComputer\\..\\nameLists\\gender.dict\n",
      "Finished initialization\n"
     ]
    },
    {
     "name": "stderr",
     "output_type": "stream",
     "text": [
      " 89%|████████▉ | 97/109 [51:18<04:44, 23.69s/it]"
     ]
    },
    {
     "name": "stdout",
     "output_type": "stream",
     "text": [
      "Loaded dictionary from c:\\Program Files\\Python39\\lib\\site-packages\\gendercomputer-0.1-py3.9.egg\\genderComputer\\..\\nameLists\\gender.dict\n",
      "Finished initialization\n"
     ]
    },
    {
     "name": "stderr",
     "output_type": "stream",
     "text": [
      " 90%|████████▉ | 98/109 [51:54<05:01, 27.41s/it]"
     ]
    },
    {
     "name": "stdout",
     "output_type": "stream",
     "text": [
      "Loaded dictionary from c:\\Program Files\\Python39\\lib\\site-packages\\gendercomputer-0.1-py3.9.egg\\genderComputer\\..\\nameLists\\gender.dict\n",
      "Finished initialization\n"
     ]
    },
    {
     "name": "stderr",
     "output_type": "stream",
     "text": [
      " 91%|█████████ | 99/109 [52:36<05:16, 31.69s/it]"
     ]
    },
    {
     "name": "stdout",
     "output_type": "stream",
     "text": [
      "Loaded dictionary from c:\\Program Files\\Python39\\lib\\site-packages\\gendercomputer-0.1-py3.9.egg\\genderComputer\\..\\nameLists\\gender.dict\n",
      "Finished initialization\n"
     ]
    },
    {
     "name": "stderr",
     "output_type": "stream",
     "text": [
      " 92%|█████████▏| 100/109 [53:15<05:05, 33.90s/it]"
     ]
    },
    {
     "name": "stdout",
     "output_type": "stream",
     "text": [
      "Loaded dictionary from c:\\Program Files\\Python39\\lib\\site-packages\\gendercomputer-0.1-py3.9.egg\\genderComputer\\..\\nameLists\\gender.dict\n",
      "Finished initialization\n"
     ]
    },
    {
     "name": "stderr",
     "output_type": "stream",
     "text": [
      " 93%|█████████▎| 101/109 [53:49<04:32, 34.02s/it]"
     ]
    },
    {
     "name": "stdout",
     "output_type": "stream",
     "text": [
      "Loaded dictionary from c:\\Program Files\\Python39\\lib\\site-packages\\gendercomputer-0.1-py3.9.egg\\genderComputer\\..\\nameLists\\gender.dict\n",
      "Finished initialization\n"
     ]
    },
    {
     "name": "stderr",
     "output_type": "stream",
     "text": [
      " 94%|█████████▎| 102/109 [54:27<04:06, 35.19s/it]"
     ]
    },
    {
     "name": "stdout",
     "output_type": "stream",
     "text": [
      "Loaded dictionary from c:\\Program Files\\Python39\\lib\\site-packages\\gendercomputer-0.1-py3.9.egg\\genderComputer\\..\\nameLists\\gender.dict\n",
      "Finished initialization\n"
     ]
    },
    {
     "name": "stderr",
     "output_type": "stream",
     "text": [
      " 94%|█████████▍| 103/109 [55:06<03:37, 36.31s/it]"
     ]
    },
    {
     "name": "stdout",
     "output_type": "stream",
     "text": [
      "Loaded dictionary from c:\\Program Files\\Python39\\lib\\site-packages\\gendercomputer-0.1-py3.9.egg\\genderComputer\\..\\nameLists\\gender.dict\n",
      "Finished initialization\n"
     ]
    },
    {
     "name": "stderr",
     "output_type": "stream",
     "text": [
      " 95%|█████████▌| 104/109 [55:46<03:06, 37.35s/it]"
     ]
    },
    {
     "name": "stdout",
     "output_type": "stream",
     "text": [
      "Loaded dictionary from c:\\Program Files\\Python39\\lib\\site-packages\\gendercomputer-0.1-py3.9.egg\\genderComputer\\..\\nameLists\\gender.dict\n",
      "Finished initialization\n"
     ]
    },
    {
     "name": "stderr",
     "output_type": "stream",
     "text": [
      " 96%|█████████▋| 105/109 [56:24<02:30, 37.52s/it]"
     ]
    },
    {
     "name": "stdout",
     "output_type": "stream",
     "text": [
      "Loaded dictionary from c:\\Program Files\\Python39\\lib\\site-packages\\gendercomputer-0.1-py3.9.egg\\genderComputer\\..\\nameLists\\gender.dict\n",
      "Finished initialization\n"
     ]
    },
    {
     "name": "stderr",
     "output_type": "stream",
     "text": [
      " 97%|█████████▋| 106/109 [57:04<01:55, 38.43s/it]"
     ]
    },
    {
     "name": "stdout",
     "output_type": "stream",
     "text": [
      "Loaded dictionary from c:\\Program Files\\Python39\\lib\\site-packages\\gendercomputer-0.1-py3.9.egg\\genderComputer\\..\\nameLists\\gender.dict\n",
      "Finished initialization\n"
     ]
    },
    {
     "name": "stderr",
     "output_type": "stream",
     "text": [
      " 98%|█████████▊| 107/109 [57:39<01:14, 37.41s/it]"
     ]
    },
    {
     "name": "stdout",
     "output_type": "stream",
     "text": [
      "Loaded dictionary from c:\\Program Files\\Python39\\lib\\site-packages\\gendercomputer-0.1-py3.9.egg\\genderComputer\\..\\nameLists\\gender.dict\n",
      "Finished initialization\n"
     ]
    },
    {
     "name": "stderr",
     "output_type": "stream",
     "text": [
      " 99%|█████████▉| 108/109 [58:21<00:38, 38.66s/it]"
     ]
    },
    {
     "name": "stdout",
     "output_type": "stream",
     "text": [
      "Loaded dictionary from c:\\Program Files\\Python39\\lib\\site-packages\\gendercomputer-0.1-py3.9.egg\\genderComputer\\..\\nameLists\\gender.dict\n",
      "Finished initialization\n"
     ]
    },
    {
     "name": "stderr",
     "output_type": "stream",
     "text": [
      "100%|██████████| 109/109 [58:51<00:00, 32.40s/it]\n"
     ]
    }
   ],
   "source": [
    "import csv\n",
    "\n",
    "characters = {\"female_corpus\": {}, \"male_corpus\": {}}\n",
    "for file_path in tqdm(file_paths): #tqdm just displays a progress bar in the terminal\n",
    "    title = file_path.split(\"/\")[-1][:-4]\n",
    "    \n",
    "    extraction = gender_recognition(get_characters(open(file_path, encoding=\"utf8\").read()))\n",
    "    \n",
    "    characters[\"male_corpus\"][title] = {}\n",
    "    characters[\"male_corpus\"][title][\"book_title\"] = title #book title\n",
    "    characters[\"male_corpus\"][title][\"male_characters\"] = len(extraction[0])\n",
    "    characters[\"male_corpus\"][title][\"male_characters_names\"] = extraction[0] #male chars names\n",
    "    characters[\"male_corpus\"][title][\"female_characters\"] = len(extraction[1])\n",
    "    characters[\"male_corpus\"][title][\"female_characters_names\"] = extraction[1] #female chars names\n",
    "    characters[\"male_corpus\"][title][\"none\"] = len(extraction[2])\n",
    "    characters[\"male_corpus\"][title][\"unknown_gender_names\"] = extraction[2] #unknown gender names\n",
    "    characters[\"male_corpus\"][title][\"authors_sex\"] = \"male\" #author's sex\n",
    "\n",
    "with open('characters_from_male_corpus.csv', 'w', encoding='utf-8') as file:\n",
    "    fields = [\"book_title\", \"male_characters\", \"male_characters_names\", \"female_characters\", \"female_characters_names\", \"none\", \"unknown_gender_names\", \"authors_sex\"]\n",
    "    writer = csv.DictWriter(file, fieldnames=fields)\n",
    "    writer.writeheader()\n",
    "    for corpus_gender, dictionary in characters.items():\n",
    "        for k,v in dictionary.items():\n",
    "            writer.writerow(v)"
   ]
  }
 ],
 "metadata": {
  "kernelspec": {
   "display_name": "Python 3.9.0 64-bit",
   "language": "python",
   "name": "python3"
  },
  "language_info": {
   "codemirror_mode": {
    "name": "ipython",
    "version": 3
   },
   "file_extension": ".py",
   "mimetype": "text/x-python",
   "name": "python",
   "nbconvert_exporter": "python",
   "pygments_lexer": "ipython3",
   "version": "3.9.0"
  },
  "orig_nbformat": 4,
  "vscode": {
   "interpreter": {
    "hash": "11938c6bc6919ae2720b4d5011047913343b08a43b18698fd82dedb0d4417594"
   }
  }
 },
 "nbformat": 4,
 "nbformat_minor": 2
}
