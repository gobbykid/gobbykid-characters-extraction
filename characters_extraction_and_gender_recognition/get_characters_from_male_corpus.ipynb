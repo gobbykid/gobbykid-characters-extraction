{
 "cells": [
  {
   "cell_type": "markdown",
   "metadata": {},
   "source": [
    "## It is necessary to extract characters from the male and the female corpus at two separate times, due to the Genderize library limitations to the API requests."
   ]
  },
  {
   "cell_type": "code",
   "execution_count": 1,
   "metadata": {},
   "outputs": [],
   "source": [
    "import csv\n",
    "from charEx import *\n",
    "from genderRec import *\n",
    "import os\n",
    "from tqdm import tqdm #for progress bar"
   ]
  },
  {
   "cell_type": "markdown",
   "metadata": {},
   "source": [
    "#### All the file paths of the corpus are stored into a list:"
   ]
  },
  {
   "cell_type": "code",
   "execution_count": 1,
   "metadata": {},
   "outputs": [],
   "source": [
    "directory_paths = [\"../assets/Corpus/male-writers\"]#path to female or male writers\n",
    "file_paths = []\n",
    "\n",
    "for path in directory_paths:\n",
    "    for root, directories, files in os.walk(path):\n",
    "        for filename in files:\n",
    "            # Join the two strings in order to form the full filepath.\n",
    "            filepath = os.path.join(root, filename)\n",
    "            file_paths.append(filepath)"
   ]
  },
  {
   "cell_type": "markdown",
   "metadata": {},
   "source": [
    "#### Here the information realated to the characters is extracted. A dictionary of dictionaries is created to store all the different information about the number of characters per gender, the author's sex, the tile of the book, etc. This data will be used to build pandas Dataframes for the analytics. The output is a csv file containg the data coming from the dictionary."
   ]
  },
  {
   "cell_type": "code",
   "execution_count": 3,
   "metadata": {},
   "outputs": [
    {
     "name": "stderr",
     "output_type": "stream",
     "text": [
      "  0%|          | 0/109 [00:00<?, ?it/s]"
     ]
    },
    {
     "name": "stdout",
     "output_type": "stream",
     "text": [
      "Loaded dictionary from c:\\Program Files\\Python39\\lib\\site-packages\\gendercomputer-0.1-py3.9.egg\\genderComputer\\..\\nameLists\\gender.dict\n",
      "Finished initialization\n"
     ]
    },
    {
     "name": "stderr",
     "output_type": "stream",
     "text": [
      "  1%|          | 1/109 [01:01<1:51:28, 61.93s/it]"
     ]
    },
    {
     "name": "stdout",
     "output_type": "stream",
     "text": [
      "Loaded dictionary from c:\\Program Files\\Python39\\lib\\site-packages\\gendercomputer-0.1-py3.9.egg\\genderComputer\\..\\nameLists\\gender.dict\n",
      "Finished initialization\n"
     ]
    },
    {
     "name": "stderr",
     "output_type": "stream",
     "text": [
      "  2%|▏         | 2/109 [01:44<1:40:08, 56.15s/it]"
     ]
    },
    {
     "name": "stdout",
     "output_type": "stream",
     "text": [
      "Loaded dictionary from c:\\Program Files\\Python39\\lib\\site-packages\\gendercomputer-0.1-py3.9.egg\\genderComputer\\..\\nameLists\\gender.dict\n",
      "Finished initialization\n"
     ]
    },
    {
     "name": "stderr",
     "output_type": "stream",
     "text": [
      "  4%|▎         | 4/109 [02:15<1:01:45, 35.29s/it]"
     ]
    },
    {
     "name": "stdout",
     "output_type": "stream",
     "text": [
      "Loaded dictionary from c:\\Program Files\\Python39\\lib\\site-packages\\gendercomputer-0.1-py3.9.egg\\genderComputer\\..\\nameLists\\gender.dict\n",
      "Finished initialization\n",
      "Loaded dictionary from c:\\Program Files\\Python39\\lib\\site-packages\\gendercomputer-0.1-py3.9.egg\\genderComputer\\..\\nameLists\\gender.dict\n",
      "Finished initialization\n"
     ]
    },
    {
     "name": "stderr",
     "output_type": "stream",
     "text": [
      "  5%|▍         | 5/109 [03:04<1:08:02, 39.25s/it]"
     ]
    },
    {
     "name": "stdout",
     "output_type": "stream",
     "text": [
      "Loaded dictionary from c:\\Program Files\\Python39\\lib\\site-packages\\gendercomputer-0.1-py3.9.egg\\genderComputer\\..\\nameLists\\gender.dict\n",
      "Finished initialization\n"
     ]
    },
    {
     "name": "stderr",
     "output_type": "stream",
     "text": [
      "  6%|▋         | 7/109 [03:46<48:31, 28.54s/it]  "
     ]
    },
    {
     "name": "stdout",
     "output_type": "stream",
     "text": [
      "Loaded dictionary from c:\\Program Files\\Python39\\lib\\site-packages\\gendercomputer-0.1-py3.9.egg\\genderComputer\\..\\nameLists\\gender.dict\n",
      "Finished initialization\n",
      "Loaded dictionary from c:\\Program Files\\Python39\\lib\\site-packages\\gendercomputer-0.1-py3.9.egg\\genderComputer\\..\\nameLists\\gender.dict\n",
      "Finished initialization\n"
     ]
    },
    {
     "name": "stderr",
     "output_type": "stream",
     "text": [
      "  7%|▋         | 8/109 [06:16<1:48:57, 64.73s/it]"
     ]
    },
    {
     "name": "stdout",
     "output_type": "stream",
     "text": [
      "Loaded dictionary from c:\\Program Files\\Python39\\lib\\site-packages\\gendercomputer-0.1-py3.9.egg\\genderComputer\\..\\nameLists\\gender.dict\n",
      "Finished initialization\n"
     ]
    },
    {
     "name": "stderr",
     "output_type": "stream",
     "text": [
      "  8%|▊         | 9/109 [07:14<1:44:30, 62.71s/it]"
     ]
    },
    {
     "name": "stdout",
     "output_type": "stream",
     "text": [
      "Loaded dictionary from c:\\Program Files\\Python39\\lib\\site-packages\\gendercomputer-0.1-py3.9.egg\\genderComputer\\..\\nameLists\\gender.dict\n",
      "Finished initialization\n"
     ]
    },
    {
     "name": "stderr",
     "output_type": "stream",
     "text": [
      "  9%|▉         | 10/109 [07:53<1:31:59, 55.75s/it]"
     ]
    },
    {
     "name": "stdout",
     "output_type": "stream",
     "text": [
      "Loaded dictionary from c:\\Program Files\\Python39\\lib\\site-packages\\gendercomputer-0.1-py3.9.egg\\genderComputer\\..\\nameLists\\gender.dict\n",
      "Finished initialization\n"
     ]
    },
    {
     "name": "stderr",
     "output_type": "stream",
     "text": [
      " 10%|█         | 11/109 [08:33<1:23:05, 50.87s/it]"
     ]
    },
    {
     "name": "stdout",
     "output_type": "stream",
     "text": [
      "Loaded dictionary from c:\\Program Files\\Python39\\lib\\site-packages\\gendercomputer-0.1-py3.9.egg\\genderComputer\\..\\nameLists\\gender.dict\n",
      "Finished initialization\n"
     ]
    },
    {
     "name": "stderr",
     "output_type": "stream",
     "text": [
      " 11%|█         | 12/109 [08:58<1:10:04, 43.35s/it]"
     ]
    },
    {
     "name": "stdout",
     "output_type": "stream",
     "text": [
      "Loaded dictionary from c:\\Program Files\\Python39\\lib\\site-packages\\gendercomputer-0.1-py3.9.egg\\genderComputer\\..\\nameLists\\gender.dict\n",
      "Finished initialization\n"
     ]
    },
    {
     "name": "stderr",
     "output_type": "stream",
     "text": [
      " 12%|█▏        | 13/109 [09:41<1:09:06, 43.19s/it]"
     ]
    },
    {
     "name": "stdout",
     "output_type": "stream",
     "text": [
      "Loaded dictionary from c:\\Program Files\\Python39\\lib\\site-packages\\gendercomputer-0.1-py3.9.egg\\genderComputer\\..\\nameLists\\gender.dict\n",
      "Finished initialization\n"
     ]
    },
    {
     "name": "stderr",
     "output_type": "stream",
     "text": [
      " 13%|█▎        | 14/109 [10:09<1:00:53, 38.46s/it]"
     ]
    },
    {
     "name": "stdout",
     "output_type": "stream",
     "text": [
      "Loaded dictionary from c:\\Program Files\\Python39\\lib\\site-packages\\gendercomputer-0.1-py3.9.egg\\genderComputer\\..\\nameLists\\gender.dict\n",
      "Finished initialization\n"
     ]
    },
    {
     "name": "stderr",
     "output_type": "stream",
     "text": [
      " 14%|█▍        | 15/109 [11:06<1:09:07, 44.12s/it]"
     ]
    },
    {
     "name": "stdout",
     "output_type": "stream",
     "text": [
      "Loaded dictionary from c:\\Program Files\\Python39\\lib\\site-packages\\gendercomputer-0.1-py3.9.egg\\genderComputer\\..\\nameLists\\gender.dict\n",
      "Finished initialization\n"
     ]
    },
    {
     "name": "stderr",
     "output_type": "stream",
     "text": [
      " 15%|█▍        | 16/109 [11:11<49:59, 32.26s/it]  "
     ]
    },
    {
     "name": "stdout",
     "output_type": "stream",
     "text": [
      "Loaded dictionary from c:\\Program Files\\Python39\\lib\\site-packages\\gendercomputer-0.1-py3.9.egg\\genderComputer\\..\\nameLists\\gender.dict\n"
     ]
    },
    {
     "name": "stderr",
     "output_type": "stream",
     "text": [
      " 16%|█▌        | 17/109 [11:11<34:51, 22.73s/it]"
     ]
    },
    {
     "name": "stdout",
     "output_type": "stream",
     "text": [
      "Finished initialization\n",
      "Loaded dictionary from c:\\Program Files\\Python39\\lib\\site-packages\\gendercomputer-0.1-py3.9.egg\\genderComputer\\..\\nameLists\\gender.dict\n",
      "Finished initialization\n"
     ]
    },
    {
     "name": "stderr",
     "output_type": "stream",
     "text": [
      " 17%|█▋        | 18/109 [11:48<41:02, 27.06s/it]"
     ]
    },
    {
     "name": "stdout",
     "output_type": "stream",
     "text": [
      "Loaded dictionary from c:\\Program Files\\Python39\\lib\\site-packages\\gendercomputer-0.1-py3.9.egg\\genderComputer\\..\\nameLists\\gender.dict\n",
      "Finished initialization\n"
     ]
    },
    {
     "name": "stderr",
     "output_type": "stream",
     "text": [
      " 17%|█▋        | 19/109 [11:58<33:00, 22.01s/it]"
     ]
    },
    {
     "name": "stdout",
     "output_type": "stream",
     "text": [
      "Loaded dictionary from c:\\Program Files\\Python39\\lib\\site-packages\\gendercomputer-0.1-py3.9.egg\\genderComputer\\..\\nameLists\\gender.dict\n",
      "Finished initialization\n"
     ]
    },
    {
     "name": "stderr",
     "output_type": "stream",
     "text": [
      " 18%|█▊        | 20/109 [14:32<1:31:06, 61.43s/it]"
     ]
    },
    {
     "name": "stdout",
     "output_type": "stream",
     "text": [
      "Loaded dictionary from c:\\Program Files\\Python39\\lib\\site-packages\\gendercomputer-0.1-py3.9.egg\\genderComputer\\..\\nameLists\\gender.dict\n",
      "Finished initialization\n"
     ]
    },
    {
     "name": "stderr",
     "output_type": "stream",
     "text": [
      " 19%|█▉        | 21/109 [14:53<1:12:12, 49.23s/it]"
     ]
    },
    {
     "name": "stdout",
     "output_type": "stream",
     "text": [
      "Loaded dictionary from c:\\Program Files\\Python39\\lib\\site-packages\\gendercomputer-0.1-py3.9.egg\\genderComputer\\..\\nameLists\\gender.dict\n",
      "Finished initialization\n"
     ]
    },
    {
     "name": "stderr",
     "output_type": "stream",
     "text": [
      " 20%|██        | 22/109 [15:06<55:58, 38.60s/it]  "
     ]
    },
    {
     "name": "stdout",
     "output_type": "stream",
     "text": [
      "Loaded dictionary from c:\\Program Files\\Python39\\lib\\site-packages\\gendercomputer-0.1-py3.9.egg\\genderComputer\\..\\nameLists\\gender.dict\n",
      "Finished initialization\n"
     ]
    },
    {
     "name": "stderr",
     "output_type": "stream",
     "text": [
      " 22%|██▏       | 24/109 [15:42<37:22, 26.38s/it]"
     ]
    },
    {
     "name": "stdout",
     "output_type": "stream",
     "text": [
      "Loaded dictionary from c:\\Program Files\\Python39\\lib\\site-packages\\gendercomputer-0.1-py3.9.egg\\genderComputer\\..\\nameLists\\gender.dict\n",
      "Finished initialization\n",
      "Loaded dictionary from c:\\Program Files\\Python39\\lib\\site-packages\\gendercomputer-0.1-py3.9.egg\\genderComputer\\..\\nameLists\\gender.dict\n",
      "Finished initialization\n"
     ]
    },
    {
     "name": "stderr",
     "output_type": "stream",
     "text": [
      " 23%|██▎       | 25/109 [15:52<30:23, 21.71s/it]"
     ]
    },
    {
     "name": "stdout",
     "output_type": "stream",
     "text": [
      "Loaded dictionary from c:\\Program Files\\Python39\\lib\\site-packages\\gendercomputer-0.1-py3.9.egg\\genderComputer\\..\\nameLists\\gender.dict\n",
      "Finished initialization\n"
     ]
    },
    {
     "name": "stderr",
     "output_type": "stream",
     "text": [
      " 24%|██▍       | 26/109 [16:13<29:43, 21.49s/it]"
     ]
    },
    {
     "name": "stdout",
     "output_type": "stream",
     "text": [
      "Loaded dictionary from c:\\Program Files\\Python39\\lib\\site-packages\\gendercomputer-0.1-py3.9.egg\\genderComputer\\..\\nameLists\\gender.dict\n",
      "Finished initialization\n"
     ]
    },
    {
     "name": "stderr",
     "output_type": "stream",
     "text": [
      " 26%|██▌       | 28/109 [16:28<18:43, 13.87s/it]"
     ]
    },
    {
     "name": "stdout",
     "output_type": "stream",
     "text": [
      "Loaded dictionary from c:\\Program Files\\Python39\\lib\\site-packages\\gendercomputer-0.1-py3.9.egg\\genderComputer\\..\\nameLists\\gender.dict\n",
      "Finished initialization\n",
      "Loaded dictionary from c:\\Program Files\\Python39\\lib\\site-packages\\gendercomputer-0.1-py3.9.egg\\genderComputer\\..\\nameLists\\gender.dict\n",
      "Finished initialization\n"
     ]
    },
    {
     "name": "stderr",
     "output_type": "stream",
     "text": [
      " 27%|██▋       | 29/109 [17:05<27:34, 20.68s/it]"
     ]
    },
    {
     "name": "stdout",
     "output_type": "stream",
     "text": [
      "Loaded dictionary from c:\\Program Files\\Python39\\lib\\site-packages\\gendercomputer-0.1-py3.9.egg\\genderComputer\\..\\nameLists\\gender.dict\n",
      "Finished initialization\n"
     ]
    },
    {
     "name": "stderr",
     "output_type": "stream",
     "text": [
      " 28%|██▊       | 31/109 [17:54<27:57, 21.50s/it]"
     ]
    },
    {
     "name": "stdout",
     "output_type": "stream",
     "text": [
      "Loaded dictionary from c:\\Program Files\\Python39\\lib\\site-packages\\gendercomputer-0.1-py3.9.egg\\genderComputer\\..\\nameLists\\gender.dict\n",
      "Finished initialization\n",
      "Loaded dictionary from c:\\Program Files\\Python39\\lib\\site-packages\\gendercomputer-0.1-py3.9.egg\\genderComputer\\..\\nameLists\\gender.dict\n",
      "Finished initialization\n"
     ]
    },
    {
     "name": "stderr",
     "output_type": "stream",
     "text": [
      " 29%|██▉       | 32/109 [18:40<36:58, 28.81s/it]"
     ]
    },
    {
     "name": "stdout",
     "output_type": "stream",
     "text": [
      "Loaded dictionary from c:\\Program Files\\Python39\\lib\\site-packages\\gendercomputer-0.1-py3.9.egg\\genderComputer\\..\\nameLists\\gender.dict\n",
      "Finished initialization\n"
     ]
    },
    {
     "name": "stderr",
     "output_type": "stream",
     "text": [
      " 30%|███       | 33/109 [19:23<41:52, 33.06s/it]"
     ]
    },
    {
     "name": "stdout",
     "output_type": "stream",
     "text": [
      "Loaded dictionary from c:\\Program Files\\Python39\\lib\\site-packages\\gendercomputer-0.1-py3.9.egg\\genderComputer\\..\\nameLists\\gender.dict\n",
      "Finished initialization\n"
     ]
    },
    {
     "name": "stderr",
     "output_type": "stream",
     "text": [
      " 31%|███       | 34/109 [20:33<55:27, 44.37s/it]"
     ]
    },
    {
     "name": "stdout",
     "output_type": "stream",
     "text": [
      "Loaded dictionary from c:\\Program Files\\Python39\\lib\\site-packages\\gendercomputer-0.1-py3.9.egg\\genderComputer\\..\\nameLists\\gender.dict\n",
      "Finished initialization\n"
     ]
    },
    {
     "name": "stderr",
     "output_type": "stream",
     "text": [
      " 32%|███▏      | 35/109 [20:46<43:00, 34.87s/it]"
     ]
    },
    {
     "name": "stdout",
     "output_type": "stream",
     "text": [
      "Loaded dictionary from c:\\Program Files\\Python39\\lib\\site-packages\\gendercomputer-0.1-py3.9.egg\\genderComputer\\..\\nameLists\\gender.dict\n",
      "Finished initialization\n"
     ]
    },
    {
     "name": "stderr",
     "output_type": "stream",
     "text": [
      " 33%|███▎      | 36/109 [20:55<33:01, 27.15s/it]"
     ]
    },
    {
     "name": "stdout",
     "output_type": "stream",
     "text": [
      "Loaded dictionary from c:\\Program Files\\Python39\\lib\\site-packages\\gendercomputer-0.1-py3.9.egg\\genderComputer\\..\\nameLists\\gender.dict\n",
      "Finished initialization\n"
     ]
    },
    {
     "name": "stderr",
     "output_type": "stream",
     "text": [
      " 34%|███▍      | 37/109 [21:12<28:44, 23.95s/it]"
     ]
    },
    {
     "name": "stdout",
     "output_type": "stream",
     "text": [
      "Loaded dictionary from c:\\Program Files\\Python39\\lib\\site-packages\\gendercomputer-0.1-py3.9.egg\\genderComputer\\..\\nameLists\\gender.dict\n",
      "Finished initialization\n"
     ]
    },
    {
     "name": "stderr",
     "output_type": "stream",
     "text": [
      " 36%|███▌      | 39/109 [22:00<25:53, 22.20s/it]"
     ]
    },
    {
     "name": "stdout",
     "output_type": "stream",
     "text": [
      "Loaded dictionary from c:\\Program Files\\Python39\\lib\\site-packages\\gendercomputer-0.1-py3.9.egg\\genderComputer\\..\\nameLists\\gender.dict\n",
      "Finished initialization\n",
      "Loaded dictionary from c:\\Program Files\\Python39\\lib\\site-packages\\gendercomputer-0.1-py3.9.egg\\genderComputer\\..\\nameLists\\gender.dict\n",
      "Finished initialization\n"
     ]
    },
    {
     "name": "stderr",
     "output_type": "stream",
     "text": [
      " 37%|███▋      | 40/109 [22:11<21:26, 18.65s/it]"
     ]
    },
    {
     "name": "stdout",
     "output_type": "stream",
     "text": [
      "Loaded dictionary from c:\\Program Files\\Python39\\lib\\site-packages\\gendercomputer-0.1-py3.9.egg\\genderComputer\\..\\nameLists\\gender.dict\n",
      "Finished initialization\n"
     ]
    },
    {
     "name": "stderr",
     "output_type": "stream",
     "text": [
      " 38%|███▊      | 41/109 [23:26<40:24, 35.65s/it]"
     ]
    },
    {
     "name": "stdout",
     "output_type": "stream",
     "text": [
      "Loaded dictionary from c:\\Program Files\\Python39\\lib\\site-packages\\gendercomputer-0.1-py3.9.egg\\genderComputer\\..\\nameLists\\gender.dict\n",
      "Finished initialization\n"
     ]
    },
    {
     "name": "stderr",
     "output_type": "stream",
     "text": [
      " 39%|███▊      | 42/109 [23:39<32:07, 28.77s/it]"
     ]
    },
    {
     "name": "stdout",
     "output_type": "stream",
     "text": [
      "Loaded dictionary from c:\\Program Files\\Python39\\lib\\site-packages\\gendercomputer-0.1-py3.9.egg\\genderComputer\\..\\nameLists\\gender.dict\n",
      "Finished initialization\n"
     ]
    },
    {
     "name": "stderr",
     "output_type": "stream",
     "text": [
      " 39%|███▉      | 43/109 [23:51<26:09, 23.78s/it]"
     ]
    },
    {
     "name": "stdout",
     "output_type": "stream",
     "text": [
      "Loaded dictionary from c:\\Program Files\\Python39\\lib\\site-packages\\gendercomputer-0.1-py3.9.egg\\genderComputer\\..\\nameLists\\gender.dict\n",
      "Finished initialization\n"
     ]
    },
    {
     "name": "stderr",
     "output_type": "stream",
     "text": [
      " 40%|████      | 44/109 [24:28<30:00, 27.69s/it]"
     ]
    },
    {
     "name": "stdout",
     "output_type": "stream",
     "text": [
      "Loaded dictionary from c:\\Program Files\\Python39\\lib\\site-packages\\gendercomputer-0.1-py3.9.egg\\genderComputer\\..\\nameLists\\gender.dict\n"
     ]
    },
    {
     "name": "stderr",
     "output_type": "stream",
     "text": [
      " 41%|████▏     | 45/109 [24:47<26:47, 25.12s/it]"
     ]
    },
    {
     "name": "stdout",
     "output_type": "stream",
     "text": [
      "Finished initialization\n",
      "Loaded dictionary from c:\\Program Files\\Python39\\lib\\site-packages\\gendercomputer-0.1-py3.9.egg\\genderComputer\\..\\nameLists\\gender.dict\n",
      "Finished initialization\n"
     ]
    },
    {
     "name": "stderr",
     "output_type": "stream",
     "text": [
      " 42%|████▏     | 46/109 [25:19<28:27, 27.10s/it]"
     ]
    },
    {
     "name": "stdout",
     "output_type": "stream",
     "text": [
      "Loaded dictionary from c:\\Program Files\\Python39\\lib\\site-packages\\gendercomputer-0.1-py3.9.egg\\genderComputer\\..\\nameLists\\gender.dict\n",
      "Finished initialization\n"
     ]
    },
    {
     "name": "stderr",
     "output_type": "stream",
     "text": [
      " 43%|████▎     | 47/109 [26:06<34:20, 33.23s/it]"
     ]
    },
    {
     "name": "stdout",
     "output_type": "stream",
     "text": [
      "Loaded dictionary from c:\\Program Files\\Python39\\lib\\site-packages\\gendercomputer-0.1-py3.9.egg\\genderComputer\\..\\nameLists\\gender.dict\n",
      "Finished initialization\n"
     ]
    },
    {
     "name": "stderr",
     "output_type": "stream",
     "text": [
      " 44%|████▍     | 48/109 [26:40<34:00, 33.45s/it]"
     ]
    },
    {
     "name": "stdout",
     "output_type": "stream",
     "text": [
      "Loaded dictionary from c:\\Program Files\\Python39\\lib\\site-packages\\gendercomputer-0.1-py3.9.egg\\genderComputer\\..\\nameLists\\gender.dict\n",
      "Finished initialization\n"
     ]
    },
    {
     "name": "stderr",
     "output_type": "stream",
     "text": [
      " 45%|████▍     | 49/109 [27:25<37:02, 37.05s/it]"
     ]
    },
    {
     "name": "stdout",
     "output_type": "stream",
     "text": [
      "Loaded dictionary from c:\\Program Files\\Python39\\lib\\site-packages\\gendercomputer-0.1-py3.9.egg\\genderComputer\\..\\nameLists\\gender.dict\n",
      "Finished initialization\n"
     ]
    },
    {
     "name": "stderr",
     "output_type": "stream",
     "text": [
      " 46%|████▌     | 50/109 [28:22<42:09, 42.87s/it]"
     ]
    },
    {
     "name": "stdout",
     "output_type": "stream",
     "text": [
      "Loaded dictionary from c:\\Program Files\\Python39\\lib\\site-packages\\gendercomputer-0.1-py3.9.egg\\genderComputer\\..\\nameLists\\gender.dict\n",
      "Finished initialization\n"
     ]
    },
    {
     "name": "stderr",
     "output_type": "stream",
     "text": [
      " 47%|████▋     | 51/109 [28:35<32:42, 33.84s/it]"
     ]
    },
    {
     "name": "stdout",
     "output_type": "stream",
     "text": [
      "Loaded dictionary from c:\\Program Files\\Python39\\lib\\site-packages\\gendercomputer-0.1-py3.9.egg\\genderComputer\\..\\nameLists\\gender.dict\n",
      "Finished initialization\n"
     ]
    },
    {
     "name": "stderr",
     "output_type": "stream",
     "text": [
      " 48%|████▊     | 52/109 [28:35<22:38, 23.83s/it]"
     ]
    },
    {
     "name": "stdout",
     "output_type": "stream",
     "text": [
      "Loaded dictionary from c:\\Program Files\\Python39\\lib\\site-packages\\gendercomputer-0.1-py3.9.egg\\genderComputer\\..\\nameLists\\gender.dict\n",
      "Finished initialization\n"
     ]
    },
    {
     "name": "stderr",
     "output_type": "stream",
     "text": [
      " 49%|████▊     | 53/109 [29:13<26:10, 28.05s/it]"
     ]
    },
    {
     "name": "stdout",
     "output_type": "stream",
     "text": [
      "Loaded dictionary from c:\\Program Files\\Python39\\lib\\site-packages\\gendercomputer-0.1-py3.9.egg\\genderComputer\\..\\nameLists\\gender.dict\n",
      "Finished initialization\n"
     ]
    },
    {
     "name": "stderr",
     "output_type": "stream",
     "text": [
      " 50%|████▉     | 54/109 [29:46<27:04, 29.53s/it]"
     ]
    },
    {
     "name": "stdout",
     "output_type": "stream",
     "text": [
      "Loaded dictionary from c:\\Program Files\\Python39\\lib\\site-packages\\gendercomputer-0.1-py3.9.egg\\genderComputer\\..\\nameLists\\gender.dict\n",
      "Finished initialization\n"
     ]
    },
    {
     "name": "stderr",
     "output_type": "stream",
     "text": [
      " 50%|█████     | 55/109 [30:00<22:19, 24.81s/it]"
     ]
    },
    {
     "name": "stdout",
     "output_type": "stream",
     "text": [
      "Loaded dictionary from c:\\Program Files\\Python39\\lib\\site-packages\\gendercomputer-0.1-py3.9.egg\\genderComputer\\..\\nameLists\\gender.dict\n",
      "Finished initialization\n"
     ]
    },
    {
     "name": "stderr",
     "output_type": "stream",
     "text": [
      " 51%|█████▏    | 56/109 [30:32<23:57, 27.12s/it]"
     ]
    },
    {
     "name": "stdout",
     "output_type": "stream",
     "text": [
      "Loaded dictionary from c:\\Program Files\\Python39\\lib\\site-packages\\gendercomputer-0.1-py3.9.egg\\genderComputer\\..\\nameLists\\gender.dict\n",
      "Finished initialization\n"
     ]
    },
    {
     "name": "stderr",
     "output_type": "stream",
     "text": [
      " 52%|█████▏    | 57/109 [31:07<25:34, 29.50s/it]"
     ]
    },
    {
     "name": "stdout",
     "output_type": "stream",
     "text": [
      "Loaded dictionary from c:\\Program Files\\Python39\\lib\\site-packages\\gendercomputer-0.1-py3.9.egg\\genderComputer\\..\\nameLists\\gender.dict\n",
      "Finished initialization\n"
     ]
    },
    {
     "name": "stderr",
     "output_type": "stream",
     "text": [
      " 53%|█████▎    | 58/109 [31:19<20:30, 24.13s/it]"
     ]
    },
    {
     "name": "stdout",
     "output_type": "stream",
     "text": [
      "Loaded dictionary from c:\\Program Files\\Python39\\lib\\site-packages\\gendercomputer-0.1-py3.9.egg\\genderComputer\\..\\nameLists\\gender.dict\n",
      "Finished initialization\n"
     ]
    },
    {
     "name": "stderr",
     "output_type": "stream",
     "text": [
      " 54%|█████▍    | 59/109 [32:02<24:47, 29.75s/it]"
     ]
    },
    {
     "name": "stdout",
     "output_type": "stream",
     "text": [
      "Loaded dictionary from c:\\Program Files\\Python39\\lib\\site-packages\\gendercomputer-0.1-py3.9.egg\\genderComputer\\..\\nameLists\\gender.dict\n",
      "Finished initialization\n"
     ]
    },
    {
     "name": "stderr",
     "output_type": "stream",
     "text": [
      " 55%|█████▌    | 60/109 [32:36<25:27, 31.18s/it]"
     ]
    },
    {
     "name": "stdout",
     "output_type": "stream",
     "text": [
      "Loaded dictionary from c:\\Program Files\\Python39\\lib\\site-packages\\gendercomputer-0.1-py3.9.egg\\genderComputer\\..\\nameLists\\gender.dict\n",
      "Finished initialization\n"
     ]
    },
    {
     "name": "stderr",
     "output_type": "stream",
     "text": [
      " 56%|█████▌    | 61/109 [32:50<20:49, 26.03s/it]"
     ]
    },
    {
     "name": "stdout",
     "output_type": "stream",
     "text": [
      "Loaded dictionary from c:\\Program Files\\Python39\\lib\\site-packages\\gendercomputer-0.1-py3.9.egg\\genderComputer\\..\\nameLists\\gender.dict\n",
      "Finished initialization\n"
     ]
    },
    {
     "name": "stderr",
     "output_type": "stream",
     "text": [
      " 58%|█████▊    | 63/109 [33:17<14:21, 18.74s/it]"
     ]
    },
    {
     "name": "stdout",
     "output_type": "stream",
     "text": [
      "Loaded dictionary from c:\\Program Files\\Python39\\lib\\site-packages\\gendercomputer-0.1-py3.9.egg\\genderComputer\\..\\nameLists\\gender.dict\n",
      "Finished initialization\n",
      "Loaded dictionary from c:\\Program Files\\Python39\\lib\\site-packages\\gendercomputer-0.1-py3.9.egg\\genderComputer\\..\\nameLists\\gender.dict\n",
      "Finished initialization\n"
     ]
    },
    {
     "name": "stderr",
     "output_type": "stream",
     "text": [
      " 59%|█████▊    | 64/109 [34:01<19:42, 26.29s/it]"
     ]
    },
    {
     "name": "stdout",
     "output_type": "stream",
     "text": [
      "Loaded dictionary from c:\\Program Files\\Python39\\lib\\site-packages\\gendercomputer-0.1-py3.9.egg\\genderComputer\\..\\nameLists\\gender.dict\n",
      "Finished initialization\n"
     ]
    },
    {
     "name": "stderr",
     "output_type": "stream",
     "text": [
      " 60%|█████▉    | 65/109 [34:11<15:41, 21.39s/it]"
     ]
    },
    {
     "name": "stdout",
     "output_type": "stream",
     "text": [
      "Loaded dictionary from c:\\Program Files\\Python39\\lib\\site-packages\\gendercomputer-0.1-py3.9.egg\\genderComputer\\..\\nameLists\\gender.dict\n",
      "Finished initialization\n"
     ]
    },
    {
     "name": "stderr",
     "output_type": "stream",
     "text": [
      " 61%|██████    | 66/109 [34:50<19:15, 26.88s/it]"
     ]
    },
    {
     "name": "stdout",
     "output_type": "stream",
     "text": [
      "Loaded dictionary from c:\\Program Files\\Python39\\lib\\site-packages\\gendercomputer-0.1-py3.9.egg\\genderComputer\\..\\nameLists\\gender.dict\n",
      "Finished initialization\n"
     ]
    },
    {
     "name": "stderr",
     "output_type": "stream",
     "text": [
      " 61%|██████▏   | 67/109 [35:44<24:26, 34.93s/it]"
     ]
    },
    {
     "name": "stdout",
     "output_type": "stream",
     "text": [
      "Loaded dictionary from c:\\Program Files\\Python39\\lib\\site-packages\\gendercomputer-0.1-py3.9.egg\\genderComputer\\..\\nameLists\\gender.dict\n",
      "Finished initialization\n"
     ]
    },
    {
     "name": "stderr",
     "output_type": "stream",
     "text": [
      " 62%|██████▏   | 68/109 [36:33<26:38, 38.99s/it]"
     ]
    },
    {
     "name": "stdout",
     "output_type": "stream",
     "text": [
      "Loaded dictionary from c:\\Program Files\\Python39\\lib\\site-packages\\gendercomputer-0.1-py3.9.egg\\genderComputer\\..\\nameLists\\gender.dict\n",
      "Finished initialization\n"
     ]
    },
    {
     "name": "stderr",
     "output_type": "stream",
     "text": [
      " 63%|██████▎   | 69/109 [36:50<21:45, 32.63s/it]"
     ]
    },
    {
     "name": "stdout",
     "output_type": "stream",
     "text": [
      "Loaded dictionary from c:\\Program Files\\Python39\\lib\\site-packages\\gendercomputer-0.1-py3.9.egg\\genderComputer\\..\\nameLists\\gender.dict\n",
      "Finished initialization\n"
     ]
    },
    {
     "name": "stderr",
     "output_type": "stream",
     "text": [
      " 64%|██████▍   | 70/109 [37:35<23:32, 36.21s/it]"
     ]
    },
    {
     "name": "stdout",
     "output_type": "stream",
     "text": [
      "Loaded dictionary from c:\\Program Files\\Python39\\lib\\site-packages\\gendercomputer-0.1-py3.9.egg\\genderComputer\\..\\nameLists\\gender.dict\n",
      "Finished initialization\n"
     ]
    },
    {
     "name": "stderr",
     "output_type": "stream",
     "text": [
      " 65%|██████▌   | 71/109 [38:01<21:04, 33.27s/it]"
     ]
    },
    {
     "name": "stdout",
     "output_type": "stream",
     "text": [
      "Loaded dictionary from c:\\Program Files\\Python39\\lib\\site-packages\\gendercomputer-0.1-py3.9.egg\\genderComputer\\..\\nameLists\\gender.dict\n",
      "Finished initialization\n"
     ]
    },
    {
     "name": "stderr",
     "output_type": "stream",
     "text": [
      " 66%|██████▌   | 72/109 [38:39<21:22, 34.66s/it]"
     ]
    },
    {
     "name": "stdout",
     "output_type": "stream",
     "text": [
      "Loaded dictionary from c:\\Program Files\\Python39\\lib\\site-packages\\gendercomputer-0.1-py3.9.egg\\genderComputer\\..\\nameLists\\gender.dict\n",
      "Finished initialization\n"
     ]
    },
    {
     "name": "stderr",
     "output_type": "stream",
     "text": [
      " 67%|██████▋   | 73/109 [38:40<14:44, 24.58s/it]"
     ]
    },
    {
     "name": "stdout",
     "output_type": "stream",
     "text": [
      "Loaded dictionary from c:\\Program Files\\Python39\\lib\\site-packages\\gendercomputer-0.1-py3.9.egg\\genderComputer\\..\\nameLists\\gender.dict\n",
      "Finished initialization\n"
     ]
    },
    {
     "name": "stderr",
     "output_type": "stream",
     "text": [
      " 68%|██████▊   | 74/109 [39:25<17:46, 30.46s/it]"
     ]
    },
    {
     "name": "stdout",
     "output_type": "stream",
     "text": [
      "Loaded dictionary from c:\\Program Files\\Python39\\lib\\site-packages\\gendercomputer-0.1-py3.9.egg\\genderComputer\\..\\nameLists\\gender.dict\n",
      "Finished initialization\n"
     ]
    },
    {
     "name": "stderr",
     "output_type": "stream",
     "text": [
      " 69%|██████▉   | 75/109 [39:32<13:20, 23.56s/it]"
     ]
    },
    {
     "name": "stdout",
     "output_type": "stream",
     "text": [
      "Loaded dictionary from c:\\Program Files\\Python39\\lib\\site-packages\\gendercomputer-0.1-py3.9.egg\\genderComputer\\..\\nameLists\\gender.dict\n",
      "Finished initialization\n"
     ]
    },
    {
     "name": "stderr",
     "output_type": "stream",
     "text": [
      " 70%|██████▉   | 76/109 [40:12<15:43, 28.59s/it]"
     ]
    },
    {
     "name": "stdout",
     "output_type": "stream",
     "text": [
      "Loaded dictionary from c:\\Program Files\\Python39\\lib\\site-packages\\gendercomputer-0.1-py3.9.egg\\genderComputer\\..\\nameLists\\gender.dict\n",
      "Finished initialization\n"
     ]
    },
    {
     "name": "stderr",
     "output_type": "stream",
     "text": [
      " 71%|███████   | 77/109 [40:23<12:19, 23.11s/it]"
     ]
    },
    {
     "name": "stdout",
     "output_type": "stream",
     "text": [
      "Loaded dictionary from c:\\Program Files\\Python39\\lib\\site-packages\\gendercomputer-0.1-py3.9.egg\\genderComputer\\..\\nameLists\\gender.dict\n",
      "Finished initialization\n"
     ]
    },
    {
     "name": "stderr",
     "output_type": "stream",
     "text": [
      " 72%|███████▏  | 78/109 [41:12<15:58, 30.93s/it]"
     ]
    },
    {
     "name": "stdout",
     "output_type": "stream",
     "text": [
      "Loaded dictionary from c:\\Program Files\\Python39\\lib\\site-packages\\gendercomputer-0.1-py3.9.egg\\genderComputer\\..\\nameLists\\gender.dict\n",
      "Finished initialization\n"
     ]
    },
    {
     "name": "stderr",
     "output_type": "stream",
     "text": [
      " 72%|███████▏  | 79/109 [41:42<15:18, 30.63s/it]"
     ]
    },
    {
     "name": "stdout",
     "output_type": "stream",
     "text": [
      "Loaded dictionary from c:\\Program Files\\Python39\\lib\\site-packages\\gendercomputer-0.1-py3.9.egg\\genderComputer\\..\\nameLists\\gender.dict\n",
      "Finished initialization\n"
     ]
    },
    {
     "name": "stderr",
     "output_type": "stream",
     "text": [
      " 73%|███████▎  | 80/109 [42:18<15:38, 32.36s/it]"
     ]
    },
    {
     "name": "stdout",
     "output_type": "stream",
     "text": [
      "Loaded dictionary from c:\\Program Files\\Python39\\lib\\site-packages\\gendercomputer-0.1-py3.9.egg\\genderComputer\\..\\nameLists\\gender.dict\n",
      "Finished initialization\n"
     ]
    },
    {
     "name": "stderr",
     "output_type": "stream",
     "text": [
      " 74%|███████▍  | 81/109 [42:57<15:59, 34.28s/it]"
     ]
    },
    {
     "name": "stdout",
     "output_type": "stream",
     "text": [
      "Loaded dictionary from c:\\Program Files\\Python39\\lib\\site-packages\\gendercomputer-0.1-py3.9.egg\\genderComputer\\..\\nameLists\\gender.dict\n",
      "Finished initialization\n"
     ]
    },
    {
     "name": "stderr",
     "output_type": "stream",
     "text": [
      " 75%|███████▌  | 82/109 [43:47<17:32, 38.99s/it]"
     ]
    },
    {
     "name": "stdout",
     "output_type": "stream",
     "text": [
      "Loaded dictionary from c:\\Program Files\\Python39\\lib\\site-packages\\gendercomputer-0.1-py3.9.egg\\genderComputer\\..\\nameLists\\gender.dict\n",
      "Finished initialization\n"
     ]
    },
    {
     "name": "stderr",
     "output_type": "stream",
     "text": [
      " 76%|███████▌  | 83/109 [44:24<16:36, 38.33s/it]"
     ]
    },
    {
     "name": "stdout",
     "output_type": "stream",
     "text": [
      "Loaded dictionary from c:\\Program Files\\Python39\\lib\\site-packages\\gendercomputer-0.1-py3.9.egg\\genderComputer\\..\\nameLists\\gender.dict\n",
      "Finished initialization\n"
     ]
    },
    {
     "name": "stderr",
     "output_type": "stream",
     "text": [
      " 77%|███████▋  | 84/109 [44:49<14:23, 34.54s/it]"
     ]
    },
    {
     "name": "stdout",
     "output_type": "stream",
     "text": [
      "Loaded dictionary from c:\\Program Files\\Python39\\lib\\site-packages\\gendercomputer-0.1-py3.9.egg\\genderComputer\\..\\nameLists\\gender.dict\n",
      "Finished initialization\n"
     ]
    },
    {
     "name": "stderr",
     "output_type": "stream",
     "text": [
      " 78%|███████▊  | 85/109 [45:27<14:14, 35.61s/it]"
     ]
    },
    {
     "name": "stdout",
     "output_type": "stream",
     "text": [
      "Loaded dictionary from c:\\Program Files\\Python39\\lib\\site-packages\\gendercomputer-0.1-py3.9.egg\\genderComputer\\..\\nameLists\\gender.dict\n",
      "Finished initialization\n"
     ]
    },
    {
     "name": "stderr",
     "output_type": "stream",
     "text": [
      " 79%|███████▉  | 86/109 [46:08<14:12, 37.07s/it]"
     ]
    },
    {
     "name": "stdout",
     "output_type": "stream",
     "text": [
      "Loaded dictionary from c:\\Program Files\\Python39\\lib\\site-packages\\gendercomputer-0.1-py3.9.egg\\genderComputer\\..\\nameLists\\gender.dict\n",
      "Finished initialization\n"
     ]
    },
    {
     "name": "stderr",
     "output_type": "stream",
     "text": [
      " 80%|███████▉  | 87/109 [46:46<13:41, 37.36s/it]"
     ]
    },
    {
     "name": "stdout",
     "output_type": "stream",
     "text": [
      "Loaded dictionary from c:\\Program Files\\Python39\\lib\\site-packages\\gendercomputer-0.1-py3.9.egg\\genderComputer\\..\\nameLists\\gender.dict\n",
      "Finished initialization\n"
     ]
    },
    {
     "name": "stderr",
     "output_type": "stream",
     "text": [
      " 81%|████████  | 88/109 [47:16<12:19, 35.22s/it]"
     ]
    },
    {
     "name": "stdout",
     "output_type": "stream",
     "text": [
      "Loaded dictionary from c:\\Program Files\\Python39\\lib\\site-packages\\gendercomputer-0.1-py3.9.egg\\genderComputer\\..\\nameLists\\gender.dict\n",
      "Finished initialization\n"
     ]
    },
    {
     "name": "stderr",
     "output_type": "stream",
     "text": [
      " 82%|████████▏ | 89/109 [48:02<12:46, 38.35s/it]"
     ]
    },
    {
     "name": "stdout",
     "output_type": "stream",
     "text": [
      "Loaded dictionary from c:\\Program Files\\Python39\\lib\\site-packages\\gendercomputer-0.1-py3.9.egg\\genderComputer\\..\\nameLists\\gender.dict\n",
      "Finished initialization\n"
     ]
    },
    {
     "name": "stderr",
     "output_type": "stream",
     "text": [
      " 83%|████████▎ | 90/109 [48:41<12:14, 38.68s/it]"
     ]
    },
    {
     "name": "stdout",
     "output_type": "stream",
     "text": [
      "Loaded dictionary from c:\\Program Files\\Python39\\lib\\site-packages\\gendercomputer-0.1-py3.9.egg\\genderComputer\\..\\nameLists\\gender.dict\n",
      "Finished initialization\n"
     ]
    },
    {
     "name": "stderr",
     "output_type": "stream",
     "text": [
      " 83%|████████▎ | 91/109 [49:07<10:25, 34.77s/it]"
     ]
    },
    {
     "name": "stdout",
     "output_type": "stream",
     "text": [
      "Loaded dictionary from c:\\Program Files\\Python39\\lib\\site-packages\\gendercomputer-0.1-py3.9.egg\\genderComputer\\..\\nameLists\\gender.dict\n",
      "Finished initialization\n"
     ]
    },
    {
     "name": "stderr",
     "output_type": "stream",
     "text": [
      " 84%|████████▍ | 92/109 [49:39<09:38, 34.02s/it]"
     ]
    },
    {
     "name": "stdout",
     "output_type": "stream",
     "text": [
      "Loaded dictionary from c:\\Program Files\\Python39\\lib\\site-packages\\gendercomputer-0.1-py3.9.egg\\genderComputer\\..\\nameLists\\gender.dict\n",
      "Finished initialization\n"
     ]
    },
    {
     "name": "stderr",
     "output_type": "stream",
     "text": [
      " 85%|████████▌ | 93/109 [49:40<06:26, 24.16s/it]"
     ]
    },
    {
     "name": "stdout",
     "output_type": "stream",
     "text": [
      "Loaded dictionary from c:\\Program Files\\Python39\\lib\\site-packages\\gendercomputer-0.1-py3.9.egg\\genderComputer\\..\\nameLists\\gender.dict\n",
      "Finished initialization\n"
     ]
    },
    {
     "name": "stderr",
     "output_type": "stream",
     "text": [
      " 86%|████████▌ | 94/109 [50:10<06:28, 25.92s/it]"
     ]
    },
    {
     "name": "stdout",
     "output_type": "stream",
     "text": [
      "Loaded dictionary from c:\\Program Files\\Python39\\lib\\site-packages\\gendercomputer-0.1-py3.9.egg\\genderComputer\\..\\nameLists\\gender.dict\n",
      "Finished initialization\n"
     ]
    },
    {
     "name": "stderr",
     "output_type": "stream",
     "text": [
      " 88%|████████▊ | 96/109 [50:46<04:23, 20.31s/it]"
     ]
    },
    {
     "name": "stdout",
     "output_type": "stream",
     "text": [
      "Loaded dictionary from c:\\Program Files\\Python39\\lib\\site-packages\\gendercomputer-0.1-py3.9.egg\\genderComputer\\..\\nameLists\\gender.dict\n",
      "Finished initialization\n",
      "Loaded dictionary from c:\\Program Files\\Python39\\lib\\site-packages\\gendercomputer-0.1-py3.9.egg\\genderComputer\\..\\nameLists\\gender.dict\n",
      "Finished initialization\n"
     ]
    },
    {
     "name": "stderr",
     "output_type": "stream",
     "text": [
      " 89%|████████▉ | 97/109 [51:18<04:44, 23.69s/it]"
     ]
    },
    {
     "name": "stdout",
     "output_type": "stream",
     "text": [
      "Loaded dictionary from c:\\Program Files\\Python39\\lib\\site-packages\\gendercomputer-0.1-py3.9.egg\\genderComputer\\..\\nameLists\\gender.dict\n",
      "Finished initialization\n"
     ]
    },
    {
     "name": "stderr",
     "output_type": "stream",
     "text": [
      " 90%|████████▉ | 98/109 [51:54<05:01, 27.41s/it]"
     ]
    },
    {
     "name": "stdout",
     "output_type": "stream",
     "text": [
      "Loaded dictionary from c:\\Program Files\\Python39\\lib\\site-packages\\gendercomputer-0.1-py3.9.egg\\genderComputer\\..\\nameLists\\gender.dict\n",
      "Finished initialization\n"
     ]
    },
    {
     "name": "stderr",
     "output_type": "stream",
     "text": [
      " 91%|█████████ | 99/109 [52:36<05:16, 31.69s/it]"
     ]
    },
    {
     "name": "stdout",
     "output_type": "stream",
     "text": [
      "Loaded dictionary from c:\\Program Files\\Python39\\lib\\site-packages\\gendercomputer-0.1-py3.9.egg\\genderComputer\\..\\nameLists\\gender.dict\n",
      "Finished initialization\n"
     ]
    },
    {
     "name": "stderr",
     "output_type": "stream",
     "text": [
      " 92%|█████████▏| 100/109 [53:15<05:05, 33.90s/it]"
     ]
    },
    {
     "name": "stdout",
     "output_type": "stream",
     "text": [
      "Loaded dictionary from c:\\Program Files\\Python39\\lib\\site-packages\\gendercomputer-0.1-py3.9.egg\\genderComputer\\..\\nameLists\\gender.dict\n",
      "Finished initialization\n"
     ]
    },
    {
     "name": "stderr",
     "output_type": "stream",
     "text": [
      " 93%|█████████▎| 101/109 [53:49<04:32, 34.02s/it]"
     ]
    },
    {
     "name": "stdout",
     "output_type": "stream",
     "text": [
      "Loaded dictionary from c:\\Program Files\\Python39\\lib\\site-packages\\gendercomputer-0.1-py3.9.egg\\genderComputer\\..\\nameLists\\gender.dict\n",
      "Finished initialization\n"
     ]
    },
    {
     "name": "stderr",
     "output_type": "stream",
     "text": [
      " 94%|█████████▎| 102/109 [54:27<04:06, 35.19s/it]"
     ]
    },
    {
     "name": "stdout",
     "output_type": "stream",
     "text": [
      "Loaded dictionary from c:\\Program Files\\Python39\\lib\\site-packages\\gendercomputer-0.1-py3.9.egg\\genderComputer\\..\\nameLists\\gender.dict\n",
      "Finished initialization\n"
     ]
    },
    {
     "name": "stderr",
     "output_type": "stream",
     "text": [
      " 94%|█████████▍| 103/109 [55:06<03:37, 36.31s/it]"
     ]
    },
    {
     "name": "stdout",
     "output_type": "stream",
     "text": [
      "Loaded dictionary from c:\\Program Files\\Python39\\lib\\site-packages\\gendercomputer-0.1-py3.9.egg\\genderComputer\\..\\nameLists\\gender.dict\n",
      "Finished initialization\n"
     ]
    },
    {
     "name": "stderr",
     "output_type": "stream",
     "text": [
      " 95%|█████████▌| 104/109 [55:46<03:06, 37.35s/it]"
     ]
    },
    {
     "name": "stdout",
     "output_type": "stream",
     "text": [
      "Loaded dictionary from c:\\Program Files\\Python39\\lib\\site-packages\\gendercomputer-0.1-py3.9.egg\\genderComputer\\..\\nameLists\\gender.dict\n",
      "Finished initialization\n"
     ]
    },
    {
     "name": "stderr",
     "output_type": "stream",
     "text": [
      " 96%|█████████▋| 105/109 [56:24<02:30, 37.52s/it]"
     ]
    },
    {
     "name": "stdout",
     "output_type": "stream",
     "text": [
      "Loaded dictionary from c:\\Program Files\\Python39\\lib\\site-packages\\gendercomputer-0.1-py3.9.egg\\genderComputer\\..\\nameLists\\gender.dict\n",
      "Finished initialization\n"
     ]
    },
    {
     "name": "stderr",
     "output_type": "stream",
     "text": [
      " 97%|█████████▋| 106/109 [57:04<01:55, 38.43s/it]"
     ]
    },
    {
     "name": "stdout",
     "output_type": "stream",
     "text": [
      "Loaded dictionary from c:\\Program Files\\Python39\\lib\\site-packages\\gendercomputer-0.1-py3.9.egg\\genderComputer\\..\\nameLists\\gender.dict\n",
      "Finished initialization\n"
     ]
    },
    {
     "name": "stderr",
     "output_type": "stream",
     "text": [
      " 98%|█████████▊| 107/109 [57:39<01:14, 37.41s/it]"
     ]
    },
    {
     "name": "stdout",
     "output_type": "stream",
     "text": [
      "Loaded dictionary from c:\\Program Files\\Python39\\lib\\site-packages\\gendercomputer-0.1-py3.9.egg\\genderComputer\\..\\nameLists\\gender.dict\n",
      "Finished initialization\n"
     ]
    },
    {
     "name": "stderr",
     "output_type": "stream",
     "text": [
      " 99%|█████████▉| 108/109 [58:21<00:38, 38.66s/it]"
     ]
    },
    {
     "name": "stdout",
     "output_type": "stream",
     "text": [
      "Loaded dictionary from c:\\Program Files\\Python39\\lib\\site-packages\\gendercomputer-0.1-py3.9.egg\\genderComputer\\..\\nameLists\\gender.dict\n",
      "Finished initialization\n"
     ]
    },
    {
     "name": "stderr",
     "output_type": "stream",
     "text": [
      "100%|██████████| 109/109 [58:51<00:00, 32.40s/it]\n"
     ]
    }
   ],
   "source": [
    "characters = {\"female_corpus\": {}, \"male_corpus\": {}}\n",
    "for file_path in tqdm(file_paths): #tqdm just displays a progress bar in the terminal\n",
    "    title = file_path.split(\"/\")[-1][:-4]\n",
    "    \n",
    "    extraction = gender_recognition(get_characters(open(file_path, encoding=\"utf8\").read()))\n",
    "    \n",
    "    characters[\"male_corpus\"][title] = {}\n",
    "    characters[\"male_corpus\"][title][\"book_title\"] = title #book title\n",
    "    characters[\"male_corpus\"][title][\"male_characters\"] = len(extraction[0])\n",
    "    characters[\"male_corpus\"][title][\"male_characters_names\"] = extraction[0] #male chars names\n",
    "    characters[\"male_corpus\"][title][\"female_characters\"] = len(extraction[1])\n",
    "    characters[\"male_corpus\"][title][\"female_characters_names\"] = extraction[1] #female chars names\n",
    "    characters[\"male_corpus\"][title][\"none\"] = len(extraction[2])\n",
    "    characters[\"male_corpus\"][title][\"unknown_gender_names\"] = extraction[2] #unknown gender names\n",
    "    characters[\"male_corpus\"][title][\"authors_sex\"] = \"male\" #author's sex\n",
    "\n",
    "with open('results/male_corpus_results.csv', 'w', encoding='utf-8') as file:\n",
    "    fields = [\"book_title\", \"male_characters\", \"male_characters_names\", \"female_characters\", \"female_characters_names\", \"none\", \"unknown_gender_names\", \"authors_sex\"]\n",
    "    writer = csv.DictWriter(file, fieldnames=fields)\n",
    "    writer.writeheader()\n",
    "    for corpus_gender, dictionary in characters.items():\n",
    "        for k,v in dictionary.items():\n",
    "            writer.writerow(v)"
   ]
  }
 ],
 "metadata": {
  "kernelspec": {
   "display_name": "Python 3.10.0 64-bit",
   "language": "python",
   "name": "python3"
  },
  "language_info": {
   "codemirror_mode": {
    "name": "ipython",
    "version": 3
   },
   "file_extension": ".py",
   "mimetype": "text/x-python",
   "name": "python",
   "nbconvert_exporter": "python",
   "pygments_lexer": "ipython3",
   "version": "3.10.0"
  },
  "orig_nbformat": 4,
  "vscode": {
   "interpreter": {
    "hash": "aee8b7b246df8f9039afb4144a1f6fd8d2ca17a180786b69acc140d282b71a49"
   }
  }
 },
 "nbformat": 4,
 "nbformat_minor": 2
}
