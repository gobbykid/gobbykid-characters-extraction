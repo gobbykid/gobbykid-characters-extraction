{
 "cells": [
  {
   "cell_type": "markdown",
   "metadata": {},
   "source": [
    "# Analytics"
   ]
  },
  {
   "cell_type": "code",
   "execution_count": 21,
   "metadata": {},
   "outputs": [],
   "source": [
    "import pandas as pd"
   ]
  },
  {
   "cell_type": "markdown",
   "metadata": {},
   "source": [
    "## 0. Preprocessing"
   ]
  },
  {
   "cell_type": "markdown",
   "metadata": {},
   "source": [
    "First of all, data extracted from the corpus are preprocessed in order to build the main dataframes for the analyses. Some columns are added in order to allow better gropings and visualizations, while others are not included since their content is out of our focus.\n",
    "In particular, we are not interested in charcaters' names, so, we drop the columns containing them:"
   ]
  },
  {
   "cell_type": "code",
   "execution_count": 22,
   "metadata": {},
   "outputs": [
    {
     "data": {
      "text/html": [
       "<div>\n",
       "<style scoped>\n",
       "    .dataframe tbody tr th:only-of-type {\n",
       "        vertical-align: middle;\n",
       "    }\n",
       "\n",
       "    .dataframe tbody tr th {\n",
       "        vertical-align: top;\n",
       "    }\n",
       "\n",
       "    .dataframe thead th {\n",
       "        text-align: right;\n",
       "    }\n",
       "</style>\n",
       "<table border=\"1\" class=\"dataframe\">\n",
       "  <thead>\n",
       "    <tr style=\"text-align: right;\">\n",
       "      <th></th>\n",
       "      <th>book_title</th>\n",
       "      <th>male_characters</th>\n",
       "      <th>female_characters</th>\n",
       "      <th>none</th>\n",
       "      <th>authors_sex</th>\n",
       "    </tr>\n",
       "  </thead>\n",
       "  <tbody>\n",
       "    <tr>\n",
       "      <th>0</th>\n",
       "      <td>1883_molesworth-the-boys-and-i-a-childs-story-...</td>\n",
       "      <td>4</td>\n",
       "      <td>5</td>\n",
       "      <td>0</td>\n",
       "      <td>female</td>\n",
       "    </tr>\n",
       "    <tr>\n",
       "      <th>1</th>\n",
       "      <td>1905_meade-a-plain-girl</td>\n",
       "      <td>17</td>\n",
       "      <td>39</td>\n",
       "      <td>2</td>\n",
       "      <td>female</td>\n",
       "    </tr>\n",
       "    <tr>\n",
       "      <th>2</th>\n",
       "      <td>1890_meade-the-honorable-miss-a-story-of.an-ol...</td>\n",
       "      <td>25</td>\n",
       "      <td>43</td>\n",
       "      <td>9</td>\n",
       "      <td>female</td>\n",
       "    </tr>\n",
       "    <tr>\n",
       "      <th>3</th>\n",
       "      <td>1856_yonge-the-daisy-chain-or-aspirations</td>\n",
       "      <td>113</td>\n",
       "      <td>71</td>\n",
       "      <td>17</td>\n",
       "      <td>female</td>\n",
       "    </tr>\n",
       "    <tr>\n",
       "      <th>4</th>\n",
       "      <td>1876_molesworth-carrots-just-a-little-boy</td>\n",
       "      <td>7</td>\n",
       "      <td>6</td>\n",
       "      <td>1</td>\n",
       "      <td>female</td>\n",
       "    </tr>\n",
       "    <tr>\n",
       "      <th>...</th>\n",
       "      <td>...</td>\n",
       "      <td>...</td>\n",
       "      <td>...</td>\n",
       "      <td>...</td>\n",
       "      <td>...</td>\n",
       "    </tr>\n",
       "    <tr>\n",
       "      <th>261</th>\n",
       "      <td>1910_kipling-rewards-and-fairies</td>\n",
       "      <td>127</td>\n",
       "      <td>39</td>\n",
       "      <td>16</td>\n",
       "      <td>male</td>\n",
       "    </tr>\n",
       "    <tr>\n",
       "      <th>262</th>\n",
       "      <td>1911_collingwood-a-middy-of-the-king-a-romance...</td>\n",
       "      <td>66</td>\n",
       "      <td>20</td>\n",
       "      <td>6</td>\n",
       "      <td>male</td>\n",
       "    </tr>\n",
       "    <tr>\n",
       "      <th>263</th>\n",
       "      <td>1911_collingwood-the-adventures-of-dick-maitla...</td>\n",
       "      <td>40</td>\n",
       "      <td>8</td>\n",
       "      <td>9</td>\n",
       "      <td>male</td>\n",
       "    </tr>\n",
       "    <tr>\n",
       "      <th>264</th>\n",
       "      <td>1912_collingwood-two-gallant-sons-of-davon-a-t...</td>\n",
       "      <td>27</td>\n",
       "      <td>8</td>\n",
       "      <td>7</td>\n",
       "      <td>male</td>\n",
       "    </tr>\n",
       "    <tr>\n",
       "      <th>265</th>\n",
       "      <td>1914_collingwood-the-first-mate-the-story-of-a...</td>\n",
       "      <td>22</td>\n",
       "      <td>12</td>\n",
       "      <td>4</td>\n",
       "      <td>male</td>\n",
       "    </tr>\n",
       "  </tbody>\n",
       "</table>\n",
       "<p>266 rows × 5 columns</p>\n",
       "</div>"
      ],
      "text/plain": [
       "                                            book_title  male_characters  \\\n",
       "0    1883_molesworth-the-boys-and-i-a-childs-story-...                4   \n",
       "1                              1905_meade-a-plain-girl               17   \n",
       "2    1890_meade-the-honorable-miss-a-story-of.an-ol...               25   \n",
       "3            1856_yonge-the-daisy-chain-or-aspirations              113   \n",
       "4            1876_molesworth-carrots-just-a-little-boy                7   \n",
       "..                                                 ...              ...   \n",
       "261                   1910_kipling-rewards-and-fairies              127   \n",
       "262  1911_collingwood-a-middy-of-the-king-a-romance...               66   \n",
       "263  1911_collingwood-the-adventures-of-dick-maitla...               40   \n",
       "264  1912_collingwood-two-gallant-sons-of-davon-a-t...               27   \n",
       "265  1914_collingwood-the-first-mate-the-story-of-a...               22   \n",
       "\n",
       "     female_characters  none authors_sex  \n",
       "0                    5     0      female  \n",
       "1                   39     2      female  \n",
       "2                   43     9      female  \n",
       "3                   71    17      female  \n",
       "4                    6     1      female  \n",
       "..                 ...   ...         ...  \n",
       "261                 39    16        male  \n",
       "262                 20     6        male  \n",
       "263                  8     9        male  \n",
       "264                  8     7        male  \n",
       "265                 12     4        male  \n",
       "\n",
       "[266 rows x 5 columns]"
      ]
     },
     "execution_count": 22,
     "metadata": {},
     "output_type": "execute_result"
    }
   ],
   "source": [
    "df = pd.read_csv(\"results/full_corpus_results.csv\", encoding=\"utf8\")\n",
    "df = df.drop([\"male_characters_names\", \"female_characters_names\", \"unknown_gender_names\"], axis='columns')\n",
    "df"
   ]
  },
  {
   "cell_type": "markdown",
   "metadata": {},
   "source": [
    "We add some information to our dataframes. Some functions have been here defined in order to better understand the differences in terms of number of charcaters used in different books. Also the publication date and period is extracted in order to allow some specific visualizations."
   ]
  },
  {
   "cell_type": "code",
   "execution_count": 23,
   "metadata": {},
   "outputs": [],
   "source": [
    "def where_more_characters(df):\n",
    "    list_for_series = []\n",
    "    for idx, row in df.iterrows():\n",
    "        if row[\"male_characters\"] > row[\"female_characters\"]:\n",
    "            list_for_series.append(\"male\")\n",
    "        elif row[\"male_characters\"] < row[\"female_characters\"]:\n",
    "            list_for_series.append(\"female\")\n",
    "        else:\n",
    "            list_for_series.append(\"balanced\")\n",
    "    df[\"gender_of_most_numerous_characters\"] = list_for_series\n",
    "    return total_number_and_characters_difference(df)\n",
    "\n",
    "\n",
    "def total_number_and_characters_difference(df):     #this function needs to be runned after the previous one\n",
    "    tots_list = []\n",
    "    diff_list = []\n",
    "    for idx, row in df.iterrows():\n",
    "        tots_list.append(row[\"male_characters\"]+row[\"female_characters\"])\n",
    "        diff_list.append(abs(row[\"male_characters\"]-row[\"female_characters\"]))\n",
    "    df[\"total_gendered_characters\"] = tots_list\n",
    "    df[\"difference_between_gendered_characters\"] = diff_list\n",
    "    return df\n",
    "\n",
    "def publication_date(df):\n",
    "    publication_dates = []\n",
    "    publication_period = []\n",
    "    for idx, row in df.iterrows():\n",
    "        year = row[\"book_title\"].split(\"_\")[0]\n",
    "        period = \"1\"+year[1]+year[2]+\"0-1\"+year[1]+year[2]+\"9\"\n",
    "        publication_dates.append(year)\n",
    "        publication_period.append(period)\n",
    "    df[\"publication_period\"] = publication_period    \n",
    "    df[\"publication_year\"] = publication_dates\n",
    "    return df"
   ]
  },
  {
   "cell_type": "code",
   "execution_count": 48,
   "metadata": {},
   "outputs": [
    {
     "data": {
      "text/html": [
       "<div>\n",
       "<style scoped>\n",
       "    .dataframe tbody tr th:only-of-type {\n",
       "        vertical-align: middle;\n",
       "    }\n",
       "\n",
       "    .dataframe tbody tr th {\n",
       "        vertical-align: top;\n",
       "    }\n",
       "\n",
       "    .dataframe thead th {\n",
       "        text-align: right;\n",
       "    }\n",
       "</style>\n",
       "<table border=\"1\" class=\"dataframe\">\n",
       "  <thead>\n",
       "    <tr style=\"text-align: right;\">\n",
       "      <th></th>\n",
       "      <th>book_title</th>\n",
       "      <th>male_characters</th>\n",
       "      <th>female_characters</th>\n",
       "      <th>none</th>\n",
       "      <th>authors_sex</th>\n",
       "      <th>gender_of_most_numerous_characters</th>\n",
       "      <th>total_gendered_characters</th>\n",
       "      <th>difference_between_gendered_characters</th>\n",
       "      <th>publication_period</th>\n",
       "      <th>publication_year</th>\n",
       "    </tr>\n",
       "  </thead>\n",
       "  <tbody>\n",
       "    <tr>\n",
       "      <th>0</th>\n",
       "      <td>1883_molesworth-the-boys-and-i-a-childs-story-...</td>\n",
       "      <td>4</td>\n",
       "      <td>5</td>\n",
       "      <td>0</td>\n",
       "      <td>female</td>\n",
       "      <td>female</td>\n",
       "      <td>9</td>\n",
       "      <td>1</td>\n",
       "      <td>1880-1889</td>\n",
       "      <td>1883</td>\n",
       "    </tr>\n",
       "    <tr>\n",
       "      <th>1</th>\n",
       "      <td>1905_meade-a-plain-girl</td>\n",
       "      <td>17</td>\n",
       "      <td>39</td>\n",
       "      <td>2</td>\n",
       "      <td>female</td>\n",
       "      <td>female</td>\n",
       "      <td>56</td>\n",
       "      <td>22</td>\n",
       "      <td>1900-1909</td>\n",
       "      <td>1905</td>\n",
       "    </tr>\n",
       "    <tr>\n",
       "      <th>2</th>\n",
       "      <td>1890_meade-the-honorable-miss-a-story-of.an-ol...</td>\n",
       "      <td>25</td>\n",
       "      <td>43</td>\n",
       "      <td>9</td>\n",
       "      <td>female</td>\n",
       "      <td>female</td>\n",
       "      <td>68</td>\n",
       "      <td>18</td>\n",
       "      <td>1890-1899</td>\n",
       "      <td>1890</td>\n",
       "    </tr>\n",
       "    <tr>\n",
       "      <th>3</th>\n",
       "      <td>1856_yonge-the-daisy-chain-or-aspirations</td>\n",
       "      <td>113</td>\n",
       "      <td>71</td>\n",
       "      <td>17</td>\n",
       "      <td>female</td>\n",
       "      <td>male</td>\n",
       "      <td>184</td>\n",
       "      <td>42</td>\n",
       "      <td>1850-1859</td>\n",
       "      <td>1856</td>\n",
       "    </tr>\n",
       "    <tr>\n",
       "      <th>4</th>\n",
       "      <td>1876_molesworth-carrots-just-a-little-boy</td>\n",
       "      <td>7</td>\n",
       "      <td>6</td>\n",
       "      <td>1</td>\n",
       "      <td>female</td>\n",
       "      <td>male</td>\n",
       "      <td>13</td>\n",
       "      <td>1</td>\n",
       "      <td>1870-1879</td>\n",
       "      <td>1876</td>\n",
       "    </tr>\n",
       "    <tr>\n",
       "      <th>...</th>\n",
       "      <td>...</td>\n",
       "      <td>...</td>\n",
       "      <td>...</td>\n",
       "      <td>...</td>\n",
       "      <td>...</td>\n",
       "      <td>...</td>\n",
       "      <td>...</td>\n",
       "      <td>...</td>\n",
       "      <td>...</td>\n",
       "      <td>...</td>\n",
       "    </tr>\n",
       "    <tr>\n",
       "      <th>261</th>\n",
       "      <td>1910_kipling-rewards-and-fairies</td>\n",
       "      <td>127</td>\n",
       "      <td>39</td>\n",
       "      <td>16</td>\n",
       "      <td>male</td>\n",
       "      <td>male</td>\n",
       "      <td>166</td>\n",
       "      <td>88</td>\n",
       "      <td>1910-1919</td>\n",
       "      <td>1910</td>\n",
       "    </tr>\n",
       "    <tr>\n",
       "      <th>262</th>\n",
       "      <td>1911_collingwood-a-middy-of-the-king-a-romance...</td>\n",
       "      <td>66</td>\n",
       "      <td>20</td>\n",
       "      <td>6</td>\n",
       "      <td>male</td>\n",
       "      <td>male</td>\n",
       "      <td>86</td>\n",
       "      <td>46</td>\n",
       "      <td>1910-1919</td>\n",
       "      <td>1911</td>\n",
       "    </tr>\n",
       "    <tr>\n",
       "      <th>263</th>\n",
       "      <td>1911_collingwood-the-adventures-of-dick-maitla...</td>\n",
       "      <td>40</td>\n",
       "      <td>8</td>\n",
       "      <td>9</td>\n",
       "      <td>male</td>\n",
       "      <td>male</td>\n",
       "      <td>48</td>\n",
       "      <td>32</td>\n",
       "      <td>1910-1919</td>\n",
       "      <td>1911</td>\n",
       "    </tr>\n",
       "    <tr>\n",
       "      <th>264</th>\n",
       "      <td>1912_collingwood-two-gallant-sons-of-davon-a-t...</td>\n",
       "      <td>27</td>\n",
       "      <td>8</td>\n",
       "      <td>7</td>\n",
       "      <td>male</td>\n",
       "      <td>male</td>\n",
       "      <td>35</td>\n",
       "      <td>19</td>\n",
       "      <td>1910-1919</td>\n",
       "      <td>1912</td>\n",
       "    </tr>\n",
       "    <tr>\n",
       "      <th>265</th>\n",
       "      <td>1914_collingwood-the-first-mate-the-story-of-a...</td>\n",
       "      <td>22</td>\n",
       "      <td>12</td>\n",
       "      <td>4</td>\n",
       "      <td>male</td>\n",
       "      <td>male</td>\n",
       "      <td>34</td>\n",
       "      <td>10</td>\n",
       "      <td>1910-1919</td>\n",
       "      <td>1914</td>\n",
       "    </tr>\n",
       "  </tbody>\n",
       "</table>\n",
       "<p>266 rows × 10 columns</p>\n",
       "</div>"
      ],
      "text/plain": [
       "                                            book_title  male_characters  \\\n",
       "0    1883_molesworth-the-boys-and-i-a-childs-story-...                4   \n",
       "1                              1905_meade-a-plain-girl               17   \n",
       "2    1890_meade-the-honorable-miss-a-story-of.an-ol...               25   \n",
       "3            1856_yonge-the-daisy-chain-or-aspirations              113   \n",
       "4            1876_molesworth-carrots-just-a-little-boy                7   \n",
       "..                                                 ...              ...   \n",
       "261                   1910_kipling-rewards-and-fairies              127   \n",
       "262  1911_collingwood-a-middy-of-the-king-a-romance...               66   \n",
       "263  1911_collingwood-the-adventures-of-dick-maitla...               40   \n",
       "264  1912_collingwood-two-gallant-sons-of-davon-a-t...               27   \n",
       "265  1914_collingwood-the-first-mate-the-story-of-a...               22   \n",
       "\n",
       "     female_characters  none authors_sex gender_of_most_numerous_characters  \\\n",
       "0                    5     0      female                             female   \n",
       "1                   39     2      female                             female   \n",
       "2                   43     9      female                             female   \n",
       "3                   71    17      female                               male   \n",
       "4                    6     1      female                               male   \n",
       "..                 ...   ...         ...                                ...   \n",
       "261                 39    16        male                               male   \n",
       "262                 20     6        male                               male   \n",
       "263                  8     9        male                               male   \n",
       "264                  8     7        male                               male   \n",
       "265                 12     4        male                               male   \n",
       "\n",
       "     total_gendered_characters  difference_between_gendered_characters  \\\n",
       "0                            9                                       1   \n",
       "1                           56                                      22   \n",
       "2                           68                                      18   \n",
       "3                          184                                      42   \n",
       "4                           13                                       1   \n",
       "..                         ...                                     ...   \n",
       "261                        166                                      88   \n",
       "262                         86                                      46   \n",
       "263                         48                                      32   \n",
       "264                         35                                      19   \n",
       "265                         34                                      10   \n",
       "\n",
       "    publication_period publication_year  \n",
       "0            1880-1889             1883  \n",
       "1            1900-1909             1905  \n",
       "2            1890-1899             1890  \n",
       "3            1850-1859             1856  \n",
       "4            1870-1879             1876  \n",
       "..                 ...              ...  \n",
       "261          1910-1919             1910  \n",
       "262          1910-1919             1911  \n",
       "263          1910-1919             1911  \n",
       "264          1910-1919             1912  \n",
       "265          1910-1919             1914  \n",
       "\n",
       "[266 rows x 10 columns]"
      ]
     },
     "execution_count": 48,
     "metadata": {},
     "output_type": "execute_result"
    }
   ],
   "source": [
    "where_more_characters(df)\n",
    "publication_date(df)"
   ]
  },
  {
   "cell_type": "markdown",
   "metadata": {},
   "source": [
    "The main dataframe is now splitted in two: one dataframe for the male corpus and one for the female corpus."
   ]
  },
  {
   "cell_type": "code",
   "execution_count": 26,
   "metadata": {},
   "outputs": [],
   "source": [
    "df_m = df.query(\"authors_sex == 'male'\")\n",
    "df_f = df.query(\"authors_sex == 'female'\")"
   ]
  },
  {
   "cell_type": "markdown",
   "metadata": {},
   "source": [
    "For further analysis some more dataframes are created for book published before and after 1880."
   ]
  },
  {
   "cell_type": "code",
   "execution_count": 137,
   "metadata": {},
   "outputs": [],
   "source": [
    "df_before_1880 = df.query(\"publication_year < '1880'\")\n",
    "df_after_1880 = df.query(\"publication_year >= '1880'\")\n",
    "\n",
    "df_f_before_1880 = df_f.query(\"publication_year < '1880'\")\n",
    "df_f_after_1880 = df_f.query(\"publication_year >= '1880'\")\n",
    "df_m_before_1880 = df_m.query(\"publication_year < '1880'\")\n",
    "df_m_after_1880 = df_m.query(\"publication_year >= '1880'\")"
   ]
  },
  {
   "cell_type": "markdown",
   "metadata": {},
   "source": [
    "___________________"
   ]
  },
  {
   "cell_type": "markdown",
   "metadata": {},
   "source": [
    "## 1. Data Analysis"
   ]
  },
  {
   "cell_type": "markdown",
   "metadata": {},
   "source": [
    "### a. In how many books the number of male characters is bigger than the number of female characters? "
   ]
  },
  {
   "cell_type": "markdown",
   "metadata": {},
   "source": [
    "Count related to the whole coprus:"
   ]
  },
  {
   "cell_type": "code",
   "execution_count": 128,
   "metadata": {},
   "outputs": [
    {
     "data": {
      "text/plain": [
       "gender_of_most_numerous_characters\n",
       "male        68.421053\n",
       "female      25.187970\n",
       "balanced     6.390977\n",
       "dtype: float64"
      ]
     },
     "execution_count": 128,
     "metadata": {},
     "output_type": "execute_result"
    }
   ],
   "source": [
    "df.value_counts(\"gender_of_most_numerous_characters\").apply(lambda x: x/len(df)*100)"
   ]
  },
  {
   "cell_type": "code",
   "execution_count": 150,
   "metadata": {},
   "outputs": [
    {
     "data": {
      "text/plain": [
       "gender_of_most_numerous_characters\n",
       "male        58\n",
       "female      14\n",
       "balanced     7\n",
       "dtype: int64"
      ]
     },
     "execution_count": 150,
     "metadata": {},
     "output_type": "execute_result"
    }
   ],
   "source": [
    "df_before_1880.value_counts(\"gender_of_most_numerous_characters\").apply(lambda x: x/len(df_before_1880)*100)"
   ]
  },
  {
   "cell_type": "code",
   "execution_count": 139,
   "metadata": {},
   "outputs": [
    {
     "data": {
      "text/plain": [
       "gender_of_most_numerous_characters\n",
       "male        66.310160\n",
       "female      28.342246\n",
       "balanced     5.347594\n",
       "dtype: float64"
      ]
     },
     "execution_count": 139,
     "metadata": {},
     "output_type": "execute_result"
    }
   ],
   "source": [
    "df_after_1880.value_counts(\"gender_of_most_numerous_characters\").apply(lambda x: x/len(df_after_1880)*100)"
   ]
  },
  {
   "cell_type": "markdown",
   "metadata": {},
   "source": [
    "Count related to the corpus of male authors:"
   ]
  },
  {
   "cell_type": "code",
   "execution_count": 135,
   "metadata": {},
   "outputs": [
    {
     "data": {
      "text/plain": [
       "gender_of_most_numerous_characters\n",
       "male        95.412844\n",
       "balanced     2.752294\n",
       "female       1.834862\n",
       "dtype: float64"
      ]
     },
     "execution_count": 135,
     "metadata": {},
     "output_type": "execute_result"
    }
   ],
   "source": [
    "df_m.value_counts(\"gender_of_most_numerous_characters\").apply(lambda x: (x/len(df_m)*100))"
   ]
  },
  {
   "cell_type": "code",
   "execution_count": 140,
   "metadata": {},
   "outputs": [
    {
     "data": {
      "text/plain": [
       "gender_of_most_numerous_characters\n",
       "male        88.888889\n",
       "balanced     8.333333\n",
       "female       2.777778\n",
       "dtype: float64"
      ]
     },
     "execution_count": 140,
     "metadata": {},
     "output_type": "execute_result"
    }
   ],
   "source": [
    "df_m_before_1880.value_counts(\"gender_of_most_numerous_characters\").apply(lambda x: (x/len(df_m_before_1880)*100))"
   ]
  },
  {
   "cell_type": "code",
   "execution_count": 141,
   "metadata": {},
   "outputs": [
    {
     "data": {
      "text/plain": [
       "gender_of_most_numerous_characters\n",
       "male      98.630137\n",
       "female     1.369863\n",
       "dtype: float64"
      ]
     },
     "execution_count": 141,
     "metadata": {},
     "output_type": "execute_result"
    }
   ],
   "source": [
    "df_m_after_1880.value_counts(\"gender_of_most_numerous_characters\").apply(lambda x: (x/len(df_m_after_1880)*100))"
   ]
  },
  {
   "cell_type": "markdown",
   "metadata": {},
   "source": [
    "Count related to the corpus of female authors:"
   ]
  },
  {
   "cell_type": "code",
   "execution_count": 149,
   "metadata": {},
   "outputs": [
    {
     "data": {
      "text/plain": [
       "gender_of_most_numerous_characters\n",
       "male        49.681529\n",
       "female      41.401274\n",
       "balanced     8.917197\n",
       "dtype: float64"
      ]
     },
     "execution_count": 149,
     "metadata": {},
     "output_type": "execute_result"
    }
   ],
   "source": [
    "df_f.value_counts(\"gender_of_most_numerous_characters\").apply(lambda x: (x/len(df_f)*100))"
   ]
  },
  {
   "cell_type": "code",
   "execution_count": 148,
   "metadata": {},
   "outputs": [
    {
     "data": {
      "text/plain": [
       "gender_of_most_numerous_characters\n",
       "male        60.465116\n",
       "female      30.232558\n",
       "balanced     9.302326\n",
       "dtype: float64"
      ]
     },
     "execution_count": 148,
     "metadata": {},
     "output_type": "execute_result"
    }
   ],
   "source": [
    "df_f_before_1880.value_counts(\"gender_of_most_numerous_characters\").apply(lambda x: (x/len(df_f_before_1880)*100))"
   ]
  },
  {
   "cell_type": "code",
   "execution_count": 147,
   "metadata": {},
   "outputs": [
    {
     "data": {
      "text/plain": [
       "gender_of_most_numerous_characters\n",
       "female      45.614035\n",
       "male        45.614035\n",
       "balanced     8.771930\n",
       "dtype: float64"
      ]
     },
     "execution_count": 147,
     "metadata": {},
     "output_type": "execute_result"
    }
   ],
   "source": [
    "df_f_after_1880.value_counts(\"gender_of_most_numerous_characters\").apply(lambda x: (x/len(df_f_after_1880)*100))"
   ]
  },
  {
   "cell_type": "markdown",
   "metadata": {},
   "source": [
    "### b. The relative number of male and female charcaters in the books grouped by decades."
   ]
  },
  {
   "cell_type": "markdown",
   "metadata": {},
   "source": [
    "Here, for each decade we measure the number of male and female characters present in books. The results are presented in percentages, relatively to the whole number of charcater for each decade."
   ]
  },
  {
   "cell_type": "markdown",
   "metadata": {},
   "source": [
    "The general view over the full corpus:"
   ]
  },
  {
   "cell_type": "code",
   "execution_count": 51,
   "metadata": {},
   "outputs": [
    {
     "data": {
      "text/html": [
       "<div>\n",
       "<style scoped>\n",
       "    .dataframe tbody tr th:only-of-type {\n",
       "        vertical-align: middle;\n",
       "    }\n",
       "\n",
       "    .dataframe tbody tr th {\n",
       "        vertical-align: top;\n",
       "    }\n",
       "\n",
       "    .dataframe thead th {\n",
       "        text-align: right;\n",
       "    }\n",
       "</style>\n",
       "<table border=\"1\" class=\"dataframe\">\n",
       "  <thead>\n",
       "    <tr style=\"text-align: right;\">\n",
       "      <th></th>\n",
       "      <th>male_characters</th>\n",
       "      <th>female_characters</th>\n",
       "      <th>none</th>\n",
       "    </tr>\n",
       "    <tr>\n",
       "      <th>publication_period</th>\n",
       "      <th></th>\n",
       "      <th></th>\n",
       "      <th></th>\n",
       "    </tr>\n",
       "  </thead>\n",
       "  <tbody>\n",
       "    <tr>\n",
       "      <th>1830-1839</th>\n",
       "      <td>73.053892</td>\n",
       "      <td>25.149701</td>\n",
       "      <td>1.796407</td>\n",
       "    </tr>\n",
       "    <tr>\n",
       "      <th>1840-1849</th>\n",
       "      <td>67.021277</td>\n",
       "      <td>28.723404</td>\n",
       "      <td>4.255319</td>\n",
       "    </tr>\n",
       "    <tr>\n",
       "      <th>1850-1859</th>\n",
       "      <td>67.275616</td>\n",
       "      <td>23.669579</td>\n",
       "      <td>9.054805</td>\n",
       "    </tr>\n",
       "    <tr>\n",
       "      <th>1860-1869</th>\n",
       "      <td>64.141414</td>\n",
       "      <td>30.934343</td>\n",
       "      <td>4.924242</td>\n",
       "    </tr>\n",
       "    <tr>\n",
       "      <th>1870-1879</th>\n",
       "      <td>62.630313</td>\n",
       "      <td>30.232558</td>\n",
       "      <td>7.137129</td>\n",
       "    </tr>\n",
       "    <tr>\n",
       "      <th>1880-1889</th>\n",
       "      <td>62.150747</td>\n",
       "      <td>28.882391</td>\n",
       "      <td>8.966862</td>\n",
       "    </tr>\n",
       "    <tr>\n",
       "      <th>1890-1899</th>\n",
       "      <td>55.636659</td>\n",
       "      <td>36.050284</td>\n",
       "      <td>8.313058</td>\n",
       "    </tr>\n",
       "    <tr>\n",
       "      <th>1900-1909</th>\n",
       "      <td>50.660793</td>\n",
       "      <td>43.045941</td>\n",
       "      <td>6.293266</td>\n",
       "    </tr>\n",
       "    <tr>\n",
       "      <th>1910-1919</th>\n",
       "      <td>60.598179</td>\n",
       "      <td>31.729519</td>\n",
       "      <td>7.672302</td>\n",
       "    </tr>\n",
       "  </tbody>\n",
       "</table>\n",
       "</div>"
      ],
      "text/plain": [
       "                    male_characters  female_characters      none\n",
       "publication_period                                              \n",
       "1830-1839                 73.053892          25.149701  1.796407\n",
       "1840-1849                 67.021277          28.723404  4.255319\n",
       "1850-1859                 67.275616          23.669579  9.054805\n",
       "1860-1869                 64.141414          30.934343  4.924242\n",
       "1870-1879                 62.630313          30.232558  7.137129\n",
       "1880-1889                 62.150747          28.882391  8.966862\n",
       "1890-1899                 55.636659          36.050284  8.313058\n",
       "1900-1909                 50.660793          43.045941  6.293266\n",
       "1910-1919                 60.598179          31.729519  7.672302"
      ]
     },
     "execution_count": 51,
     "metadata": {},
     "output_type": "execute_result"
    }
   ],
   "source": [
    "char_number_df = df[[\"publication_period\", \"male_characters\", \"female_characters\", \"none\"]].sort_values(by=['publication_period']).groupby(\"publication_period\").sum().apply(lambda x: x*100/sum(x), axis=1)\n",
    "char_number_df"
   ]
  },
  {
   "cell_type": "markdown",
   "metadata": {},
   "source": [
    "The view over the corpus of male authors:"
   ]
  },
  {
   "cell_type": "code",
   "execution_count": 57,
   "metadata": {},
   "outputs": [
    {
     "data": {
      "text/html": [
       "<div>\n",
       "<style scoped>\n",
       "    .dataframe tbody tr th:only-of-type {\n",
       "        vertical-align: middle;\n",
       "    }\n",
       "\n",
       "    .dataframe tbody tr th {\n",
       "        vertical-align: top;\n",
       "    }\n",
       "\n",
       "    .dataframe thead th {\n",
       "        text-align: right;\n",
       "    }\n",
       "</style>\n",
       "<table border=\"1\" class=\"dataframe\">\n",
       "  <thead>\n",
       "    <tr style=\"text-align: right;\">\n",
       "      <th></th>\n",
       "      <th>male_characters</th>\n",
       "      <th>female_characters</th>\n",
       "      <th>none</th>\n",
       "    </tr>\n",
       "    <tr>\n",
       "      <th>publication_period</th>\n",
       "      <th></th>\n",
       "      <th></th>\n",
       "      <th></th>\n",
       "    </tr>\n",
       "  </thead>\n",
       "  <tbody>\n",
       "    <tr>\n",
       "      <th>1830-1839</th>\n",
       "      <td>73.076923</td>\n",
       "      <td>25.000000</td>\n",
       "      <td>1.923077</td>\n",
       "    </tr>\n",
       "    <tr>\n",
       "      <th>1840-1849</th>\n",
       "      <td>66.863905</td>\n",
       "      <td>29.585799</td>\n",
       "      <td>3.550296</td>\n",
       "    </tr>\n",
       "    <tr>\n",
       "      <th>1850-1859</th>\n",
       "      <td>72.115385</td>\n",
       "      <td>17.307692</td>\n",
       "      <td>10.576923</td>\n",
       "    </tr>\n",
       "    <tr>\n",
       "      <th>1860-1869</th>\n",
       "      <td>69.482289</td>\n",
       "      <td>25.068120</td>\n",
       "      <td>5.449591</td>\n",
       "    </tr>\n",
       "    <tr>\n",
       "      <th>1870-1879</th>\n",
       "      <td>67.479675</td>\n",
       "      <td>24.119241</td>\n",
       "      <td>8.401084</td>\n",
       "    </tr>\n",
       "    <tr>\n",
       "      <th>1880-1889</th>\n",
       "      <td>68.994975</td>\n",
       "      <td>20.452261</td>\n",
       "      <td>10.552764</td>\n",
       "    </tr>\n",
       "    <tr>\n",
       "      <th>1890-1899</th>\n",
       "      <td>63.248639</td>\n",
       "      <td>25.408348</td>\n",
       "      <td>11.343013</td>\n",
       "    </tr>\n",
       "    <tr>\n",
       "      <th>1900-1909</th>\n",
       "      <td>67.132867</td>\n",
       "      <td>24.009324</td>\n",
       "      <td>8.857809</td>\n",
       "    </tr>\n",
       "    <tr>\n",
       "      <th>1910-1919</th>\n",
       "      <td>69.263158</td>\n",
       "      <td>20.421053</td>\n",
       "      <td>10.315789</td>\n",
       "    </tr>\n",
       "  </tbody>\n",
       "</table>\n",
       "</div>"
      ],
      "text/plain": [
       "                    male_characters  female_characters       none\n",
       "publication_period                                               \n",
       "1830-1839                 73.076923          25.000000   1.923077\n",
       "1840-1849                 66.863905          29.585799   3.550296\n",
       "1850-1859                 72.115385          17.307692  10.576923\n",
       "1860-1869                 69.482289          25.068120   5.449591\n",
       "1870-1879                 67.479675          24.119241   8.401084\n",
       "1880-1889                 68.994975          20.452261  10.552764\n",
       "1890-1899                 63.248639          25.408348  11.343013\n",
       "1900-1909                 67.132867          24.009324   8.857809\n",
       "1910-1919                 69.263158          20.421053  10.315789"
      ]
     },
     "execution_count": 57,
     "metadata": {},
     "output_type": "execute_result"
    }
   ],
   "source": [
    "char_number_m = df_m[[\"publication_period\", \"male_characters\", \"female_characters\", \"none\"]].sort_values(by=['publication_period']).groupby(\"publication_period\").sum().apply(lambda x: x*100/sum(x), axis=1)\n",
    "char_number_m #.plot.bar(stacked=True, figsize=(20,10), fontsize=20, rot=0)"
   ]
  },
  {
   "cell_type": "markdown",
   "metadata": {},
   "source": [
    "The view over the corpus of female authors:"
   ]
  },
  {
   "cell_type": "code",
   "execution_count": 53,
   "metadata": {},
   "outputs": [
    {
     "data": {
      "text/html": [
       "<div>\n",
       "<style scoped>\n",
       "    .dataframe tbody tr th:only-of-type {\n",
       "        vertical-align: middle;\n",
       "    }\n",
       "\n",
       "    .dataframe tbody tr th {\n",
       "        vertical-align: top;\n",
       "    }\n",
       "\n",
       "    .dataframe thead th {\n",
       "        text-align: right;\n",
       "    }\n",
       "</style>\n",
       "<table border=\"1\" class=\"dataframe\">\n",
       "  <thead>\n",
       "    <tr style=\"text-align: right;\">\n",
       "      <th></th>\n",
       "      <th>male_characters</th>\n",
       "      <th>female_characters</th>\n",
       "      <th>none</th>\n",
       "    </tr>\n",
       "    <tr>\n",
       "      <th>publication_period</th>\n",
       "      <th></th>\n",
       "      <th></th>\n",
       "      <th></th>\n",
       "    </tr>\n",
       "  </thead>\n",
       "  <tbody>\n",
       "    <tr>\n",
       "      <th>1830-1839</th>\n",
       "      <td>73.015873</td>\n",
       "      <td>25.396825</td>\n",
       "      <td>1.587302</td>\n",
       "    </tr>\n",
       "    <tr>\n",
       "      <th>1840-1849</th>\n",
       "      <td>68.421053</td>\n",
       "      <td>21.052632</td>\n",
       "      <td>10.526316</td>\n",
       "    </tr>\n",
       "    <tr>\n",
       "      <th>1850-1859</th>\n",
       "      <td>62.519685</td>\n",
       "      <td>29.921260</td>\n",
       "      <td>7.559055</td>\n",
       "    </tr>\n",
       "    <tr>\n",
       "      <th>1860-1869</th>\n",
       "      <td>59.529412</td>\n",
       "      <td>36.000000</td>\n",
       "      <td>4.470588</td>\n",
       "    </tr>\n",
       "    <tr>\n",
       "      <th>1870-1879</th>\n",
       "      <td>55.599214</td>\n",
       "      <td>39.096267</td>\n",
       "      <td>5.304519</td>\n",
       "    </tr>\n",
       "    <tr>\n",
       "      <th>1880-1889</th>\n",
       "      <td>49.632353</td>\n",
       "      <td>44.301471</td>\n",
       "      <td>6.066176</td>\n",
       "    </tr>\n",
       "    <tr>\n",
       "      <th>1890-1899</th>\n",
       "      <td>49.486804</td>\n",
       "      <td>44.648094</td>\n",
       "      <td>5.865103</td>\n",
       "    </tr>\n",
       "    <tr>\n",
       "      <th>1900-1909</th>\n",
       "      <td>44.568966</td>\n",
       "      <td>50.086207</td>\n",
       "      <td>5.344828</td>\n",
       "    </tr>\n",
       "    <tr>\n",
       "      <th>1910-1919</th>\n",
       "      <td>46.598639</td>\n",
       "      <td>50.000000</td>\n",
       "      <td>3.401361</td>\n",
       "    </tr>\n",
       "  </tbody>\n",
       "</table>\n",
       "</div>"
      ],
      "text/plain": [
       "                    male_characters  female_characters       none\n",
       "publication_period                                               \n",
       "1830-1839                 73.015873          25.396825   1.587302\n",
       "1840-1849                 68.421053          21.052632  10.526316\n",
       "1850-1859                 62.519685          29.921260   7.559055\n",
       "1860-1869                 59.529412          36.000000   4.470588\n",
       "1870-1879                 55.599214          39.096267   5.304519\n",
       "1880-1889                 49.632353          44.301471   6.066176\n",
       "1890-1899                 49.486804          44.648094   5.865103\n",
       "1900-1909                 44.568966          50.086207   5.344828\n",
       "1910-1919                 46.598639          50.000000   3.401361"
      ]
     },
     "execution_count": 53,
     "metadata": {},
     "output_type": "execute_result"
    }
   ],
   "source": [
    "char_number_f = df_f[[\"publication_period\", \"male_characters\", \"female_characters\", \"none\"]].sort_values(by=['publication_period']).groupby(\"publication_period\").sum().apply(lambda x: x*100/sum(x), axis=1)\n",
    "char_number_f"
   ]
  },
  {
   "cell_type": "markdown",
   "metadata": {},
   "source": [
    "### c. Number of male and female characters used by authors. (QUESTA LA METTEREI PRIMA DELLA SEZIONE B)"
   ]
  },
  {
   "cell_type": "markdown",
   "metadata": {},
   "source": [
    "Male and female characters used by male and female authors in percentages."
   ]
  },
  {
   "cell_type": "code",
   "execution_count": 74,
   "metadata": {},
   "outputs": [
    {
     "data": {
      "text/plain": [
       "<AxesSubplot:xlabel='authors_sex'>"
      ]
     },
     "execution_count": 74,
     "metadata": {},
     "output_type": "execute_result"
    },
    {
     "data": {
      "image/png": "[encoded data removed]",
      "text/plain": [
       "<Figure size 1440x720 with 1 Axes>"
      ]
     },
     "metadata": {
      "needs_background": "light"
     },
     "output_type": "display_data"
    }
   ],
   "source": [
    "reduced_df = df[[\"authors_sex\",\"male_characters\", \"female_characters\", \"none\"]]\n",
    "reduced_df.groupby(\"authors_sex\").sum().apply(lambda x: x*100/sum(x), axis=1).plot.bar(stacked=False, figsize=(20,10), fontsize=20, rot=0)"
   ]
  },
  {
   "cell_type": "markdown",
   "metadata": {},
   "source": [
    "### !!!!calcola l'incremento percentuale!!!"
   ]
  },
  {
   "cell_type": "code",
   "execution_count": 112,
   "metadata": {},
   "outputs": [
    {
     "data": {
      "text/html": [
       "<div>\n",
       "<style scoped>\n",
       "    .dataframe tbody tr th:only-of-type {\n",
       "        vertical-align: middle;\n",
       "    }\n",
       "\n",
       "    .dataframe tbody tr th {\n",
       "        vertical-align: top;\n",
       "    }\n",
       "\n",
       "    .dataframe thead th {\n",
       "        text-align: right;\n",
       "    }\n",
       "</style>\n",
       "<table border=\"1\" class=\"dataframe\">\n",
       "  <thead>\n",
       "    <tr style=\"text-align: right;\">\n",
       "      <th></th>\n",
       "      <th>male_characters</th>\n",
       "      <th>female_characters</th>\n",
       "      <th>none</th>\n",
       "    </tr>\n",
       "    <tr>\n",
       "      <th>authors_sex</th>\n",
       "      <th></th>\n",
       "      <th></th>\n",
       "      <th></th>\n",
       "    </tr>\n",
       "  </thead>\n",
       "  <tbody>\n",
       "    <tr>\n",
       "      <th>female</th>\n",
       "      <td>60.084797</td>\n",
       "      <td>34.039976</td>\n",
       "      <td>5.875227</td>\n",
       "    </tr>\n",
       "    <tr>\n",
       "      <th>male</th>\n",
       "      <td>69.530470</td>\n",
       "      <td>22.677323</td>\n",
       "      <td>7.792208</td>\n",
       "    </tr>\n",
       "  </tbody>\n",
       "</table>\n",
       "</div>"
      ],
      "text/plain": [
       "             male_characters  female_characters      none\n",
       "authors_sex                                              \n",
       "female             60.084797          34.039976  5.875227\n",
       "male               69.530470          22.677323  7.792208"
      ]
     },
     "execution_count": 112,
     "metadata": {},
     "output_type": "execute_result"
    }
   ],
   "source": [
    "df_before_1880[[\"male_characters\", \"female_characters\", \"none\", \"authors_sex\"]].groupby(\"authors_sex\").sum().apply(lambda x: x*100/sum(x), axis=1)"
   ]
  },
  {
   "cell_type": "code",
   "execution_count": 113,
   "metadata": {},
   "outputs": [
    {
     "data": {
      "text/html": [
       "<div>\n",
       "<style scoped>\n",
       "    .dataframe tbody tr th:only-of-type {\n",
       "        vertical-align: middle;\n",
       "    }\n",
       "\n",
       "    .dataframe tbody tr th {\n",
       "        vertical-align: top;\n",
       "    }\n",
       "\n",
       "    .dataframe thead th {\n",
       "        text-align: right;\n",
       "    }\n",
       "</style>\n",
       "<table border=\"1\" class=\"dataframe\">\n",
       "  <thead>\n",
       "    <tr style=\"text-align: right;\">\n",
       "      <th></th>\n",
       "      <th>male_characters</th>\n",
       "      <th>female_characters</th>\n",
       "      <th>none</th>\n",
       "    </tr>\n",
       "    <tr>\n",
       "      <th>authors_sex</th>\n",
       "      <th></th>\n",
       "      <th></th>\n",
       "      <th></th>\n",
       "    </tr>\n",
       "  </thead>\n",
       "  <tbody>\n",
       "    <tr>\n",
       "      <th>female</th>\n",
       "      <td>47.849462</td>\n",
       "      <td>46.569380</td>\n",
       "      <td>5.581157</td>\n",
       "    </tr>\n",
       "    <tr>\n",
       "      <th>male</th>\n",
       "      <td>67.242242</td>\n",
       "      <td>22.197197</td>\n",
       "      <td>10.560561</td>\n",
       "    </tr>\n",
       "  </tbody>\n",
       "</table>\n",
       "</div>"
      ],
      "text/plain": [
       "             male_characters  female_characters       none\n",
       "authors_sex                                               \n",
       "female             47.849462          46.569380   5.581157\n",
       "male               67.242242          22.197197  10.560561"
      ]
     },
     "execution_count": 113,
     "metadata": {},
     "output_type": "execute_result"
    }
   ],
   "source": [
    "df_after_1880[[\"male_characters\", \"female_characters\", \"none\", \"authors_sex\"]].groupby(\"authors_sex\").sum().apply(lambda x: x*100/sum(x), axis=1)"
   ]
  },
  {
   "cell_type": "code",
   "execution_count": 114,
   "metadata": {},
   "outputs": [
    {
     "data": {
      "text/plain": [
       "<AxesSubplot:ylabel='None'>"
      ]
     },
     "execution_count": 114,
     "metadata": {},
     "output_type": "execute_result"
    },
    {
     "data": {
      "image/png": "[encoded data removed]",
      "text/plain": [
       "<Figure size 432x288 with 1 Axes>"
      ]
     },
     "metadata": {},
     "output_type": "display_data"
    }
   ],
   "source": [
    "df_f_before_1880[[\"male_characters\", \"female_characters\", \"none\"]].sum().plot.pie()"
   ]
  },
  {
   "cell_type": "code",
   "execution_count": 115,
   "metadata": {},
   "outputs": [
    {
     "data": {
      "text/plain": [
       "<AxesSubplot:ylabel='None'>"
      ]
     },
     "execution_count": 115,
     "metadata": {},
     "output_type": "execute_result"
    },
    {
     "data": {
      "image/png": "[encoded data removed]",
      "text/plain": [
       "<Figure size 432x288 with 1 Axes>"
      ]
     },
     "metadata": {},
     "output_type": "display_data"
    }
   ],
   "source": [
    "df_f_after_1880[[\"male_characters\", \"female_characters\", \"none\"]].sum().plot.pie()"
   ]
  },
  {
   "cell_type": "code",
   "execution_count": 63,
   "metadata": {},
   "outputs": [
    {
     "data": {
      "text/plain": [
       "male_characters      1392\n",
       "female_characters     454\n",
       "dtype: int64"
      ]
     },
     "execution_count": 63,
     "metadata": {},
     "output_type": "execute_result"
    }
   ],
   "source": [
    "df_m_before_1880[[\"male_characters\", \"female_characters\"]].sum() #.plot.pie()"
   ]
  },
  {
   "cell_type": "code",
   "execution_count": 64,
   "metadata": {},
   "outputs": [
    {
     "data": {
      "text/plain": [
       "male_characters      2687\n",
       "female_characters     887\n",
       "dtype: int64"
      ]
     },
     "execution_count": 64,
     "metadata": {},
     "output_type": "execute_result"
    }
   ],
   "source": [
    "df_m_after_1880[[\"male_characters\", \"female_characters\"]].sum() #.plot.pie()"
   ]
  }
 ],
 "metadata": {
  "kernelspec": {
   "display_name": "Python 3.10.0 64-bit",
   "language": "python",
   "name": "python3"
  },
  "language_info": {
   "codemirror_mode": {
    "name": "ipython",
    "version": 3
   },
   "file_extension": ".py",
   "mimetype": "text/x-python",
   "name": "python",
   "nbconvert_exporter": "python",
   "pygments_lexer": "ipython3",
   "version": "3.10.0"
  },
  "orig_nbformat": 4,
  "vscode": {
   "interpreter": {
    "hash": "aee8b7b246df8f9039afb4144a1f6fd8d2ca17a180786b69acc140d282b71a49"
   }
  }
 },
 "nbformat": 4,
 "nbformat_minor": 2
}
