{
 "cells": [
  {
   "cell_type": "code",
   "execution_count": null,
   "metadata": {},
   "outputs": [],
   "source": [
    "from charEx import *\n",
    "from genderRec import *\n",
    "import os\n",
    "from tqdm import tqdm #for progress bar"
   ]
  },
  {
   "cell_type": "code",
   "execution_count": null,
   "metadata": {},
   "outputs": [],
   "source": [
    "directory_paths = [\"../assets/Corpus/female-writers\"]#path to female or male writers\n",
    "file_paths = []\n",
    "\n",
    "for path in directory_paths:\n",
    "    for root, directories, files in os.walk(path):\n",
    "        for filename in files:\n",
    "            # Join the two strings in order to form the full filepath.\n",
    "            filepath = os.path.join(root, filename)\n",
    "            file_paths.append(filepath)\n",
    "\n",
    "for idx, filepath in enumerate(file_paths):\n",
    "    print(idx, filepath)"
   ]
  },
  {
   "cell_type": "code",
   "execution_count": null,
   "metadata": {},
   "outputs": [],
   "source": [
    "import csv\n",
    "\n",
    "characters = {\"female_corpus\": {}, \"male_corpus\": {}}\n",
    "for file_path in tqdm(file_paths): #tqdm just displays a progress bar in the terminal\n",
    "    title = file_path.split(\"/\")[-1][:-4]\n",
    "    \n",
    "    extraction = gender_recognition(get_characters(open(file_path, encoding=\"utf8\").read()))\n",
    "    \n",
    "    characters[\"female_corpus\"][title] = {}\n",
    "    characters[\"female_corpus\"][title][\"book_title\"] = title #book title\n",
    "    characters[\"female_corpus\"][title][\"male_characters\"] = len(extraction[0])\n",
    "    characters[\"female_corpus\"][title][\"male_characters_names\"] = extraction[0] #male chars names\n",
    "    characters[\"female_corpus\"][title][\"female_characters\"] = len(extraction[1])\n",
    "    characters[\"female_corpus\"][title][\"female_characters_names\"] = extraction[1] #female chars names\n",
    "    characters[\"female_corpus\"][title][\"none\"] = len(extraction[2])\n",
    "    characters[\"female_corpus\"][title][\"unknown_gender_names\"] = extraction[2] #unknown gender names\n",
    "    characters[\"female_corpus\"][title][\"authors_sex\"] = \"female\" #author's sex\n",
    "\n",
    "with open('characters_from_female_corpus.csv', 'w', encoding='utf-8') as file:\n",
    "    fields = [\"book_title\", \"male_characters\", \"male_characters_names\", \"female_characters\", \"female_characters_names\", \"none\", \"unknown_gender_names\", \"authors_sex\"]\n",
    "    writer = csv.DictWriter(file, fieldnames=fields)\n",
    "    writer.writeheader()\n",
    "    for corpus_gender, dictionary in characters.items():\n",
    "        for k,v in dictionary.items():\n",
    "            writer.writerow(v)"
   ]
  }
 ],
 "metadata": {
  "kernelspec": {
   "display_name": "Python 3.10.0 64-bit",
   "language": "python",
   "name": "python3"
  },
  "language_info": {
   "codemirror_mode": {
    "name": "ipython",
    "version": 3
   },
   "file_extension": ".py",
   "mimetype": "text/x-python",
   "name": "python",
   "nbconvert_exporter": "python",
   "pygments_lexer": "ipython3",
   "version": "3.10.0"
  },
  "orig_nbformat": 4,
  "vscode": {
   "interpreter": {
    "hash": "aee8b7b246df8f9039afb4144a1f6fd8d2ca17a180786b69acc140d282b71a49"
   }
  }
 },
 "nbformat": 4,
 "nbformat_minor": 2
}
