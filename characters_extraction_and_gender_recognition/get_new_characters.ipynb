{
 "cells": [
  {
   "cell_type": "code",
   "execution_count": 1,
   "metadata": {},
   "outputs": [],
   "source": [
    "from charEx import *\n",
    "from genderRec import *\n",
    "import os\n",
    "from tqdm import tqdm #for progress bar"
   ]
  },
  {
   "cell_type": "code",
   "execution_count": 2,
   "metadata": {},
   "outputs": [
    {
     "name": "stdout",
     "output_type": "stream",
     "text": [
      "0 ../assets/Corpus/female-writers/1883_molesworth-the-boys-and-i-a-childs-story-for-children.txt\n",
      "1 ../assets/Corpus/female-writers/1905_meade-a-plain-girl.txt\n",
      "2 ../assets/Corpus/female-writers/1890_meade-the-honorable-miss-a-story-of.an-old-fashioned-town.txt\n",
      "3 ../assets/Corpus/female-writers/1856_yonge-the-daisy-chain-or-aspirations.txt\n",
      "4 ../assets/Corpus/female-writers/1876_molesworth-carrots-just-a-little-boy.txt\n",
      "5 ../assets/Corpus/female-writers/1912_nesbit-the-magic-world.txt\n",
      "6 ../assets/Corpus/female-writers/1883_ewing-marys-meadow-and-other-tales-of-fields-and-flowers.txt\n",
      "7 ../assets/Corpus/female-writers/1861_yonge-the-stokesley-secret.txt\n",
      "8 ../assets/Corpus/female-writers/1908_burnett-the-good-wolf.txt\n",
      "9 ../assets/Corpus/female-writers/1857_browne-grannys-wonderful-chair.txt\n",
      "10 ../assets/Corpus/female-writers/1898_meade-the-girls-of-st-wodes.txt\n",
      "11 ../assets/Corpus/female-writers/1910_meade-sue-a-little-heroine.txt\n",
      "12 ../assets/Corpus/female-writers/1900_meade-a-plucky-girl.txt\n",
      "13 ../assets/Corpus/female-writers/1888_burnett-sara-crewe.txt\n",
      "14 ../assets/Corpus/female-writers/1907_nesbit-the-enchanted-castle.txt\n",
      "15 ../assets/Corpus/female-writers/1905_nesbit-new-treasure-seekers-or-the-bastable-children-in-search-of-a-fortune.txt\n",
      "16 ../assets/Corpus/female-writers/1876_ewing-six-to-sixteen-a-story-for-girls.txt\n",
      "17 ../assets/Corpus/female-writers/1850_sherwood-the-young-lord-and-other-tales-to-which-is-added-victorine-durocher.txt\n",
      "18 ../assets/Corpus/female-writers/1889_tytler-a-house-full-of-girls.txt\n",
      "19 ../assets/Corpus/female-writers/1882_delaramee-bimbi.txt\n",
      "20 ../assets/Corpus/female-writers/1896_molesworth-philippa.txt\n",
      "21 ../assets/Corpus/female-writers/1894_everett_green-the-secret-chamber-at-chad.txt\n",
      "22 ../assets/Corpus/female-writers/1853_yonge-the-heir-of-redclyffe.txt\n",
      "23 ../assets/Corpus/female-writers/1894_everett_green-the-lost-treasure-of-trevlyn-a-story-of-the-days-of-the-gunpowder-plot.txt\n",
      "24 ../assets/Corpus/female-writers/1906_nesbit-the-story-of-the-amulet.txt\n",
      "25 ../assets/Corpus/female-writers/1897_meade-wild-kitty.txt\n",
      "26 ../assets/Corpus/female-writers/1877_molesworth-the-cuckoo-clock.txt\n",
      "27 ../assets/Corpus/female-writers/1890_molesworth-robin-redbreast-a-story-for-girls.txt\n",
      "28 ../assets/Corpus/female-writers/1907_meade-the-little-school-mothers.txt\n",
      "29 ../assets/Corpus/female-writers/1872_meade-scamp-and-i-a-story-of-city-by-ways.txt\n",
      "30 ../assets/Corpus/female-writers/1895_molesworth-the-carved-lions.txt\n",
      "31 ../assets/Corpus/female-writers/1863_tucker-the-crown-of-success.txt\n",
      "32 ../assets/Corpus/female-writers/1887_meade-the-palace-beautiful.txt\n",
      "33 ../assets/Corpus/female-writers/1879_coleridge-the-constant-prince.txt\n",
      "34 ../assets/Corpus/female-writers/1909_burnett-barty-crusoe-and-his-man-saturday.txt\n",
      "35 ../assets/Corpus/female-writers/1860_yonge-countess-kate.txt\n",
      "36 ../assets/Corpus/female-writers/1887_molesworth-silverthorns.txt\n",
      "37 ../assets/Corpus/female-writers/1868_stretton-little-megs-children.txt\n",
      "38 ../assets/Corpus/female-writers/1889_meade-polly-a-new-fashioned-girl.txt\n",
      "39 ../assets/Corpus/female-writers/1886_meade-a-world-of-girls.txt\n",
      "40 ../assets/Corpus/female-writers/1893_everett_green-in-the-days-of-chivalry-a-tale-of-the-times-of-the-black-prince.txt\n",
      "41 ../assets/Corpus/female-writers/1890_molesworth-the-children-of-the-castle.txt\n",
      "42 ../assets/Corpus/female-writers/1901_everett_green-in-the-wars-of-the-roses-a-story-for-the-young.txt\n",
      "43 ../assets/Corpus/female-writers/1835_sherwood-shanty-the-blacksmith-a-tale-of-other-times.txt\n",
      "44 ../assets/Corpus/female-writers/1869_ewing-the-land-of-lost-toys.txt\n",
      "45 ../assets/Corpus/female-writers/1877_sewell-black-beauty.txt\n",
      "46 ../assets/Corpus/female-writers/1857_tucker-the-rambles-of-a-rat.txt\n",
      "47 ../assets/Corpus/female-writers/1897_molesworth-hoodie.txt\n",
      "48 ../assets/Corpus/female-writers/1855_yonge-the-lances-of-lynwood.txt\n",
      "49 ../assets/Corpus/female-writers/1907_meade-three-girls-from-school.txt\n",
      "50 ../assets/Corpus/female-writers/1898_meade-a-bunch-of-cherries-a-story-of-cherry-court-school.txt\n",
      "51 ../assets/Corpus/female-writers/1902_potter-the-tale-of-peter-rabbit.txt\n",
      "52 ../assets/Corpus/female-writers/1902_molesworth-peterkin.txt\n",
      "53 ../assets/Corpus/female-writers/1879_molesworth-the-tapestry-room-a-childs-romance.txt\n",
      "54 ../assets/Corpus/female-writers/1841_martineau-the-settlers-at-home.txt\n",
      "55 ../assets/Corpus/female-writers/1899_nesbit-the-story-of-the-treasure-seekers.txt\n",
      "56 ../assets/Corpus/female-writers/1875_molesworth-tell-me-a-story.txt\n",
      "57 ../assets/Corpus/female-writers/1883_molesworth-two-little-waifs.txt\n",
      "58 ../assets/Corpus/female-writers/1886_molesworth-christmas-tree-land.txt\n",
      "59 ../assets/Corpus/female-writers/1886_delaramee-a-houseparty.txt\n",
      "60 ../assets/Corpus/female-writers/1892_molesworth-the-girls-and-i-a-veracious-history.txt\n",
      "61 ../assets/Corpus/female-writers/1909_potter-the-tale-of-ginger-and-pickles.txt\n",
      "62 ../assets/Corpus/female-writers/1904_burnett-in-the-closed-room.txt\n",
      "63 ../assets/Corpus/female-writers/1903_potter-the-tailor-of-gloucester.txt\n",
      "64 ../assets/Corpus/female-writers/1890_coleridge-maud-florence-nellie.txt\n",
      "65 ../assets/Corpus/female-writers/1904_potter_the-tale-of-two-bad-mice.txt\n",
      "66 ../assets/Corpus/female-writers/1910_meade-betty-vivian-a-story-of-haddo-court-school.txt\n",
      "67 ../assets/Corpus/female-writers/1904_everett_green-the-sign-of-the-red-cross-a-tale-of-old-london.txt\n",
      "68 ../assets/Corpus/female-writers/1888_molesworth-a-christmas-posy.txt\n",
      "69 ../assets/Corpus/female-writers/1887_leslie-kates-ordeal.txt\n",
      "70 ../assets/Corpus/female-writers/1891_meade-a-sweet-girl-graduate.txt\n",
      "71 ../assets/Corpus/female-writers/1886_molesworth-us-an-old-fashioned-story.txt\n",
      "72 ../assets/Corpus/female-writers/1901_molesworth-the-wood-pigeons-and-mary.txt\n",
      "73 ../assets/Corpus/female-writers/1880_molesworth-a-christmas-child-a-sketch-of-a-boy-life.txt\n",
      "74 ../assets/Corpus/female-writers/1906_everett_green-fallen-fortunes.txt\n",
      "75 ../assets/Corpus/female-writers/1894_molesworth-my-new-home.txt\n",
      "76 ../assets/Corpus/female-writers/1900_everett_green-esthers-charge-a-story-for-girls.txt\n",
      "77 ../assets/Corpus/female-writers/1869_ewing-mrs-overtheways-remembrances.txt\n",
      "78 ../assets/Corpus/female-writers/1910_potter-the-tale-pf-mrs-tittlemouse.txt\n",
      "79 ../assets/Corpus/female-writers/1877_ewing-a-great-emergency-and-other-tales.txt\n",
      "80 ../assets/Corpus/female-writers/1892_everett_green-the-lord-of-dynevor-a-tale-of-the-times-of-edward-the-first.txt\n",
      "81 ../assets/Corpus/female-writers/1877_meade-davids-little-lad.txt\n",
      "82 ../assets/Corpus/female-writers/1882_ewing-brothers-of-pity-and-other-tales-of-beasts-and-men.txt\n",
      "83 ../assets/Corpus/female-writers/1901_nesbit-the-book-of-dragons.txt\n",
      "84 ../assets/Corpus/female-writers/1888_meade-the-little-princess-of-towerhill.txt\n",
      "85 ../assets/Corpus/female-writers/1907_burnett-the-cozy-lion.txt\n",
      "86 ../assets/Corpus/female-writers/1905_potter-the-tale-of-mrs-riggy-winkle.txt\n",
      "87 ../assets/Corpus/female-writers/1899_everett_green-french-and.english-a-story-of-the-struggle-in-america.txt\n",
      "88 ../assets/Corpus/female-writers/1862_ewing-melchiors-dream-and-other-tales.txt\n",
      "89 ../assets/Corpus/female-writers/1905_meade-a-bevy-of-girls.txt\n",
      "90 ../assets/Corpus/female-writers/1882_meade-a-london-baby-the-story-of-king-roy.txt\n",
      "91 ../assets/Corpus/female-writers/1906_meade-turquoise-and-ruby.txt\n",
      "92 ../assets/Corpus/female-writers/1880_burnett-louisiana.txt\n",
      "93 ../assets/Corpus/female-writers/1908_potter-the-tale-of-jemina-puddle-duck.txt\n",
      "94 ../assets/Corpus/female-writers/1901_meade-a-very-naughty-girl.txt\n",
      "95 ../assets/Corpus/female-writers/1910_meade-the-school-queens.txt\n",
      "96 ../assets/Corpus/female-writers/1895_meade-girls-new-and-old.txt\n",
      "97 ../assets/Corpus/female-writers/1866_yonge-the-prince-and-the-page-a-story-of-the-last-crusade.txt\n",
      "98 ../assets/Corpus/female-writers/1858_tucker-flora.txt\n",
      "99 ../assets/Corpus/female-writers/1876_ewing-jan-of-the-windmill.txt\n",
      "100 ../assets/Corpus/female-writers/1875_craik-the-little-lame-prince-and-his-traveling-cloack.txt\n",
      "101 ../assets/Corpus/female-writers/1860_yonge-the-pigeon-pie.txt\n",
      "102 ../assets/Corpus/female-writers/1899_nesbit-pussy-and-doggy-tales.txt\n",
      "103 ../assets/Corpus/female-writers/1902_meade-girls-of.the-forest.txt\n",
      "104 ../assets/Corpus/female-writers/1886_leslie-a-sailors-lass.txt\n",
      "105 ../assets/Corpus/female-writers/1911_nesbit-the-wonderful-garden-oir-the-three-cs.txt\n",
      "106 ../assets/Corpus/female-writers/1912_potter-the-tale-of-mr-tod.txt\n",
      "107 ../assets/Corpus/female-writers/1897_molesworth-miss-mouse-and-her-boys.txt\n",
      "108 ../assets/Corpus/female-writers/1906_molesworth-jasper.txt\n",
      "109 ../assets/Corpus/female-writers/1888_burnett-little-saint-elizabeth-and-other-tales.txt\n",
      "110 ../assets/Corpus/female-writers/1904_nesbit-the-phoenix-and-the-carpet.txt\n",
      "111 ../assets/Corpus/female-writers/1873_ewing-a-flat-iron-for-a-farthing.txt\n",
      "112 ../assets/Corpus/female-writers/1904_potter-the-tale-of-benjamin-bunny.txt\n",
      "113 ../assets/Corpus/female-writers/1870_ewing-the-brownies-and-other-tales.txt\n",
      "114 ../assets/Corpus/female-writers/1902_everett_green-for-the-faith-a-story-of-the-young-pioneers-of-reformation-in-oxford.txt\n",
      "115 ../assets/Corpus/female-writers/1883_meade-the-childrens-pilgrimage.txt\n",
      "116 ../assets/Corpus/female-writers/1905_potter-the-tale-of-the-pie-and-the-the-patty-pan.txt\n",
      "117 ../assets/Corpus/female-writers/1887_peard-prentice-hugh.txt\n",
      "118 ../assets/Corpus/female-writers/1898_everett_green-tom-tuftons-travels.txt\n",
      "119 ../assets/Corpus/female-writers/1854_yonge-the-little-duke-richard-the-fearless.txt\n",
      "120 ../assets/Corpus/female-writers/1901_nesbit-the-wouldbegoods.txt\n",
      "121 ../assets/Corpus/female-writers/1884_molesworth-the-little-old-portrait.txt\n",
      "122 ../assets/Corpus/female-writers/1904_meade-a-modern-tomboy-a-story-for-girls.txt\n",
      "123 ../assets/Corpus/female-writers/1913_nesbit-wet-magic.txt\n",
      "124 ../assets/Corpus/female-writers/1886_hodgson-burnett-little-lord-fauntleroy.txt\n",
      "125 ../assets/Corpus/female-writers/1911_burnett-the-secret-garden.txt\n",
      "126 ../assets/Corpus/female-writers/1895_ewing-the-peace-egg-and-other-tales.txt\n",
      "127 ../assets/Corpus/female-writers/1898_everett_green-a-clerk-of-oxford-and-his-adventures-in-the-barons-war.txt\n",
      "128 ../assets/Corpus/female-writers/1896_meade-a-little-mother-to-the-others.txt\n",
      "129 ../assets/Corpus/female-writers/1891_molesworth-nurse-heatherdales-story.txt\n",
      "130 ../assets/Corpus/female-writers/1903_potter-the-tale-of-squirrel-nutkin.txt\n",
      "131 ../assets/Corpus/female-writers/1869_stretton-alone-in-london.txt\n",
      "132 ../assets/Corpus/female-writers/1908_potter-the-tale-of-samuel-whiskers-the-roly-poly-pudding.txt\n",
      "133 ../assets/Corpus/female-writers/1909_potter-the-tale-of-the-flopsy-bunnies.txt\n",
      "134 ../assets/Corpus/female-writers/1872_de_la_ramee-a-dog-of-flanders.txt\n",
      "135 ../assets/Corpus/female-writers/1879_ewing-jackanapes-daddy-darwins-dovecot-and-other-stories.txt\n",
      "136 ../assets/Corpus/female-writers/1906_everett_green-a-heroine-of-france-the-story-of-joan-of-arc.txt\n",
      "137 ../assets/Corpus/female-writers/1880_meade-mou-sete-a-negro-hero.txt\n",
      "138 ../assets/Corpus/female-writers/1899_meade-light-o-the-morning.txt\n",
      "139 ../assets/Corpus/female-writers/1906_burnett-racketty-packetty-house.txt\n",
      "140 ../assets/Corpus/female-writers/1892_meade-the-lady-of-the-forest-a-story-for-girls.txt\n",
      "141 ../assets/Corpus/female-writers/1893_molesworth-blanche-a-story-for-girls.txt\n",
      "142 ../assets/Corpus/female-writers/1878_molesworth-grandmother-dear-a-book-for-boys-and-girls.txt\n",
      "143 ../assets/Corpus/female-writers/1889_molesworth-the-rectory-children.txt\n",
      "144 ../assets/Corpus/female-writers/1888_ewing-snap-dragons-old-father-christmas.txt\n",
      "145 ../assets/Corpus/female-writers/1900_molesworth-the-house-that-grew.txt\n",
      "146 ../assets/Corpus/female-writers/1895_burnett-two-little-pilgrims-process-a-story-of-the-city-beautiful.txt\n",
      "147 ../assets/Corpus/female-writers/1871_yonge-little-lucys-wonderful-globe.txt\n",
      "148 ../assets/Corpus/female-writers/1875_tucker-the-childrens-tabernacle-or-hand-work-and-heart-work.txt\n",
      "149 ../assets/Corpus/female-writers/1839_sinclair-holiday-house-a-series-of-tales.txt\n",
      "150 ../assets/Corpus/female-writers/1867_stretton-jessicas-first-prayer-and-jessicas-mother.txt\n",
      "151 ../assets/Corpus/female-writers/1901_meade-girls-of-the-true-blue.txt\n",
      "152 ../assets/Corpus/female-writers/1894_meade-red-rose-and-tiger-lily-or-in-a-wider-world.txt\n",
      "153 ../assets/Corpus/female-writers/1851_hall-turns-of-fortune-and.other-tales.txt\n",
      "154 ../assets/Corpus/female-writers/1872_craik-the-adventure-of-a-brownie.txt\n",
      "155 ../assets/Corpus/female-writers/1888_molesworth-the-third-miss-st-quentin.txt\n",
      "156 ../assets/Corpus/female-writers/1911_potter-the-tale-of-timmy-tiptoes.txt\n"
     ]
    }
   ],
   "source": [
    "directory_paths = [\"../assets/Corpus/female-writers\"]#path to female or male writers\n",
    "file_paths = []\n",
    "\n",
    "for path in directory_paths:\n",
    "    for root, directories, files in os.walk(path):\n",
    "        for filename in files:\n",
    "            # Join the two strings in order to form the full filepath.\n",
    "            filepath = os.path.join(root, filename)\n",
    "            file_paths.append(filepath)\n",
    "\n",
    "for idx, filepath in enumerate(file_paths):\n",
    "    print(idx, filepath)"
   ]
  },
  {
   "cell_type": "code",
   "execution_count": 3,
   "metadata": {},
   "outputs": [
    {
     "name": "stderr",
     "output_type": "stream",
     "text": [
      "  0%|          | 0/157 [00:00<?, ?it/s]"
     ]
    },
    {
     "name": "stdout",
     "output_type": "stream",
     "text": [
      "Loaded dictionary from /Library/Frameworks/Python.framework/Versions/3.10/lib/python3.10/site-packages/genderComputer-0.1-py3.10.egg/genderComputer/../nameLists/gender.dict\n",
      "Finished initialization\n"
     ]
    },
    {
     "name": "stderr",
     "output_type": "stream",
     "text": [
      "  1%|          | 1/157 [00:04<12:42,  4.89s/it]"
     ]
    },
    {
     "name": "stdout",
     "output_type": "stream",
     "text": [
      "Loaded dictionary from /Library/Frameworks/Python.framework/Versions/3.10/lib/python3.10/site-packages/genderComputer-0.1-py3.10.egg/genderComputer/../nameLists/gender.dict\n",
      "Finished initialization\n"
     ]
    },
    {
     "name": "stderr",
     "output_type": "stream",
     "text": [
      "  1%|▏         | 2/157 [00:47<1:09:44, 27.00s/it]"
     ]
    },
    {
     "name": "stdout",
     "output_type": "stream",
     "text": [
      "Loaded dictionary from /Library/Frameworks/Python.framework/Versions/3.10/lib/python3.10/site-packages/genderComputer-0.1-py3.10.egg/genderComputer/../nameLists/gender.dict\n",
      "Finished initialization\n"
     ]
    },
    {
     "name": "stderr",
     "output_type": "stream",
     "text": [
      "  2%|▏         | 3/157 [01:27<1:24:34, 32.95s/it]"
     ]
    },
    {
     "name": "stdout",
     "output_type": "stream",
     "text": [
      "Loaded dictionary from /Library/Frameworks/Python.framework/Versions/3.10/lib/python3.10/site-packages/genderComputer-0.1-py3.10.egg/genderComputer/../nameLists/gender.dict\n",
      "Finished initialization\n"
     ]
    },
    {
     "name": "stderr",
     "output_type": "stream",
     "text": [
      "  3%|▎         | 4/157 [03:52<3:17:03, 77.27s/it]"
     ]
    },
    {
     "name": "stdout",
     "output_type": "stream",
     "text": [
      "Loaded dictionary from /Library/Frameworks/Python.framework/Versions/3.10/lib/python3.10/site-packages/genderComputer-0.1-py3.10.egg/genderComputer/../nameLists/gender.dict\n",
      "Finished initialization\n"
     ]
    },
    {
     "name": "stderr",
     "output_type": "stream",
     "text": [
      "  3%|▎         | 5/157 [03:57<2:10:02, 51.33s/it]"
     ]
    },
    {
     "name": "stdout",
     "output_type": "stream",
     "text": [
      "Loaded dictionary from /Library/Frameworks/Python.framework/Versions/3.10/lib/python3.10/site-packages/genderComputer-0.1-py3.10.egg/genderComputer/../nameLists/gender.dict\n",
      "Finished initialization\n"
     ]
    },
    {
     "name": "stderr",
     "output_type": "stream",
     "text": [
      "  4%|▍         | 6/157 [04:02<1:29:25, 35.53s/it]"
     ]
    },
    {
     "name": "stdout",
     "output_type": "stream",
     "text": [
      "Loaded dictionary from /Library/Frameworks/Python.framework/Versions/3.10/lib/python3.10/site-packages/genderComputer-0.1-py3.10.egg/genderComputer/../nameLists/gender.dict\n",
      "Finished initialization\n"
     ]
    },
    {
     "name": "stderr",
     "output_type": "stream",
     "text": [
      "  4%|▍         | 7/157 [04:26<1:19:27, 31.78s/it]"
     ]
    },
    {
     "name": "stdout",
     "output_type": "stream",
     "text": [
      "Loaded dictionary from /Library/Frameworks/Python.framework/Versions/3.10/lib/python3.10/site-packages/genderComputer-0.1-py3.10.egg/genderComputer/../nameLists/gender.dict\n",
      "Finished initialization\n"
     ]
    },
    {
     "name": "stderr",
     "output_type": "stream",
     "text": [
      "  5%|▌         | 8/157 [04:52<1:14:12, 29.88s/it]"
     ]
    },
    {
     "name": "stdout",
     "output_type": "stream",
     "text": [
      "Loaded dictionary from /Library/Frameworks/Python.framework/Versions/3.10/lib/python3.10/site-packages/genderComputer-0.1-py3.10.egg/genderComputer/../nameLists/gender.dict\n",
      "Finished initialization\n"
     ]
    },
    {
     "name": "stderr",
     "output_type": "stream",
     "text": [
      "  6%|▌         | 9/157 [04:57<54:24, 22.06s/it]  "
     ]
    },
    {
     "name": "stdout",
     "output_type": "stream",
     "text": [
      "Loaded dictionary from /Library/Frameworks/Python.framework/Versions/3.10/lib/python3.10/site-packages/genderComputer-0.1-py3.10.egg/genderComputer/../nameLists/gender.dict\n",
      "Finished initialization\n"
     ]
    },
    {
     "name": "stderr",
     "output_type": "stream",
     "text": [
      "  6%|▋         | 10/157 [05:09<46:32, 19.00s/it]"
     ]
    },
    {
     "name": "stdout",
     "output_type": "stream",
     "text": [
      "Loaded dictionary from /Library/Frameworks/Python.framework/Versions/3.10/lib/python3.10/site-packages/genderComputer-0.1-py3.10.egg/genderComputer/../nameLists/gender.dict\n",
      "Finished initialization\n"
     ]
    },
    {
     "name": "stderr",
     "output_type": "stream",
     "text": [
      "  7%|▋         | 11/157 [05:46<59:47, 24.57s/it]"
     ]
    },
    {
     "name": "stdout",
     "output_type": "stream",
     "text": [
      "Loaded dictionary from /Library/Frameworks/Python.framework/Versions/3.10/lib/python3.10/site-packages/genderComputer-0.1-py3.10.egg/genderComputer/../nameLists/gender.dict\n",
      "Finished initialization\n"
     ]
    },
    {
     "name": "stderr",
     "output_type": "stream",
     "text": [
      "  8%|▊         | 12/157 [06:19<1:05:05, 26.93s/it]"
     ]
    },
    {
     "name": "stdout",
     "output_type": "stream",
     "text": [
      "Loaded dictionary from /Library/Frameworks/Python.framework/Versions/3.10/lib/python3.10/site-packages/genderComputer-0.1-py3.10.egg/genderComputer/../nameLists/gender.dict\n",
      "Finished initialization\n"
     ]
    },
    {
     "name": "stderr",
     "output_type": "stream",
     "text": [
      "  8%|▊         | 13/157 [06:57<1:13:05, 30.46s/it]"
     ]
    },
    {
     "name": "stdout",
     "output_type": "stream",
     "text": [
      "Loaded dictionary from /Library/Frameworks/Python.framework/Versions/3.10/lib/python3.10/site-packages/genderComputer-0.1-py3.10.egg/genderComputer/../nameLists/gender.dict\n",
      "Finished initialization\n"
     ]
    },
    {
     "name": "stderr",
     "output_type": "stream",
     "text": [
      "  9%|▉         | 14/157 [07:06<56:43, 23.80s/it]  "
     ]
    },
    {
     "name": "stdout",
     "output_type": "stream",
     "text": [
      "Loaded dictionary from /Library/Frameworks/Python.framework/Versions/3.10/lib/python3.10/site-packages/genderComputer-0.1-py3.10.egg/genderComputer/../nameLists/gender.dict\n",
      "Finished initialization\n"
     ]
    },
    {
     "name": "stderr",
     "output_type": "stream",
     "text": [
      " 10%|▉         | 15/157 [07:39<1:03:16, 26.73s/it]"
     ]
    },
    {
     "name": "stdout",
     "output_type": "stream",
     "text": [
      "Loaded dictionary from /Library/Frameworks/Python.framework/Versions/3.10/lib/python3.10/site-packages/genderComputer-0.1-py3.10.egg/genderComputer/../nameLists/gender.dict\n",
      "Finished initialization\n"
     ]
    },
    {
     "name": "stderr",
     "output_type": "stream",
     "text": [
      " 10%|█         | 16/157 [07:45<47:55, 20.39s/it]  "
     ]
    },
    {
     "name": "stdout",
     "output_type": "stream",
     "text": [
      "Loaded dictionary from /Library/Frameworks/Python.framework/Versions/3.10/lib/python3.10/site-packages/genderComputer-0.1-py3.10.egg/genderComputer/../nameLists/gender.dict\n",
      "Finished initialization\n"
     ]
    },
    {
     "name": "stderr",
     "output_type": "stream",
     "text": [
      " 11%|█         | 17/157 [08:11<51:55, 22.25s/it]"
     ]
    },
    {
     "name": "stdout",
     "output_type": "stream",
     "text": [
      "Loaded dictionary from /Library/Frameworks/Python.framework/Versions/3.10/lib/python3.10/site-packages/genderComputer-0.1-py3.10.egg/genderComputer/../nameLists/gender.dict\n",
      "Finished initialization\n"
     ]
    },
    {
     "name": "stderr",
     "output_type": "stream",
     "text": [
      " 11%|█▏        | 18/157 [08:23<44:08, 19.06s/it]"
     ]
    },
    {
     "name": "stdout",
     "output_type": "stream",
     "text": [
      "Loaded dictionary from /Library/Frameworks/Python.framework/Versions/3.10/lib/python3.10/site-packages/genderComputer-0.1-py3.10.egg/genderComputer/../nameLists/gender.dict\n",
      "Finished initialization\n"
     ]
    },
    {
     "name": "stderr",
     "output_type": "stream",
     "text": [
      " 12%|█▏        | 19/157 [09:01<56:47, 24.69s/it]"
     ]
    },
    {
     "name": "stdout",
     "output_type": "stream",
     "text": [
      "Loaded dictionary from /Library/Frameworks/Python.framework/Versions/3.10/lib/python3.10/site-packages/genderComputer-0.1-py3.10.egg/genderComputer/../nameLists/gender.dict\n",
      "Finished initialization\n"
     ]
    },
    {
     "name": "stderr",
     "output_type": "stream",
     "text": [
      " 13%|█▎        | 20/157 [09:32<1:00:47, 26.63s/it]"
     ]
    },
    {
     "name": "stdout",
     "output_type": "stream",
     "text": [
      "Loaded dictionary from /Library/Frameworks/Python.framework/Versions/3.10/lib/python3.10/site-packages/genderComputer-0.1-py3.10.egg/genderComputer/../nameLists/gender.dict\n",
      "Finished initialization\n"
     ]
    },
    {
     "name": "stderr",
     "output_type": "stream",
     "text": [
      " 13%|█▎        | 21/157 [09:39<47:10, 20.81s/it]  "
     ]
    },
    {
     "name": "stdout",
     "output_type": "stream",
     "text": [
      "Loaded dictionary from /Library/Frameworks/Python.framework/Versions/3.10/lib/python3.10/site-packages/genderComputer-0.1-py3.10.egg/genderComputer/../nameLists/gender.dict\n",
      "Finished initialization\n"
     ]
    },
    {
     "name": "stderr",
     "output_type": "stream",
     "text": [
      " 14%|█▍        | 22/157 [10:02<48:06, 21.38s/it]"
     ]
    },
    {
     "name": "stdout",
     "output_type": "stream",
     "text": [
      "Loaded dictionary from /Library/Frameworks/Python.framework/Versions/3.10/lib/python3.10/site-packages/genderComputer-0.1-py3.10.egg/genderComputer/../nameLists/gender.dict\n",
      "Finished initialization\n"
     ]
    },
    {
     "name": "stderr",
     "output_type": "stream",
     "text": [
      " 15%|█▍        | 23/157 [11:46<1:43:07, 46.17s/it]"
     ]
    },
    {
     "name": "stdout",
     "output_type": "stream",
     "text": [
      "Loaded dictionary from /Library/Frameworks/Python.framework/Versions/3.10/lib/python3.10/site-packages/genderComputer-0.1-py3.10.egg/genderComputer/../nameLists/gender.dict\n",
      "Finished initialization\n"
     ]
    },
    {
     "name": "stderr",
     "output_type": "stream",
     "text": [
      " 15%|█▌        | 24/157 [12:48<1:52:40, 50.83s/it]"
     ]
    },
    {
     "name": "stdout",
     "output_type": "stream",
     "text": [
      "Loaded dictionary from /Library/Frameworks/Python.framework/Versions/3.10/lib/python3.10/site-packages/genderComputer-0.1-py3.10.egg/genderComputer/../nameLists/gender.dict\n",
      "Finished initialization\n"
     ]
    },
    {
     "name": "stderr",
     "output_type": "stream",
     "text": [
      " 16%|█▌        | 25/157 [13:16<1:36:45, 43.98s/it]"
     ]
    },
    {
     "name": "stdout",
     "output_type": "stream",
     "text": [
      "Loaded dictionary from /Library/Frameworks/Python.framework/Versions/3.10/lib/python3.10/site-packages/genderComputer-0.1-py3.10.egg/genderComputer/../nameLists/gender.dict\n",
      "Finished initialization\n"
     ]
    },
    {
     "name": "stderr",
     "output_type": "stream",
     "text": [
      " 17%|█▋        | 26/157 [13:53<1:31:49, 42.05s/it]"
     ]
    },
    {
     "name": "stdout",
     "output_type": "stream",
     "text": [
      "Loaded dictionary from /Library/Frameworks/Python.framework/Versions/3.10/lib/python3.10/site-packages/genderComputer-0.1-py3.10.egg/genderComputer/../nameLists/gender.dict\n",
      "Finished initialization\n"
     ]
    },
    {
     "name": "stderr",
     "output_type": "stream",
     "text": [
      " 17%|█▋        | 27/157 [13:58<1:07:03, 30.95s/it]"
     ]
    },
    {
     "name": "stdout",
     "output_type": "stream",
     "text": [
      "Loaded dictionary from /Library/Frameworks/Python.framework/Versions/3.10/lib/python3.10/site-packages/genderComputer-0.1-py3.10.egg/genderComputer/../nameLists/gender.dict\n",
      "Finished initialization\n"
     ]
    },
    {
     "name": "stderr",
     "output_type": "stream",
     "text": [
      " 18%|█▊        | 28/157 [14:15<57:38, 26.81s/it]  "
     ]
    },
    {
     "name": "stdout",
     "output_type": "stream",
     "text": [
      "Loaded dictionary from /Library/Frameworks/Python.framework/Versions/3.10/lib/python3.10/site-packages/genderComputer-0.1-py3.10.egg/genderComputer/../nameLists/gender.dict\n",
      "Finished initialization\n"
     ]
    },
    {
     "name": "stderr",
     "output_type": "stream",
     "text": [
      " 18%|█▊        | 29/157 [14:51<1:02:36, 29.35s/it]"
     ]
    },
    {
     "name": "stdout",
     "output_type": "stream",
     "text": [
      "Loaded dictionary from /Library/Frameworks/Python.framework/Versions/3.10/lib/python3.10/site-packages/genderComputer-0.1-py3.10.egg/genderComputer/../nameLists/gender.dict\n",
      "Finished initialization\n"
     ]
    },
    {
     "name": "stderr",
     "output_type": "stream",
     "text": [
      " 19%|█▉        | 30/157 [15:11<56:32, 26.71s/it]  "
     ]
    },
    {
     "name": "stdout",
     "output_type": "stream",
     "text": [
      "Loaded dictionary from /Library/Frameworks/Python.framework/Versions/3.10/lib/python3.10/site-packages/genderComputer-0.1-py3.10.egg/genderComputer/../nameLists/gender.dict\n",
      "Finished initialization\n"
     ]
    },
    {
     "name": "stderr",
     "output_type": "stream",
     "text": [
      " 20%|█▉        | 31/157 [15:21<45:29, 21.66s/it]"
     ]
    },
    {
     "name": "stdout",
     "output_type": "stream",
     "text": [
      "Loaded dictionary from /Library/Frameworks/Python.framework/Versions/3.10/lib/python3.10/site-packages/genderComputer-0.1-py3.10.egg/genderComputer/../nameLists/gender.dict\n",
      "Finished initialization\n"
     ]
    },
    {
     "name": "stderr",
     "output_type": "stream",
     "text": [
      " 20%|██        | 32/157 [15:33<38:40, 18.56s/it]"
     ]
    },
    {
     "name": "stdout",
     "output_type": "stream",
     "text": [
      "Loaded dictionary from /Library/Frameworks/Python.framework/Versions/3.10/lib/python3.10/site-packages/genderComputer-0.1-py3.10.egg/genderComputer/../nameLists/gender.dict\n",
      "Finished initialization\n"
     ]
    },
    {
     "name": "stderr",
     "output_type": "stream",
     "text": [
      " 21%|██        | 33/157 [16:01<44:44, 21.65s/it]"
     ]
    },
    {
     "name": "stdout",
     "output_type": "stream",
     "text": [
      "Loaded dictionary from /Library/Frameworks/Python.framework/Versions/3.10/lib/python3.10/site-packages/genderComputer-0.1-py3.10.egg/genderComputer/../nameLists/gender.dict\n",
      "Finished initialization\n"
     ]
    },
    {
     "name": "stderr",
     "output_type": "stream",
     "text": [
      " 22%|██▏       | 34/157 [16:25<45:51, 22.37s/it]"
     ]
    },
    {
     "name": "stdout",
     "output_type": "stream",
     "text": [
      "Loaded dictionary from /Library/Frameworks/Python.framework/Versions/3.10/lib/python3.10/site-packages/genderComputer-0.1-py3.10.egg/genderComputer/../nameLists/gender.dict\n"
     ]
    },
    {
     "name": "stderr",
     "output_type": "stream",
     "text": [
      " 22%|██▏       | 35/157 [16:27<32:58, 16.21s/it]"
     ]
    },
    {
     "name": "stdout",
     "output_type": "stream",
     "text": [
      "Finished initialization\n",
      "Loaded dictionary from /Library/Frameworks/Python.framework/Versions/3.10/lib/python3.10/site-packages/genderComputer-0.1-py3.10.egg/genderComputer/../nameLists/gender.dict\n",
      "Finished initialization\n"
     ]
    },
    {
     "name": "stderr",
     "output_type": "stream",
     "text": [
      " 23%|██▎       | 36/157 [16:52<37:44, 18.72s/it]"
     ]
    },
    {
     "name": "stdout",
     "output_type": "stream",
     "text": [
      "Loaded dictionary from /Library/Frameworks/Python.framework/Versions/3.10/lib/python3.10/site-packages/genderComputer-0.1-py3.10.egg/genderComputer/../nameLists/gender.dict\n",
      "Finished initialization\n"
     ]
    },
    {
     "name": "stderr",
     "output_type": "stream",
     "text": [
      " 24%|██▎       | 37/157 [17:17<41:14, 20.62s/it]"
     ]
    },
    {
     "name": "stdout",
     "output_type": "stream",
     "text": [
      "Loaded dictionary from /Library/Frameworks/Python.framework/Versions/3.10/lib/python3.10/site-packages/genderComputer-0.1-py3.10.egg/genderComputer/../nameLists/gender.dict\n"
     ]
    },
    {
     "name": "stderr",
     "output_type": "stream",
     "text": [
      " 24%|██▍       | 38/157 [17:24<32:43, 16.50s/it]"
     ]
    },
    {
     "name": "stdout",
     "output_type": "stream",
     "text": [
      "Finished initialization\n",
      "Loaded dictionary from /Library/Frameworks/Python.framework/Versions/3.10/lib/python3.10/site-packages/genderComputer-0.1-py3.10.egg/genderComputer/../nameLists/gender.dict\n",
      "Finished initialization\n"
     ]
    },
    {
     "name": "stderr",
     "output_type": "stream",
     "text": [
      " 25%|██▍       | 39/157 [17:59<43:43, 22.23s/it]"
     ]
    },
    {
     "name": "stdout",
     "output_type": "stream",
     "text": [
      "Loaded dictionary from /Library/Frameworks/Python.framework/Versions/3.10/lib/python3.10/site-packages/genderComputer-0.1-py3.10.egg/genderComputer/../nameLists/gender.dict\n",
      "Finished initialization\n"
     ]
    },
    {
     "name": "stderr",
     "output_type": "stream",
     "text": [
      " 25%|██▌       | 40/157 [18:34<50:33, 25.93s/it]"
     ]
    },
    {
     "name": "stdout",
     "output_type": "stream",
     "text": [
      "Loaded dictionary from /Library/Frameworks/Python.framework/Versions/3.10/lib/python3.10/site-packages/genderComputer-0.1-py3.10.egg/genderComputer/../nameLists/gender.dict\n",
      "Finished initialization\n"
     ]
    },
    {
     "name": "stderr",
     "output_type": "stream",
     "text": [
      " 26%|██▌       | 41/157 [19:39<1:12:40, 37.59s/it]"
     ]
    },
    {
     "name": "stdout",
     "output_type": "stream",
     "text": [
      "Loaded dictionary from /Library/Frameworks/Python.framework/Versions/3.10/lib/python3.10/site-packages/genderComputer-0.1-py3.10.egg/genderComputer/../nameLists/gender.dict\n"
     ]
    },
    {
     "name": "stderr",
     "output_type": "stream",
     "text": [
      " 27%|██▋       | 42/157 [19:54<59:24, 30.99s/it]  "
     ]
    },
    {
     "name": "stdout",
     "output_type": "stream",
     "text": [
      "Finished initialization\n",
      "Loaded dictionary from /Library/Frameworks/Python.framework/Versions/3.10/lib/python3.10/site-packages/genderComputer-0.1-py3.10.egg/genderComputer/../nameLists/gender.dict\n",
      "Finished initialization\n"
     ]
    },
    {
     "name": "stderr",
     "output_type": "stream",
     "text": [
      " 27%|██▋       | 43/157 [20:19<55:30, 29.22s/it]"
     ]
    },
    {
     "name": "stdout",
     "output_type": "stream",
     "text": [
      "Loaded dictionary from /Library/Frameworks/Python.framework/Versions/3.10/lib/python3.10/site-packages/genderComputer-0.1-py3.10.egg/genderComputer/../nameLists/gender.dict\n",
      "Finished initialization\n"
     ]
    },
    {
     "name": "stderr",
     "output_type": "stream",
     "text": [
      " 28%|██▊       | 44/157 [20:25<41:55, 22.26s/it]"
     ]
    },
    {
     "name": "stdout",
     "output_type": "stream",
     "text": [
      "Loaded dictionary from /Library/Frameworks/Python.framework/Versions/3.10/lib/python3.10/site-packages/genderComputer-0.1-py3.10.egg/genderComputer/../nameLists/gender.dict\n",
      "Finished initialization\n"
     ]
    },
    {
     "name": "stderr",
     "output_type": "stream",
     "text": [
      " 29%|██▊       | 45/157 [20:33<33:12, 17.79s/it]"
     ]
    },
    {
     "name": "stdout",
     "output_type": "stream",
     "text": [
      "Loaded dictionary from /Library/Frameworks/Python.framework/Versions/3.10/lib/python3.10/site-packages/genderComputer-0.1-py3.10.egg/genderComputer/../nameLists/gender.dict\n",
      "Finished initialization\n"
     ]
    },
    {
     "name": "stderr",
     "output_type": "stream",
     "text": [
      " 29%|██▉       | 46/157 [20:55<35:19, 19.09s/it]"
     ]
    },
    {
     "name": "stdout",
     "output_type": "stream",
     "text": [
      "Loaded dictionary from /Library/Frameworks/Python.framework/Versions/3.10/lib/python3.10/site-packages/genderComputer-0.1-py3.10.egg/genderComputer/../nameLists/gender.dict\n",
      "Finished initialization\n"
     ]
    },
    {
     "name": "stderr",
     "output_type": "stream",
     "text": [
      " 30%|██▉       | 47/157 [21:09<32:20, 17.64s/it]"
     ]
    },
    {
     "name": "stdout",
     "output_type": "stream",
     "text": [
      "Loaded dictionary from /Library/Frameworks/Python.framework/Versions/3.10/lib/python3.10/site-packages/genderComputer-0.1-py3.10.egg/genderComputer/../nameLists/gender.dict\n"
     ]
    },
    {
     "name": "stderr",
     "output_type": "stream",
     "text": [
      " 31%|███       | 48/157 [21:12<24:13, 13.33s/it]"
     ]
    },
    {
     "name": "stdout",
     "output_type": "stream",
     "text": [
      "Finished initialization\n",
      "Loaded dictionary from /Library/Frameworks/Python.framework/Versions/3.10/lib/python3.10/site-packages/genderComputer-0.1-py3.10.egg/genderComputer/../nameLists/gender.dict\n",
      "Finished initialization\n"
     ]
    },
    {
     "name": "stderr",
     "output_type": "stream",
     "text": [
      " 31%|███       | 49/157 [21:38<30:45, 17.09s/it]"
     ]
    },
    {
     "name": "stdout",
     "output_type": "stream",
     "text": [
      "Loaded dictionary from /Library/Frameworks/Python.framework/Versions/3.10/lib/python3.10/site-packages/genderComputer-0.1-py3.10.egg/genderComputer/../nameLists/gender.dict\n",
      "Finished initialization\n"
     ]
    },
    {
     "name": "stderr",
     "output_type": "stream",
     "text": [
      " 32%|███▏      | 50/157 [22:18<42:27, 23.80s/it]"
     ]
    },
    {
     "name": "stdout",
     "output_type": "stream",
     "text": [
      "Loaded dictionary from /Library/Frameworks/Python.framework/Versions/3.10/lib/python3.10/site-packages/genderComputer-0.1-py3.10.egg/genderComputer/../nameLists/gender.dict\n",
      "Finished initialization\n"
     ]
    },
    {
     "name": "stderr",
     "output_type": "stream",
     "text": [
      " 32%|███▏      | 51/157 [22:46<44:15, 25.05s/it]"
     ]
    },
    {
     "name": "stdout",
     "output_type": "stream",
     "text": [
      "Loaded dictionary from /Library/Frameworks/Python.framework/Versions/3.10/lib/python3.10/site-packages/genderComputer-0.1-py3.10.egg/genderComputer/../nameLists/gender.dict\n"
     ]
    },
    {
     "name": "stderr",
     "output_type": "stream",
     "text": [
      " 33%|███▎      | 52/157 [22:46<31:00, 17.72s/it]"
     ]
    },
    {
     "name": "stdout",
     "output_type": "stream",
     "text": [
      "Finished initialization\n",
      "Loaded dictionary from /Library/Frameworks/Python.framework/Versions/3.10/lib/python3.10/site-packages/genderComputer-0.1-py3.10.egg/genderComputer/../nameLists/gender.dict\n",
      "Finished initialization\n"
     ]
    },
    {
     "name": "stderr",
     "output_type": "stream",
     "text": [
      " 34%|███▍      | 53/157 [22:50<23:33, 13.59s/it]"
     ]
    },
    {
     "name": "stdout",
     "output_type": "stream",
     "text": [
      "Loaded dictionary from /Library/Frameworks/Python.framework/Versions/3.10/lib/python3.10/site-packages/genderComputer-0.1-py3.10.egg/genderComputer/../nameLists/gender.dict\n",
      "Finished initialization\n"
     ]
    },
    {
     "name": "stderr",
     "output_type": "stream",
     "text": [
      " 34%|███▍      | 54/157 [22:57<19:50, 11.56s/it]"
     ]
    },
    {
     "name": "stdout",
     "output_type": "stream",
     "text": [
      "Loaded dictionary from /Library/Frameworks/Python.framework/Versions/3.10/lib/python3.10/site-packages/genderComputer-0.1-py3.10.egg/genderComputer/../nameLists/gender.dict\n",
      "Finished initialization\n"
     ]
    },
    {
     "name": "stderr",
     "output_type": "stream",
     "text": [
      " 35%|███▌      | 55/157 [23:19<24:52, 14.63s/it]"
     ]
    },
    {
     "name": "stdout",
     "output_type": "stream",
     "text": [
      "Loaded dictionary from /Library/Frameworks/Python.framework/Versions/3.10/lib/python3.10/site-packages/genderComputer-0.1-py3.10.egg/genderComputer/../nameLists/gender.dict\n",
      "Finished initialization\n"
     ]
    },
    {
     "name": "stderr",
     "output_type": "stream",
     "text": [
      " 36%|███▌      | 56/157 [23:40<27:53, 16.57s/it]"
     ]
    },
    {
     "name": "stdout",
     "output_type": "stream",
     "text": [
      "Loaded dictionary from /Library/Frameworks/Python.framework/Versions/3.10/lib/python3.10/site-packages/genderComputer-0.1-py3.10.egg/genderComputer/../nameLists/gender.dict\n"
     ]
    },
    {
     "name": "stderr",
     "output_type": "stream",
     "text": [
      " 36%|███▋      | 57/157 [23:53<26:00, 15.60s/it]"
     ]
    },
    {
     "name": "stdout",
     "output_type": "stream",
     "text": [
      "Finished initialization\n",
      "Loaded dictionary from /Library/Frameworks/Python.framework/Versions/3.10/lib/python3.10/site-packages/genderComputer-0.1-py3.10.egg/genderComputer/../nameLists/gender.dict\n",
      "Finished initialization\n"
     ]
    },
    {
     "name": "stderr",
     "output_type": "stream",
     "text": [
      " 37%|███▋      | 58/157 [24:03<22:32, 13.66s/it]"
     ]
    },
    {
     "name": "stdout",
     "output_type": "stream",
     "text": [
      "Loaded dictionary from /Library/Frameworks/Python.framework/Versions/3.10/lib/python3.10/site-packages/genderComputer-0.1-py3.10.egg/genderComputer/../nameLists/gender.dict\n"
     ]
    },
    {
     "name": "stderr",
     "output_type": "stream",
     "text": [
      " 38%|███▊      | 59/157 [24:06<17:32, 10.74s/it]"
     ]
    },
    {
     "name": "stdout",
     "output_type": "stream",
     "text": [
      "Finished initialization\n",
      "Loaded dictionary from /Library/Frameworks/Python.framework/Versions/3.10/lib/python3.10/site-packages/genderComputer-0.1-py3.10.egg/genderComputer/../nameLists/gender.dict\n",
      "Finished initialization\n"
     ]
    },
    {
     "name": "stderr",
     "output_type": "stream",
     "text": [
      " 38%|███▊      | 60/157 [24:51<33:57, 21.00s/it]"
     ]
    },
    {
     "name": "stdout",
     "output_type": "stream",
     "text": [
      "Loaded dictionary from /Library/Frameworks/Python.framework/Versions/3.10/lib/python3.10/site-packages/genderComputer-0.1-py3.10.egg/genderComputer/../nameLists/gender.dict\n"
     ]
    },
    {
     "name": "stderr",
     "output_type": "stream",
     "text": [
      " 39%|███▉      | 61/157 [24:55<25:18, 15.82s/it]"
     ]
    },
    {
     "name": "stdout",
     "output_type": "stream",
     "text": [
      "Finished initialization\n",
      "Loaded dictionary from /Library/Frameworks/Python.framework/Versions/3.10/lib/python3.10/site-packages/genderComputer-0.1-py3.10.egg/genderComputer/../nameLists/gender.dict\n",
      "Finished initialization\n"
     ]
    },
    {
     "name": "stderr",
     "output_type": "stream",
     "text": [
      " 39%|███▉      | 62/157 [24:56<18:07, 11.45s/it]"
     ]
    },
    {
     "name": "stdout",
     "output_type": "stream",
     "text": [
      "Loaded dictionary from /Library/Frameworks/Python.framework/Versions/3.10/lib/python3.10/site-packages/genderComputer-0.1-py3.10.egg/genderComputer/../nameLists/gender.dict\n"
     ]
    },
    {
     "name": "stderr",
     "output_type": "stream",
     "text": [
      " 40%|████      | 63/157 [25:01<14:43,  9.40s/it]"
     ]
    },
    {
     "name": "stdout",
     "output_type": "stream",
     "text": [
      "Finished initialization\n",
      "Loaded dictionary from /Library/Frameworks/Python.framework/Versions/3.10/lib/python3.10/site-packages/genderComputer-0.1-py3.10.egg/genderComputer/../nameLists/gender.dict\n"
     ]
    },
    {
     "name": "stderr",
     "output_type": "stream",
     "text": [
      " 41%|████      | 64/157 [25:02<10:28,  6.76s/it]"
     ]
    },
    {
     "name": "stdout",
     "output_type": "stream",
     "text": [
      "Finished initialization\n",
      "Loaded dictionary from /Library/Frameworks/Python.framework/Versions/3.10/lib/python3.10/site-packages/genderComputer-0.1-py3.10.egg/genderComputer/../nameLists/gender.dict\n",
      "Finished initialization\n"
     ]
    },
    {
     "name": "stderr",
     "output_type": "stream",
     "text": [
      " 41%|████▏     | 65/157 [25:25<18:01, 11.76s/it]"
     ]
    },
    {
     "name": "stdout",
     "output_type": "stream",
     "text": [
      "Loaded dictionary from /Library/Frameworks/Python.framework/Versions/3.10/lib/python3.10/site-packages/genderComputer-0.1-py3.10.egg/genderComputer/../nameLists/gender.dict\n"
     ]
    },
    {
     "name": "stderr",
     "output_type": "stream",
     "text": [
      " 42%|████▏     | 66/157 [25:26<12:45,  8.41s/it]"
     ]
    },
    {
     "name": "stdout",
     "output_type": "stream",
     "text": [
      "Finished initialization\n",
      "Loaded dictionary from /Library/Frameworks/Python.framework/Versions/3.10/lib/python3.10/site-packages/genderComputer-0.1-py3.10.egg/genderComputer/../nameLists/gender.dict\n",
      "Finished initialization\n"
     ]
    },
    {
     "name": "stderr",
     "output_type": "stream",
     "text": [
      " 43%|████▎     | 67/157 [26:05<26:28, 17.65s/it]"
     ]
    },
    {
     "name": "stdout",
     "output_type": "stream",
     "text": [
      "Loaded dictionary from /Library/Frameworks/Python.framework/Versions/3.10/lib/python3.10/site-packages/genderComputer-0.1-py3.10.egg/genderComputer/../nameLists/gender.dict\n",
      "Finished initialization\n"
     ]
    },
    {
     "name": "stderr",
     "output_type": "stream",
     "text": [
      " 43%|████▎     | 68/157 [26:39<33:21, 22.49s/it]"
     ]
    },
    {
     "name": "stdout",
     "output_type": "stream",
     "text": [
      "Loaded dictionary from /Library/Frameworks/Python.framework/Versions/3.10/lib/python3.10/site-packages/genderComputer-0.1-py3.10.egg/genderComputer/../nameLists/gender.dict\n",
      "Finished initialization\n"
     ]
    },
    {
     "name": "stderr",
     "output_type": "stream",
     "text": [
      " 44%|████▍     | 69/157 [26:44<25:39, 17.50s/it]"
     ]
    },
    {
     "name": "stdout",
     "output_type": "stream",
     "text": [
      "Loaded dictionary from /Library/Frameworks/Python.framework/Versions/3.10/lib/python3.10/site-packages/genderComputer-0.1-py3.10.egg/genderComputer/../nameLists/gender.dict\n"
     ]
    },
    {
     "name": "stderr",
     "output_type": "stream",
     "text": [
      " 45%|████▍     | 70/157 [26:51<20:43, 14.29s/it]"
     ]
    },
    {
     "name": "stdout",
     "output_type": "stream",
     "text": [
      "Finished initialization\n",
      "Loaded dictionary from /Library/Frameworks/Python.framework/Versions/3.10/lib/python3.10/site-packages/genderComputer-0.1-py3.10.egg/genderComputer/../nameLists/gender.dict\n",
      "Finished initialization\n"
     ]
    },
    {
     "name": "stderr",
     "output_type": "stream",
     "text": [
      " 45%|████▌     | 71/157 [27:23<28:08, 19.64s/it]"
     ]
    },
    {
     "name": "stdout",
     "output_type": "stream",
     "text": [
      "Loaded dictionary from /Library/Frameworks/Python.framework/Versions/3.10/lib/python3.10/site-packages/genderComputer-0.1-py3.10.egg/genderComputer/../nameLists/gender.dict\n",
      "Finished initialization\n"
     ]
    },
    {
     "name": "stderr",
     "output_type": "stream",
     "text": [
      " 46%|████▌     | 72/157 [27:35<24:26, 17.25s/it]"
     ]
    },
    {
     "name": "stdout",
     "output_type": "stream",
     "text": [
      "Loaded dictionary from /Library/Frameworks/Python.framework/Versions/3.10/lib/python3.10/site-packages/genderComputer-0.1-py3.10.egg/genderComputer/../nameLists/gender.dict\n",
      "Finished initialization\n"
     ]
    },
    {
     "name": "stderr",
     "output_type": "stream",
     "text": [
      " 46%|████▋     | 73/157 [27:54<24:58, 17.84s/it]"
     ]
    },
    {
     "name": "stdout",
     "output_type": "stream",
     "text": [
      "Loaded dictionary from /Library/Frameworks/Python.framework/Versions/3.10/lib/python3.10/site-packages/genderComputer-0.1-py3.10.egg/genderComputer/../nameLists/gender.dict\n",
      "Finished initialization\n"
     ]
    },
    {
     "name": "stderr",
     "output_type": "stream",
     "text": [
      " 47%|████▋     | 74/157 [28:14<25:37, 18.52s/it]"
     ]
    },
    {
     "name": "stdout",
     "output_type": "stream",
     "text": [
      "Loaded dictionary from /Library/Frameworks/Python.framework/Versions/3.10/lib/python3.10/site-packages/genderComputer-0.1-py3.10.egg/genderComputer/../nameLists/gender.dict\n",
      "Finished initialization\n"
     ]
    },
    {
     "name": "stderr",
     "output_type": "stream",
     "text": [
      " 48%|████▊     | 75/157 [28:36<26:29, 19.38s/it]"
     ]
    },
    {
     "name": "stdout",
     "output_type": "stream",
     "text": [
      "Loaded dictionary from /Library/Frameworks/Python.framework/Versions/3.10/lib/python3.10/site-packages/genderComputer-0.1-py3.10.egg/genderComputer/../nameLists/gender.dict\n",
      "Finished initialization\n"
     ]
    },
    {
     "name": "stderr",
     "output_type": "stream",
     "text": [
      " 48%|████▊     | 76/157 [28:45<22:02, 16.32s/it]"
     ]
    },
    {
     "name": "stdout",
     "output_type": "stream",
     "text": [
      "Loaded dictionary from /Library/Frameworks/Python.framework/Versions/3.10/lib/python3.10/site-packages/genderComputer-0.1-py3.10.egg/genderComputer/../nameLists/gender.dict\n",
      "Finished initialization\n"
     ]
    },
    {
     "name": "stderr",
     "output_type": "stream",
     "text": [
      " 49%|████▉     | 77/157 [28:54<18:52, 14.16s/it]"
     ]
    },
    {
     "name": "stdout",
     "output_type": "stream",
     "text": [
      "Loaded dictionary from /Library/Frameworks/Python.framework/Versions/3.10/lib/python3.10/site-packages/genderComputer-0.1-py3.10.egg/genderComputer/../nameLists/gender.dict\n"
     ]
    },
    {
     "name": "stderr",
     "output_type": "stream",
     "text": [
      " 50%|████▉     | 78/157 [29:15<21:18, 16.18s/it]"
     ]
    },
    {
     "name": "stdout",
     "output_type": "stream",
     "text": [
      "Finished initialization\n",
      "Loaded dictionary from /Library/Frameworks/Python.framework/Versions/3.10/lib/python3.10/site-packages/genderComputer-0.1-py3.10.egg/genderComputer/../nameLists/gender.dict\n"
     ]
    },
    {
     "name": "stderr",
     "output_type": "stream",
     "text": [
      " 50%|█████     | 79/157 [29:15<14:56, 11.49s/it]"
     ]
    },
    {
     "name": "stdout",
     "output_type": "stream",
     "text": [
      "Finished initialization\n",
      "Loaded dictionary from /Library/Frameworks/Python.framework/Versions/3.10/lib/python3.10/site-packages/genderComputer-0.1-py3.10.egg/genderComputer/../nameLists/gender.dict\n",
      "Finished initialization\n"
     ]
    },
    {
     "name": "stderr",
     "output_type": "stream",
     "text": [
      " 51%|█████     | 80/157 [29:41<20:14, 15.77s/it]"
     ]
    },
    {
     "name": "stdout",
     "output_type": "stream",
     "text": [
      "Loaded dictionary from /Library/Frameworks/Python.framework/Versions/3.10/lib/python3.10/site-packages/genderComputer-0.1-py3.10.egg/genderComputer/../nameLists/gender.dict\n",
      "Finished initialization\n"
     ]
    },
    {
     "name": "stderr",
     "output_type": "stream",
     "text": [
      " 52%|█████▏    | 81/157 [30:08<24:07, 19.05s/it]"
     ]
    },
    {
     "name": "stdout",
     "output_type": "stream",
     "text": [
      "Loaded dictionary from /Library/Frameworks/Python.framework/Versions/3.10/lib/python3.10/site-packages/genderComputer-0.1-py3.10.egg/genderComputer/../nameLists/gender.dict\n",
      "Finished initialization\n"
     ]
    },
    {
     "name": "stderr",
     "output_type": "stream",
     "text": [
      " 52%|█████▏    | 82/157 [30:31<25:13, 20.18s/it]"
     ]
    },
    {
     "name": "stdout",
     "output_type": "stream",
     "text": [
      "Loaded dictionary from /Library/Frameworks/Python.framework/Versions/3.10/lib/python3.10/site-packages/genderComputer-0.1-py3.10.egg/genderComputer/../nameLists/gender.dict\n",
      "Finished initialization\n"
     ]
    },
    {
     "name": "stderr",
     "output_type": "stream",
     "text": [
      " 53%|█████▎    | 83/157 [30:43<21:49, 17.70s/it]"
     ]
    },
    {
     "name": "stdout",
     "output_type": "stream",
     "text": [
      "Loaded dictionary from /Library/Frameworks/Python.framework/Versions/3.10/lib/python3.10/site-packages/genderComputer-0.1-py3.10.egg/genderComputer/../nameLists/gender.dict\n"
     ]
    },
    {
     "name": "stderr",
     "output_type": "stream",
     "text": [
      " 54%|█████▎    | 84/157 [30:44<15:26, 12.69s/it]"
     ]
    },
    {
     "name": "stdout",
     "output_type": "stream",
     "text": [
      "Finished initialization\n",
      "Loaded dictionary from /Library/Frameworks/Python.framework/Versions/3.10/lib/python3.10/site-packages/genderComputer-0.1-py3.10.egg/genderComputer/../nameLists/gender.dict\n",
      "Finished initialization\n"
     ]
    },
    {
     "name": "stderr",
     "output_type": "stream",
     "text": [
      " 54%|█████▍    | 85/157 [30:54<14:20, 11.95s/it]"
     ]
    },
    {
     "name": "stdout",
     "output_type": "stream",
     "text": [
      "Loaded dictionary from /Library/Frameworks/Python.framework/Versions/3.10/lib/python3.10/site-packages/genderComputer-0.1-py3.10.egg/genderComputer/../nameLists/gender.dict\n",
      "Finished initialization\n"
     ]
    },
    {
     "name": "stderr",
     "output_type": "stream",
     "text": [
      " 55%|█████▍    | 86/157 [30:58<11:25,  9.66s/it]"
     ]
    },
    {
     "name": "stdout",
     "output_type": "stream",
     "text": [
      "Loaded dictionary from /Library/Frameworks/Python.framework/Versions/3.10/lib/python3.10/site-packages/genderComputer-0.1-py3.10.egg/genderComputer/../nameLists/gender.dict\n"
     ]
    },
    {
     "name": "stderr",
     "output_type": "stream",
     "text": [
      " 55%|█████▌    | 87/157 [30:59<08:14,  7.07s/it]"
     ]
    },
    {
     "name": "stdout",
     "output_type": "stream",
     "text": [
      "Finished initialization\n",
      "Loaded dictionary from /Library/Frameworks/Python.framework/Versions/3.10/lib/python3.10/site-packages/genderComputer-0.1-py3.10.egg/genderComputer/../nameLists/gender.dict\n",
      "Finished initialization\n"
     ]
    },
    {
     "name": "stderr",
     "output_type": "stream",
     "text": [
      " 56%|█████▌    | 88/157 [32:04<28:04, 24.42s/it]"
     ]
    },
    {
     "name": "stdout",
     "output_type": "stream",
     "text": [
      "Loaded dictionary from /Library/Frameworks/Python.framework/Versions/3.10/lib/python3.10/site-packages/genderComputer-0.1-py3.10.egg/genderComputer/../nameLists/gender.dict\n",
      "Finished initialization\n"
     ]
    },
    {
     "name": "stderr",
     "output_type": "stream",
     "text": [
      " 57%|█████▋    | 89/157 [32:28<27:27, 24.23s/it]"
     ]
    },
    {
     "name": "stdout",
     "output_type": "stream",
     "text": [
      "Loaded dictionary from /Library/Frameworks/Python.framework/Versions/3.10/lib/python3.10/site-packages/genderComputer-0.1-py3.10.egg/genderComputer/../nameLists/gender.dict\n",
      "Finished initialization\n"
     ]
    },
    {
     "name": "stderr",
     "output_type": "stream",
     "text": [
      " 57%|█████▋    | 90/157 [33:05<31:21, 28.08s/it]"
     ]
    },
    {
     "name": "stdout",
     "output_type": "stream",
     "text": [
      "Loaded dictionary from /Library/Frameworks/Python.framework/Versions/3.10/lib/python3.10/site-packages/genderComputer-0.1-py3.10.egg/genderComputer/../nameLists/gender.dict\n",
      "Finished initialization\n"
     ]
    },
    {
     "name": "stderr",
     "output_type": "stream",
     "text": [
      " 58%|█████▊    | 91/157 [33:13<24:20, 22.13s/it]"
     ]
    },
    {
     "name": "stdout",
     "output_type": "stream",
     "text": [
      "Loaded dictionary from /Library/Frameworks/Python.framework/Versions/3.10/lib/python3.10/site-packages/genderComputer-0.1-py3.10.egg/genderComputer/../nameLists/gender.dict\n",
      "Finished initialization\n"
     ]
    },
    {
     "name": "stderr",
     "output_type": "stream",
     "text": [
      " 59%|█████▊    | 92/157 [33:47<27:46, 25.64s/it]"
     ]
    },
    {
     "name": "stdout",
     "output_type": "stream",
     "text": [
      "Loaded dictionary from /Library/Frameworks/Python.framework/Versions/3.10/lib/python3.10/site-packages/genderComputer-0.1-py3.10.egg/genderComputer/../nameLists/gender.dict\n",
      "Finished initialization\n"
     ]
    },
    {
     "name": "stderr",
     "output_type": "stream",
     "text": [
      " 59%|█████▉    | 93/157 [34:00<23:21, 21.90s/it]"
     ]
    },
    {
     "name": "stdout",
     "output_type": "stream",
     "text": [
      "Loaded dictionary from /Library/Frameworks/Python.framework/Versions/3.10/lib/python3.10/site-packages/genderComputer-0.1-py3.10.egg/genderComputer/../nameLists/gender.dict\n"
     ]
    },
    {
     "name": "stderr",
     "output_type": "stream",
     "text": [
      " 60%|█████▉    | 94/157 [34:01<16:15, 15.49s/it]"
     ]
    },
    {
     "name": "stdout",
     "output_type": "stream",
     "text": [
      "Finished initialization\n",
      "Loaded dictionary from /Library/Frameworks/Python.framework/Versions/3.10/lib/python3.10/site-packages/genderComputer-0.1-py3.10.egg/genderComputer/../nameLists/gender.dict\n",
      "Finished initialization\n"
     ]
    },
    {
     "name": "stderr",
     "output_type": "stream",
     "text": [
      " 61%|██████    | 95/157 [34:40<23:14, 22.49s/it]"
     ]
    },
    {
     "name": "stdout",
     "output_type": "stream",
     "text": [
      "Loaded dictionary from /Library/Frameworks/Python.framework/Versions/3.10/lib/python3.10/site-packages/genderComputer-0.1-py3.10.egg/genderComputer/../nameLists/gender.dict\n",
      "Finished initialization\n"
     ]
    },
    {
     "name": "stderr",
     "output_type": "stream",
     "text": [
      " 61%|██████    | 96/157 [35:15<26:57, 26.51s/it]"
     ]
    },
    {
     "name": "stdout",
     "output_type": "stream",
     "text": [
      "Loaded dictionary from /Library/Frameworks/Python.framework/Versions/3.10/lib/python3.10/site-packages/genderComputer-0.1-py3.10.egg/genderComputer/../nameLists/gender.dict\n",
      "Finished initialization\n"
     ]
    },
    {
     "name": "stderr",
     "output_type": "stream",
     "text": [
      " 62%|██████▏   | 97/157 [35:22<20:32, 20.54s/it]"
     ]
    },
    {
     "name": "stdout",
     "output_type": "stream",
     "text": [
      "Loaded dictionary from /Library/Frameworks/Python.framework/Versions/3.10/lib/python3.10/site-packages/genderComputer-0.1-py3.10.egg/genderComputer/../nameLists/gender.dict\n",
      "Finished initialization\n"
     ]
    },
    {
     "name": "stderr",
     "output_type": "stream",
     "text": [
      " 62%|██████▏   | 98/157 [35:48<21:54, 22.28s/it]"
     ]
    },
    {
     "name": "stdout",
     "output_type": "stream",
     "text": [
      "Loaded dictionary from /Library/Frameworks/Python.framework/Versions/3.10/lib/python3.10/site-packages/genderComputer-0.1-py3.10.egg/genderComputer/../nameLists/gender.dict\n",
      "Finished initialization\n"
     ]
    },
    {
     "name": "stderr",
     "output_type": "stream",
     "text": [
      " 63%|██████▎   | 99/157 [35:55<17:06, 17.70s/it]"
     ]
    },
    {
     "name": "stdout",
     "output_type": "stream",
     "text": [
      "Loaded dictionary from /Library/Frameworks/Python.framework/Versions/3.10/lib/python3.10/site-packages/genderComputer-0.1-py3.10.egg/genderComputer/../nameLists/gender.dict\n"
     ]
    },
    {
     "name": "stderr",
     "output_type": "stream",
     "text": [
      " 64%|██████▎   | 100/157 [36:00<12:56, 13.61s/it]"
     ]
    },
    {
     "name": "stdout",
     "output_type": "stream",
     "text": [
      "Finished initialization\n",
      "Loaded dictionary from /Library/Frameworks/Python.framework/Versions/3.10/lib/python3.10/site-packages/genderComputer-0.1-py3.10.egg/genderComputer/../nameLists/gender.dict\n"
     ]
    },
    {
     "name": "stderr",
     "output_type": "stream",
     "text": [
      " 64%|██████▍   | 101/157 [36:01<09:20, 10.01s/it]"
     ]
    },
    {
     "name": "stdout",
     "output_type": "stream",
     "text": [
      "Finished initialization\n",
      "Loaded dictionary from /Library/Frameworks/Python.framework/Versions/3.10/lib/python3.10/site-packages/genderComputer-0.1-py3.10.egg/genderComputer/../nameLists/gender.dict\n",
      "Finished initialization\n"
     ]
    },
    {
     "name": "stderr",
     "output_type": "stream",
     "text": [
      " 65%|██████▍   | 102/157 [36:12<09:24, 10.26s/it]"
     ]
    },
    {
     "name": "stdout",
     "output_type": "stream",
     "text": [
      "Loaded dictionary from /Library/Frameworks/Python.framework/Versions/3.10/lib/python3.10/site-packages/genderComputer-0.1-py3.10.egg/genderComputer/../nameLists/gender.dict\n",
      "Finished initialization\n"
     ]
    },
    {
     "name": "stderr",
     "output_type": "stream",
     "text": [
      " 66%|██████▌   | 103/157 [36:21<09:02, 10.04s/it]"
     ]
    },
    {
     "name": "stdout",
     "output_type": "stream",
     "text": [
      "Loaded dictionary from /Library/Frameworks/Python.framework/Versions/3.10/lib/python3.10/site-packages/genderComputer-0.1-py3.10.egg/genderComputer/../nameLists/gender.dict\n",
      "Finished initialization\n"
     ]
    },
    {
     "name": "stderr",
     "output_type": "stream",
     "text": [
      " 66%|██████▌   | 104/157 [37:01<16:37, 18.83s/it]"
     ]
    },
    {
     "name": "stdout",
     "output_type": "stream",
     "text": [
      "Loaded dictionary from /Library/Frameworks/Python.framework/Versions/3.10/lib/python3.10/site-packages/genderComputer-0.1-py3.10.egg/genderComputer/../nameLists/gender.dict\n",
      "Finished initialization\n"
     ]
    },
    {
     "name": "stderr",
     "output_type": "stream",
     "text": [
      " 67%|██████▋   | 105/157 [37:04<12:07, 13.99s/it]"
     ]
    },
    {
     "name": "stdout",
     "output_type": "stream",
     "text": [
      "Loaded dictionary from /Library/Frameworks/Python.framework/Versions/3.10/lib/python3.10/site-packages/genderComputer-0.1-py3.10.egg/genderComputer/../nameLists/gender.dict\n"
     ]
    },
    {
     "name": "stderr",
     "output_type": "stream",
     "text": [
      " 68%|██████▊   | 106/157 [37:07<09:12, 10.84s/it]"
     ]
    },
    {
     "name": "stdout",
     "output_type": "stream",
     "text": [
      "Finished initialization\n",
      "Loaded dictionary from /Library/Frameworks/Python.framework/Versions/3.10/lib/python3.10/site-packages/genderComputer-0.1-py3.10.egg/genderComputer/../nameLists/gender.dict\n"
     ]
    },
    {
     "name": "stderr",
     "output_type": "stream",
     "text": [
      " 68%|██████▊   | 107/157 [37:08<06:36,  7.94s/it]"
     ]
    },
    {
     "name": "stdout",
     "output_type": "stream",
     "text": [
      "Finished initialization\n",
      "Loaded dictionary from /Library/Frameworks/Python.framework/Versions/3.10/lib/python3.10/site-packages/genderComputer-0.1-py3.10.egg/genderComputer/../nameLists/gender.dict\n",
      "Finished initialization\n"
     ]
    },
    {
     "name": "stderr",
     "output_type": "stream",
     "text": [
      " 69%|██████▉   | 108/157 [37:13<05:45,  7.05s/it]"
     ]
    },
    {
     "name": "stdout",
     "output_type": "stream",
     "text": [
      "Loaded dictionary from /Library/Frameworks/Python.framework/Versions/3.10/lib/python3.10/site-packages/genderComputer-0.1-py3.10.egg/genderComputer/../nameLists/gender.dict\n",
      "Finished initialization\n"
     ]
    },
    {
     "name": "stderr",
     "output_type": "stream",
     "text": [
      " 69%|██████▉   | 109/157 [37:36<09:22, 11.73s/it]"
     ]
    },
    {
     "name": "stdout",
     "output_type": "stream",
     "text": [
      "Loaded dictionary from /Library/Frameworks/Python.framework/Versions/3.10/lib/python3.10/site-packages/genderComputer-0.1-py3.10.egg/genderComputer/../nameLists/gender.dict\n",
      "Finished initialization\n"
     ]
    },
    {
     "name": "stderr",
     "output_type": "stream",
     "text": [
      " 70%|███████   | 110/157 [37:38<06:54,  8.81s/it]"
     ]
    },
    {
     "name": "stdout",
     "output_type": "stream",
     "text": [
      "Loaded dictionary from /Library/Frameworks/Python.framework/Versions/3.10/lib/python3.10/site-packages/genderComputer-0.1-py3.10.egg/genderComputer/../nameLists/gender.dict\n",
      "Finished initialization\n"
     ]
    },
    {
     "name": "stderr",
     "output_type": "stream",
     "text": [
      " 71%|███████   | 111/157 [38:08<11:35, 15.12s/it]"
     ]
    },
    {
     "name": "stdout",
     "output_type": "stream",
     "text": [
      "Loaded dictionary from /Library/Frameworks/Python.framework/Versions/3.10/lib/python3.10/site-packages/genderComputer-0.1-py3.10.egg/genderComputer/../nameLists/gender.dict\n"
     ]
    },
    {
     "name": "stderr",
     "output_type": "stream",
     "text": [
      " 71%|███████▏  | 112/157 [38:10<08:34, 11.42s/it]"
     ]
    },
    {
     "name": "stdout",
     "output_type": "stream",
     "text": [
      "Finished initialization\n",
      "Loaded dictionary from /Library/Frameworks/Python.framework/Versions/3.10/lib/python3.10/site-packages/genderComputer-0.1-py3.10.egg/genderComputer/../nameLists/gender.dict\n"
     ]
    },
    {
     "name": "stderr",
     "output_type": "stream",
     "text": [
      " 72%|███████▏  | 113/157 [38:11<06:00,  8.19s/it]"
     ]
    },
    {
     "name": "stdout",
     "output_type": "stream",
     "text": [
      "Finished initialization\n",
      "Loaded dictionary from /Library/Frameworks/Python.framework/Versions/3.10/lib/python3.10/site-packages/genderComputer-0.1-py3.10.egg/genderComputer/../nameLists/gender.dict\n",
      "Finished initialization\n"
     ]
    },
    {
     "name": "stderr",
     "output_type": "stream",
     "text": [
      " 73%|███████▎  | 114/157 [38:32<08:30, 11.88s/it]"
     ]
    },
    {
     "name": "stdout",
     "output_type": "stream",
     "text": [
      "Loaded dictionary from /Library/Frameworks/Python.framework/Versions/3.10/lib/python3.10/site-packages/genderComputer-0.1-py3.10.egg/genderComputer/../nameLists/gender.dict\n",
      "Finished initialization\n"
     ]
    },
    {
     "name": "stderr",
     "output_type": "stream",
     "text": [
      " 73%|███████▎  | 115/157 [39:05<12:53, 18.43s/it]"
     ]
    },
    {
     "name": "stdout",
     "output_type": "stream",
     "text": [
      "Loaded dictionary from /Library/Frameworks/Python.framework/Versions/3.10/lib/python3.10/site-packages/genderComputer-0.1-py3.10.egg/genderComputer/../nameLists/gender.dict\n",
      "Finished initialization\n"
     ]
    },
    {
     "name": "stderr",
     "output_type": "stream",
     "text": [
      " 74%|███████▍  | 116/157 [39:41<16:03, 23.50s/it]"
     ]
    },
    {
     "name": "stdout",
     "output_type": "stream",
     "text": [
      "Loaded dictionary from /Library/Frameworks/Python.framework/Versions/3.10/lib/python3.10/site-packages/genderComputer-0.1-py3.10.egg/genderComputer/../nameLists/gender.dict\n"
     ]
    },
    {
     "name": "stderr",
     "output_type": "stream",
     "text": [
      " 75%|███████▍  | 117/157 [39:41<11:06, 16.65s/it]"
     ]
    },
    {
     "name": "stdout",
     "output_type": "stream",
     "text": [
      "Finished initialization\n",
      "Loaded dictionary from /Library/Frameworks/Python.framework/Versions/3.10/lib/python3.10/site-packages/genderComputer-0.1-py3.10.egg/genderComputer/../nameLists/gender.dict\n",
      "Finished initialization\n"
     ]
    },
    {
     "name": "stderr",
     "output_type": "stream",
     "text": [
      " 75%|███████▌  | 118/157 [40:11<13:18, 20.47s/it]"
     ]
    },
    {
     "name": "stdout",
     "output_type": "stream",
     "text": [
      "Loaded dictionary from /Library/Frameworks/Python.framework/Versions/3.10/lib/python3.10/site-packages/genderComputer-0.1-py3.10.egg/genderComputer/../nameLists/gender.dict\n",
      "Finished initialization\n"
     ]
    },
    {
     "name": "stderr",
     "output_type": "stream",
     "text": [
      " 76%|███████▌  | 119/157 [40:44<15:19, 24.19s/it]"
     ]
    },
    {
     "name": "stdout",
     "output_type": "stream",
     "text": [
      "Loaded dictionary from /Library/Frameworks/Python.framework/Versions/3.10/lib/python3.10/site-packages/genderComputer-0.1-py3.10.egg/genderComputer/../nameLists/gender.dict\n",
      "Finished initialization\n"
     ]
    },
    {
     "name": "stderr",
     "output_type": "stream",
     "text": [
      " 76%|███████▋  | 120/157 [40:51<11:44, 19.05s/it]"
     ]
    },
    {
     "name": "stdout",
     "output_type": "stream",
     "text": [
      "Loaded dictionary from /Library/Frameworks/Python.framework/Versions/3.10/lib/python3.10/site-packages/genderComputer-0.1-py3.10.egg/genderComputer/../nameLists/gender.dict\n",
      "Finished initialization\n"
     ]
    },
    {
     "name": "stderr",
     "output_type": "stream",
     "text": [
      " 77%|███████▋  | 121/157 [41:26<14:16, 23.80s/it]"
     ]
    },
    {
     "name": "stdout",
     "output_type": "stream",
     "text": [
      "Loaded dictionary from /Library/Frameworks/Python.framework/Versions/3.10/lib/python3.10/site-packages/genderComputer-0.1-py3.10.egg/genderComputer/../nameLists/gender.dict\n",
      "Finished initialization\n"
     ]
    },
    {
     "name": "stderr",
     "output_type": "stream",
     "text": [
      " 78%|███████▊  | 122/157 [41:46<13:14, 22.70s/it]"
     ]
    },
    {
     "name": "stdout",
     "output_type": "stream",
     "text": [
      "Loaded dictionary from /Library/Frameworks/Python.framework/Versions/3.10/lib/python3.10/site-packages/genderComputer-0.1-py3.10.egg/genderComputer/../nameLists/gender.dict\n",
      "Finished initialization\n"
     ]
    },
    {
     "name": "stderr",
     "output_type": "stream",
     "text": [
      " 78%|███████▊  | 123/157 [42:24<15:31, 27.40s/it]"
     ]
    },
    {
     "name": "stdout",
     "output_type": "stream",
     "text": [
      "Loaded dictionary from /Library/Frameworks/Python.framework/Versions/3.10/lib/python3.10/site-packages/genderComputer-0.1-py3.10.egg/genderComputer/../nameLists/gender.dict\n",
      "Finished initialization\n"
     ]
    },
    {
     "name": "stderr",
     "output_type": "stream",
     "text": [
      " 79%|███████▉  | 124/157 [42:34<12:15, 22.30s/it]"
     ]
    },
    {
     "name": "stdout",
     "output_type": "stream",
     "text": [
      "Loaded dictionary from /Library/Frameworks/Python.framework/Versions/3.10/lib/python3.10/site-packages/genderComputer-0.1-py3.10.egg/genderComputer/../nameLists/gender.dict\n",
      "Finished initialization\n"
     ]
    },
    {
     "name": "stderr",
     "output_type": "stream",
     "text": [
      " 80%|███████▉  | 125/157 [42:57<11:58, 22.45s/it]"
     ]
    },
    {
     "name": "stdout",
     "output_type": "stream",
     "text": [
      "Loaded dictionary from /Library/Frameworks/Python.framework/Versions/3.10/lib/python3.10/site-packages/genderComputer-0.1-py3.10.egg/genderComputer/../nameLists/gender.dict\n",
      "Finished initialization\n"
     ]
    },
    {
     "name": "stderr",
     "output_type": "stream",
     "text": [
      " 80%|████████  | 126/157 [43:31<13:20, 25.83s/it]"
     ]
    },
    {
     "name": "stdout",
     "output_type": "stream",
     "text": [
      "Loaded dictionary from /Library/Frameworks/Python.framework/Versions/3.10/lib/python3.10/site-packages/genderComputer-0.1-py3.10.egg/genderComputer/../nameLists/gender.dict\n",
      "Finished initialization\n"
     ]
    },
    {
     "name": "stderr",
     "output_type": "stream",
     "text": [
      " 81%|████████  | 127/157 [43:47<11:30, 23.02s/it]"
     ]
    },
    {
     "name": "stdout",
     "output_type": "stream",
     "text": [
      "Loaded dictionary from /Library/Frameworks/Python.framework/Versions/3.10/lib/python3.10/site-packages/genderComputer-0.1-py3.10.egg/genderComputer/../nameLists/gender.dict\n",
      "Finished initialization\n"
     ]
    },
    {
     "name": "stderr",
     "output_type": "stream",
     "text": [
      " 82%|████████▏ | 128/157 [44:04<10:14, 21.20s/it]"
     ]
    },
    {
     "name": "stdout",
     "output_type": "stream",
     "text": [
      "Loaded dictionary from /Library/Frameworks/Python.framework/Versions/3.10/lib/python3.10/site-packages/genderComputer-0.1-py3.10.egg/genderComputer/../nameLists/gender.dict\n",
      "Finished initialization\n"
     ]
    },
    {
     "name": "stderr",
     "output_type": "stream",
     "text": [
      " 82%|████████▏ | 129/157 [44:36<11:17, 24.20s/it]"
     ]
    },
    {
     "name": "stdout",
     "output_type": "stream",
     "text": [
      "Loaded dictionary from /Library/Frameworks/Python.framework/Versions/3.10/lib/python3.10/site-packages/genderComputer-0.1-py3.10.egg/genderComputer/../nameLists/gender.dict\n",
      "Finished initialization\n"
     ]
    },
    {
     "name": "stderr",
     "output_type": "stream",
     "text": [
      " 83%|████████▎ | 130/157 [44:39<08:05, 17.98s/it]"
     ]
    },
    {
     "name": "stdout",
     "output_type": "stream",
     "text": [
      "Loaded dictionary from /Library/Frameworks/Python.framework/Versions/3.10/lib/python3.10/site-packages/genderComputer-0.1-py3.10.egg/genderComputer/../nameLists/gender.dict\n"
     ]
    },
    {
     "name": "stderr",
     "output_type": "stream",
     "text": [
      " 83%|████████▎ | 131/157 [44:40<05:32, 12.78s/it]"
     ]
    },
    {
     "name": "stdout",
     "output_type": "stream",
     "text": [
      "Finished initialization\n",
      "Loaded dictionary from /Library/Frameworks/Python.framework/Versions/3.10/lib/python3.10/site-packages/genderComputer-0.1-py3.10.egg/genderComputer/../nameLists/gender.dict\n",
      "Finished initialization\n"
     ]
    },
    {
     "name": "stderr",
     "output_type": "stream",
     "text": [
      " 84%|████████▍ | 132/157 [44:43<04:10, 10.04s/it]"
     ]
    },
    {
     "name": "stdout",
     "output_type": "stream",
     "text": [
      "Loaded dictionary from /Library/Frameworks/Python.framework/Versions/3.10/lib/python3.10/site-packages/genderComputer-0.1-py3.10.egg/genderComputer/../nameLists/gender.dict\n"
     ]
    },
    {
     "name": "stderr",
     "output_type": "stream",
     "text": [
      " 85%|████████▍ | 133/157 [44:44<02:53,  7.23s/it]"
     ]
    },
    {
     "name": "stdout",
     "output_type": "stream",
     "text": [
      "Finished initialization\n",
      "Loaded dictionary from /Library/Frameworks/Python.framework/Versions/3.10/lib/python3.10/site-packages/genderComputer-0.1-py3.10.egg/genderComputer/../nameLists/gender.dict\n"
     ]
    },
    {
     "name": "stderr",
     "output_type": "stream",
     "text": [
      " 85%|████████▌ | 134/157 [44:45<02:00,  5.25s/it]"
     ]
    },
    {
     "name": "stdout",
     "output_type": "stream",
     "text": [
      "Finished initialization\n",
      "Loaded dictionary from /Library/Frameworks/Python.framework/Versions/3.10/lib/python3.10/site-packages/genderComputer-0.1-py3.10.egg/genderComputer/../nameLists/gender.dict\n"
     ]
    },
    {
     "name": "stderr",
     "output_type": "stream",
     "text": [
      " 86%|████████▌ | 135/157 [44:50<01:55,  5.24s/it]"
     ]
    },
    {
     "name": "stdout",
     "output_type": "stream",
     "text": [
      "Finished initialization\n",
      "Loaded dictionary from /Library/Frameworks/Python.framework/Versions/3.10/lib/python3.10/site-packages/genderComputer-0.1-py3.10.egg/genderComputer/../nameLists/gender.dict\n",
      "Finished initialization\n"
     ]
    },
    {
     "name": "stderr",
     "output_type": "stream",
     "text": [
      " 87%|████████▋ | 136/157 [44:52<01:30,  4.32s/it]"
     ]
    },
    {
     "name": "stdout",
     "output_type": "stream",
     "text": [
      "Loaded dictionary from /Library/Frameworks/Python.framework/Versions/3.10/lib/python3.10/site-packages/genderComputer-0.1-py3.10.egg/genderComputer/../nameLists/gender.dict\n",
      "Finished initialization\n"
     ]
    },
    {
     "name": "stderr",
     "output_type": "stream",
     "text": [
      " 87%|████████▋ | 137/157 [45:32<05:00, 15.03s/it]"
     ]
    },
    {
     "name": "stdout",
     "output_type": "stream",
     "text": [
      "Loaded dictionary from /Library/Frameworks/Python.framework/Versions/3.10/lib/python3.10/site-packages/genderComputer-0.1-py3.10.egg/genderComputer/../nameLists/gender.dict\n",
      "Finished initialization\n"
     ]
    },
    {
     "name": "stderr",
     "output_type": "stream",
     "text": [
      " 88%|████████▊ | 138/157 [45:39<04:01, 12.69s/it]"
     ]
    },
    {
     "name": "stdout",
     "output_type": "stream",
     "text": [
      "Loaded dictionary from /Library/Frameworks/Python.framework/Versions/3.10/lib/python3.10/site-packages/genderComputer-0.1-py3.10.egg/genderComputer/../nameLists/gender.dict\n",
      "Finished initialization\n"
     ]
    },
    {
     "name": "stderr",
     "output_type": "stream",
     "text": [
      " 89%|████████▊ | 139/157 [46:18<06:06, 20.38s/it]"
     ]
    },
    {
     "name": "stdout",
     "output_type": "stream",
     "text": [
      "Loaded dictionary from /Library/Frameworks/Python.framework/Versions/3.10/lib/python3.10/site-packages/genderComputer-0.1-py3.10.egg/genderComputer/../nameLists/gender.dict\n",
      "Finished initialization\n"
     ]
    },
    {
     "name": "stderr",
     "output_type": "stream",
     "text": [
      " 89%|████████▉ | 140/157 [46:23<04:31, 15.99s/it]"
     ]
    },
    {
     "name": "stdout",
     "output_type": "stream",
     "text": [
      "Loaded dictionary from /Library/Frameworks/Python.framework/Versions/3.10/lib/python3.10/site-packages/genderComputer-0.1-py3.10.egg/genderComputer/../nameLists/gender.dict\n",
      "Finished initialization\n"
     ]
    },
    {
     "name": "stderr",
     "output_type": "stream",
     "text": [
      " 90%|████████▉ | 141/157 [46:51<05:12, 19.55s/it]"
     ]
    },
    {
     "name": "stdout",
     "output_type": "stream",
     "text": [
      "Loaded dictionary from /Library/Frameworks/Python.framework/Versions/3.10/lib/python3.10/site-packages/genderComputer-0.1-py3.10.egg/genderComputer/../nameLists/gender.dict\n",
      "Finished initialization\n"
     ]
    },
    {
     "name": "stderr",
     "output_type": "stream",
     "text": [
      " 90%|█████████ | 142/157 [47:30<06:20, 25.34s/it]"
     ]
    },
    {
     "name": "stdout",
     "output_type": "stream",
     "text": [
      "Loaded dictionary from /Library/Frameworks/Python.framework/Versions/3.10/lib/python3.10/site-packages/genderComputer-0.1-py3.10.egg/genderComputer/../nameLists/gender.dict\n",
      "Finished initialization\n"
     ]
    },
    {
     "name": "stderr",
     "output_type": "stream",
     "text": [
      " 91%|█████████ | 143/157 [47:40<04:49, 20.67s/it]"
     ]
    },
    {
     "name": "stdout",
     "output_type": "stream",
     "text": [
      "Loaded dictionary from /Library/Frameworks/Python.framework/Versions/3.10/lib/python3.10/site-packages/genderComputer-0.1-py3.10.egg/genderComputer/../nameLists/gender.dict\n",
      "Finished initialization\n"
     ]
    },
    {
     "name": "stderr",
     "output_type": "stream",
     "text": [
      " 92%|█████████▏| 144/157 [47:46<03:32, 16.36s/it]"
     ]
    },
    {
     "name": "stdout",
     "output_type": "stream",
     "text": [
      "Loaded dictionary from /Library/Frameworks/Python.framework/Versions/3.10/lib/python3.10/site-packages/genderComputer-0.1-py3.10.egg/genderComputer/../nameLists/gender.dict\n",
      "Finished initialization\n"
     ]
    },
    {
     "name": "stderr",
     "output_type": "stream",
     "text": [
      " 92%|█████████▏| 145/157 [47:52<02:38, 13.21s/it]"
     ]
    },
    {
     "name": "stdout",
     "output_type": "stream",
     "text": [
      "Loaded dictionary from /Library/Frameworks/Python.framework/Versions/3.10/lib/python3.10/site-packages/genderComputer-0.1-py3.10.egg/genderComputer/../nameLists/gender.dict\n",
      "Finished initialization\n"
     ]
    },
    {
     "name": "stderr",
     "output_type": "stream",
     "text": [
      " 93%|█████████▎| 146/157 [47:57<01:58, 10.79s/it]"
     ]
    },
    {
     "name": "stdout",
     "output_type": "stream",
     "text": [
      "Loaded dictionary from /Library/Frameworks/Python.framework/Versions/3.10/lib/python3.10/site-packages/genderComputer-0.1-py3.10.egg/genderComputer/../nameLists/gender.dict\n",
      "Finished initialization\n"
     ]
    },
    {
     "name": "stderr",
     "output_type": "stream",
     "text": [
      " 94%|█████████▎| 147/157 [48:01<01:25,  8.58s/it]"
     ]
    },
    {
     "name": "stdout",
     "output_type": "stream",
     "text": [
      "Loaded dictionary from /Library/Frameworks/Python.framework/Versions/3.10/lib/python3.10/site-packages/genderComputer-0.1-py3.10.egg/genderComputer/../nameLists/gender.dict\n"
     ]
    },
    {
     "name": "stderr",
     "output_type": "stream",
     "text": [
      " 94%|█████████▍| 148/157 [48:02<00:59,  6.56s/it]"
     ]
    },
    {
     "name": "stdout",
     "output_type": "stream",
     "text": [
      "Finished initialization\n",
      "Loaded dictionary from /Library/Frameworks/Python.framework/Versions/3.10/lib/python3.10/site-packages/genderComputer-0.1-py3.10.egg/genderComputer/../nameLists/gender.dict\n"
     ]
    },
    {
     "name": "stderr",
     "output_type": "stream",
     "text": [
      " 95%|█████████▍| 149/157 [48:04<00:39,  4.99s/it]"
     ]
    },
    {
     "name": "stdout",
     "output_type": "stream",
     "text": [
      "Finished initialization\n",
      "Loaded dictionary from /Library/Frameworks/Python.framework/Versions/3.10/lib/python3.10/site-packages/genderComputer-0.1-py3.10.egg/genderComputer/../nameLists/gender.dict\n",
      "Finished initialization\n"
     ]
    },
    {
     "name": "stderr",
     "output_type": "stream",
     "text": [
      " 96%|█████████▌| 150/157 [48:35<01:30, 12.88s/it]"
     ]
    },
    {
     "name": "stdout",
     "output_type": "stream",
     "text": [
      "Loaded dictionary from /Library/Frameworks/Python.framework/Versions/3.10/lib/python3.10/site-packages/genderComputer-0.1-py3.10.egg/genderComputer/../nameLists/gender.dict\n"
     ]
    },
    {
     "name": "stderr",
     "output_type": "stream",
     "text": [
      " 96%|█████████▌| 151/157 [48:42<01:06, 11.05s/it]"
     ]
    },
    {
     "name": "stdout",
     "output_type": "stream",
     "text": [
      "Finished initialization\n",
      "Loaded dictionary from /Library/Frameworks/Python.framework/Versions/3.10/lib/python3.10/site-packages/genderComputer-0.1-py3.10.egg/genderComputer/../nameLists/gender.dict\n",
      "Finished initialization\n"
     ]
    },
    {
     "name": "stderr",
     "output_type": "stream",
     "text": [
      " 97%|█████████▋| 152/157 [48:48<00:47,  9.57s/it]"
     ]
    },
    {
     "name": "stdout",
     "output_type": "stream",
     "text": [
      "Loaded dictionary from /Library/Frameworks/Python.framework/Versions/3.10/lib/python3.10/site-packages/genderComputer-0.1-py3.10.egg/genderComputer/../nameLists/gender.dict\n",
      "Finished initialization\n"
     ]
    },
    {
     "name": "stderr",
     "output_type": "stream",
     "text": [
      " 97%|█████████▋| 153/157 [49:04<00:46, 11.67s/it]"
     ]
    },
    {
     "name": "stdout",
     "output_type": "stream",
     "text": [
      "Loaded dictionary from /Library/Frameworks/Python.framework/Versions/3.10/lib/python3.10/site-packages/genderComputer-0.1-py3.10.egg/genderComputer/../nameLists/gender.dict\n"
     ]
    },
    {
     "name": "stderr",
     "output_type": "stream",
     "text": [
      " 98%|█████████▊| 154/157 [49:20<00:38, 12.98s/it]"
     ]
    },
    {
     "name": "stdout",
     "output_type": "stream",
     "text": [
      "Finished initialization\n",
      "Loaded dictionary from /Library/Frameworks/Python.framework/Versions/3.10/lib/python3.10/site-packages/genderComputer-0.1-py3.10.egg/genderComputer/../nameLists/gender.dict\n"
     ]
    },
    {
     "name": "stderr",
     "output_type": "stream",
     "text": [
      " 99%|█████████▊| 155/157 [49:22<00:18,  9.42s/it]"
     ]
    },
    {
     "name": "stdout",
     "output_type": "stream",
     "text": [
      "Finished initialization\n",
      "Loaded dictionary from /Library/Frameworks/Python.framework/Versions/3.10/lib/python3.10/site-packages/genderComputer-0.1-py3.10.egg/genderComputer/../nameLists/gender.dict\n",
      "Finished initialization\n"
     ]
    },
    {
     "name": "stderr",
     "output_type": "stream",
     "text": [
      " 99%|█████████▉| 156/157 [49:56<00:16, 16.84s/it]"
     ]
    },
    {
     "name": "stdout",
     "output_type": "stream",
     "text": [
      "Loaded dictionary from /Library/Frameworks/Python.framework/Versions/3.10/lib/python3.10/site-packages/genderComputer-0.1-py3.10.egg/genderComputer/../nameLists/gender.dict\n"
     ]
    },
    {
     "name": "stderr",
     "output_type": "stream",
     "text": [
      "100%|██████████| 157/157 [49:56<00:00, 19.09s/it]"
     ]
    },
    {
     "name": "stdout",
     "output_type": "stream",
     "text": [
      "Finished initialization\n"
     ]
    },
    {
     "name": "stderr",
     "output_type": "stream",
     "text": [
      "\n"
     ]
    }
   ],
   "source": [
    "import csv\n",
    "\n",
    "characters = {\"female_corpus\": {}, \"male_corpus\": {}}\n",
    "for file_path in tqdm(file_paths): #tqdm just displays a progress bar in the terminal\n",
    "    title = file_path.split(\"/\")[-1][:-4]\n",
    "    \n",
    "    extraction = gender_recognition(get_characters(open(file_path, encoding=\"utf8\").read()))\n",
    "    \n",
    "    characters[\"female_corpus\"][title] = {}\n",
    "    characters[\"female_corpus\"][title][\"book_title\"] = title #book title\n",
    "    characters[\"female_corpus\"][title][\"male_characters\"] = len(extraction[0])\n",
    "    characters[\"female_corpus\"][title][\"male_characters_names\"] = extraction[0] #male chars names\n",
    "    characters[\"female_corpus\"][title][\"female_characters\"] = len(extraction[1])\n",
    "    characters[\"female_corpus\"][title][\"female_characters_names\"] = extraction[1] #female chars names\n",
    "    characters[\"female_corpus\"][title][\"none\"] = len(extraction[2])\n",
    "    characters[\"female_corpus\"][title][\"unknown_gender_names\"] = extraction[2] #unknown gender names\n",
    "    characters[\"female_corpus\"][title][\"authors_sex\"] = \"female\" #author's sex\n",
    "\n",
    "with open('characters_from_female_corpus.csv', 'w', encoding='utf-8') as file:\n",
    "    fields = [\"book_title\", \"male_characters\", \"male_characters_names\", \"female_characters\", \"female_characters_names\", \"none\", \"unknown_gender_names\", \"authors_sex\"]\n",
    "    writer = csv.DictWriter(file, fieldnames=fields)\n",
    "    writer.writeheader()\n",
    "    for corpus_gender, dictionary in characters.items():\n",
    "        for k,v in dictionary.items():\n",
    "            writer.writerow(v)"
   ]
  }
 ],
 "metadata": {
  "kernelspec": {
   "display_name": "Python 3.10.0 64-bit",
   "language": "python",
   "name": "python3"
  },
  "language_info": {
   "codemirror_mode": {
    "name": "ipython",
    "version": 3
   },
   "file_extension": ".py",
   "mimetype": "text/x-python",
   "name": "python",
   "nbconvert_exporter": "python",
   "pygments_lexer": "ipython3",
   "version": "3.10.0"
  },
  "orig_nbformat": 4,
  "vscode": {
   "interpreter": {
    "hash": "aee8b7b246df8f9039afb4144a1f6fd8d2ca17a180786b69acc140d282b71a49"
   }
  }
 },
 "nbformat": 4,
 "nbformat_minor": 2
}
